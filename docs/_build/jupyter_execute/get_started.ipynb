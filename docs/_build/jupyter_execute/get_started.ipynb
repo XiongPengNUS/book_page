{
 "cells": [
  {
   "cell_type": "markdown",
   "id": "84525c90",
   "metadata": {},
   "source": [
    "# Get Started\n",
    "\n",
    "RSOME, an open-source algebraic library, specializes in modeling generic optimization problems within uncertain environments. Offering a highly readable and mathematically intuitive modeling environment, RSOME is rooted in the state-of-the-art robust stochastic optimization framework.\n",
    "\n",
    "This guide serves as an introduction to the principal components, fundamental data structures, and syntax rules inherent to the RSOME package. For installation details, please refer to [](install.ipynb) for comprehensive information.\n",
    "\n",
    "## Modeling Environments\n",
    "The RSOME package encompasses two key modules designed for formulating optimization problems within uncertain contexts:\n",
    "\n",
    "- The `ro` module is a specialized modeling framework tailored for robust optimization problems. It equips users with modeling tools explicitly crafted for creating uncertainty sets and defining affine decision rules in multi-stage decision-making scenarios.\n",
    "\n",
    "- The `dro` module builds upon the distributionally robust optimization framework introduced by Chen et al. (2020). This module offers modeling tools for constructing event-wise ambiguity sets and specifying event-wise adaptation policies."
   ]
  },
  {
   "cell_type": "code",
   "execution_count": null,
   "id": "41b9cc94",
   "metadata": {},
   "outputs": [],
   "source": []
  }
 ],
 "metadata": {
  "kernelspec": {
   "display_name": "Python 3 (ipykernel)",
   "language": "python",
   "name": "python3"
  },
  "language_info": {
   "codemirror_mode": {
    "name": "ipython",
    "version": 3
   },
   "file_extension": ".py",
   "mimetype": "text/x-python",
   "name": "python",
   "nbconvert_exporter": "python",
   "pygments_lexer": "ipython3",
   "version": "3.10.11"
  },
  "varInspector": {
   "cols": {
    "lenName": 16,
    "lenType": 16,
    "lenVar": 40
   },
   "kernels_config": {
    "python": {
     "delete_cmd_postfix": "",
     "delete_cmd_prefix": "del ",
     "library": "var_list.py",
     "varRefreshCmd": "print(var_dic_list())"
    },
    "r": {
     "delete_cmd_postfix": ") ",
     "delete_cmd_prefix": "rm(",
     "library": "var_list.r",
     "varRefreshCmd": "cat(var_dic_list()) "
    }
   },
   "types_to_exclude": [
    "module",
    "function",
    "builtin_function_or_method",
    "instance",
    "_Feature"
   ],
   "window_display": false
  }
 },
 "nbformat": 4,
 "nbformat_minor": 5
}