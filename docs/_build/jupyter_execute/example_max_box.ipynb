{
 "cells": [
  {
   "cell_type": "markdown",
   "id": "bd8bcf83",
   "metadata": {},
   "source": [
    "(max_box:title)=\n",
    "# Box with the Maximum Volume\n",
    "\n",
    "Here, we attempt to optimize the shape of a box, in terms of its width \\\\(w\\\\), height \\\\(h\\\\), and depth \\\\(d\\\\), so that its volume is maximized, subject to a number of constraints. The model can be written as\n",
    "\n",
    "$$\n",
    "\\begin{align}\n",
    "\\max~& whd \\\\\n",
    "\\text{s.t.}~&2(wh + dh) \\leq A_{\\text{wall}} \\\\\n",
    "&wd \\leq A_{\\text{floor}} \\\\\n",
    "&\\alpha \\leq h/w \\leq \\beta, \\gamma \\leq d/w \\leq \\delta, \n",
    "\\end{align}\n",
    "$$\n",
    "\n",
    "where model parameters:\n",
    "- Limits on wall area $A_{\\text{wall}} = 200$,\n",
    "- Limits on floor area $A_{\\text{floor}} = 150$,\n",
    "- Limits on height-width ratio: $\\alpha=0.8$, and $\\beta=1.5$,\n",
    "- Limits on depth-width ratio: $\\gamma=0.8$, and $\\delta=1.5$.\n",
    "\n",
    "The geometric program above is reformulated as decision variables are replaced by their logarithm transformations: $x = \\log(w)$, $y = \\log(h)$, and $z = \\log(d)$, then we have\n",
    "\n",
    "$$\n",
    "\\begin{align}\n",
    "\\max~& x + y + z \\\\\n",
    "\\text{s.t.}~&2(\\exp(x + y) + \\exp(z + y)) \\leq A_{\\text{wall}} \\\\\n",
    "&\\exp(x + z) \\leq A_{\\text{floor}} \\\\\n",
    "&\\exp(x - y) \\leq \\alpha, \\exp(y - x) \\leq \\beta \\\\\n",
    "&\\exp(x - z) \\leq \\gamma, \\exp(z - x) \\leq \\delta. \\\\\n",
    "\\end{align}\n",
    "$$\n",
    "\n",
    "Such an exponential cone program can be implemented by the code below."
   ]
  },
  {
   "cell_type": "code",
   "execution_count": 13,
   "id": "16d6f510",
   "metadata": {
    "scrolled": false
   },
   "outputs": [
    {
     "name": "stdout",
     "output_type": "stream",
     "text": [
      "Being solved by Mosek...\n",
      "Solution status: Optimal\n",
      "Running time: 0.0055s\n"
     ]
    }
   ],
   "source": [
    "from rsome import ro\n",
    "from rsome import msk_solver as msk\n",
    "import rsome as rso\n",
    "import numpy as np\n",
    "\n",
    "A_wall = 200\n",
    "A_floor = 150\n",
    "alpha, beta = 0.8, 1.5\n",
    "gamma, delta = 0.8, 1.5\n",
    "\n",
    "model = ro.Model()\n",
    "x = model.dvar()\n",
    "y = model.dvar()\n",
    "z = model.dvar()\n",
    "a = model.dvar()\n",
    "b = model.dvar()\n",
    "\n",
    "model.max(x + y + z)\n",
    "model.st(rso.exp(x + y) <= a)\n",
    "model.st(rso.exp(z + y) <= b)\n",
    "model.st(2 * (a+b) <= A_wall)\n",
    "model.st(rso.exp(x + z) <= A_floor)\n",
    "model.st(rso.exp(x - y) <= alpha, rso.exp(y - x) <= beta)\n",
    "model.st(rso.exp(x - z) <= gamma, rso.exp(z - x) <= delta)\n",
    "model.solve(msk)"
   ]
  },
  {
   "cell_type": "markdown",
   "id": "f49cc732",
   "metadata": {},
   "source": [
    "Please note that RSOME does not support the summation of two or more exponential functions, such as the exponential function `rso.exp()`. This is why we introduced intermediate variables `a` and `b` to represent the epigraph of `rso.exp(x + y)` and `rso.exp(z + y)`, so that their summation can be formulated in constraints.\n",
    "\n",
    "The optimal solution is presented in the following code segment."
   ]
  },
  {
   "cell_type": "code",
   "execution_count": 14,
   "id": "8e4dc08f",
   "metadata": {},
   "outputs": [
    {
     "name": "stdout",
     "output_type": "stream",
     "text": [
      "1.732868012650267 1.95601176128049 2.138332408802994\n"
     ]
    }
   ],
   "source": [
    "print(x.get(), y.get(), z.get())"
   ]
  },
  {
   "cell_type": "code",
   "execution_count": 15,
   "id": "68405ac3",
   "metadata": {
    "scrolled": true
   },
   "outputs": [
    {
     "name": "stdout",
     "output_type": "stream",
     "text": [
      "Width:  5.6569\n",
      "Height: 7.0711\n",
      "Depth:  8.4853\n"
     ]
    }
   ],
   "source": [
    "print(f'Width:  {np.exp(x.get()):.4f}')\n",
    "print(f'Height: {np.exp(y.get()):.4f}')\n",
    "print(f'Depth:  {np.exp(z.get()):.4f}')"
   ]
  },
  {
   "cell_type": "markdown",
   "id": "b3a503c8",
   "metadata": {},
   "source": [
    "Hence the optimal width, height, and depth are 5.6569, 7.0711, and 8.4853, respectively. \n",
    "\n",
    "In this example, the exponential cone programming problem is solved by the ECOS solver. If no exponential cone solver is available, the model can be approximated by a second-order cone program, using the approach mentioned in {cite:ps}`Zhu_Xie_Sim2022joint`. The following code solves the approximated model using the second-order cone solver Gurobi."
   ]
  },
  {
   "cell_type": "code",
   "execution_count": 7,
   "id": "95c3fb44",
   "metadata": {
    "scrolled": true
   },
   "outputs": [
    {
     "name": "stdout",
     "output_type": "stream",
     "text": [
      "Being solved by Gurobi...\n",
      "Solution status: 2\n",
      "Running time: 0.0117s\n"
     ]
    }
   ],
   "source": [
    "from rsome import grb_solver as grb\n",
    "\n",
    "model.soc_solve(grb)"
   ]
  },
  {
   "cell_type": "markdown",
   "id": "d529fa42",
   "metadata": {},
   "source": [
    "The approximated solution is very close to the exact solution."
   ]
  },
  {
   "cell_type": "code",
   "execution_count": 5,
   "id": "f9100cf0",
   "metadata": {
    "scrolled": false
   },
   "outputs": [
    {
     "name": "stdout",
     "output_type": "stream",
     "text": [
      "1.7329191523155112 1.9560630196440272 2.138378987299716\n"
     ]
    }
   ],
   "source": [
    "print(x.get(), y.get(), z.get())"
   ]
  },
  {
   "cell_type": "code",
   "execution_count": 6,
   "id": "fee507da",
   "metadata": {
    "scrolled": true
   },
   "outputs": [
    {
     "name": "stdout",
     "output_type": "stream",
     "text": [
      "Width:  5.6571\n",
      "Height: 7.0714\n",
      "Depth:  8.4857\n"
     ]
    }
   ],
   "source": [
    "print(f'Width:  {np.exp(x.get()):.4f}')\n",
    "print(f'Height: {np.exp(y.get()):.4f}')\n",
    "print(f'Depth:  {np.exp(z.get()):.4f}')"
   ]
  },
  {
   "cell_type": "markdown",
   "id": "2ed04881",
   "metadata": {},
   "source": [
    "<br>\n",
    "\n",
    "---\n",
    "\n",
    "<font size=\"5\">Reference</font>\n",
    "\n",
    "```{bibliography}\n",
    ":filter: docname in docnames\n",
    "```"
   ]
  }
 ],
 "metadata": {
  "kernelspec": {
   "display_name": "Python 3 (ipykernel)",
   "language": "python",
   "name": "python3"
  },
  "language_info": {
   "codemirror_mode": {
    "name": "ipython",
    "version": 3
   },
   "file_extension": ".py",
   "mimetype": "text/x-python",
   "name": "python",
   "nbconvert_exporter": "python",
   "pygments_lexer": "ipython3",
   "version": "3.10.11"
  },
  "varInspector": {
   "cols": {
    "lenName": 16,
    "lenType": 16,
    "lenVar": 40
   },
   "kernels_config": {
    "python": {
     "delete_cmd_postfix": "",
     "delete_cmd_prefix": "del ",
     "library": "var_list.py",
     "varRefreshCmd": "print(var_dic_list())"
    },
    "r": {
     "delete_cmd_postfix": ") ",
     "delete_cmd_prefix": "rm(",
     "library": "var_list.r",
     "varRefreshCmd": "cat(var_dic_list()) "
    }
   },
   "types_to_exclude": [
    "module",
    "function",
    "builtin_function_or_method",
    "instance",
    "_Feature"
   ],
   "window_display": false
  }
 },
 "nbformat": 4,
 "nbformat_minor": 5
}