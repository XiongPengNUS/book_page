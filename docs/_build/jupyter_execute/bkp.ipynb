{
 "cells": [
  {
   "cell_type": "markdown",
   "id": "abca695b",
   "metadata": {},
   "source": [
    "# RSOME in Python\n",
    "\n",
    "## Introduction\n",
    "\n",
    "RSOME (Robust Stochastic Optimization Made Easy) is an open-source Python package for modeling generic optimization problems. Models in RSOME are constructed by variables, constraints, and expressions that are formatted as N-dimensional arrays. These arrays are consistent with the NumPy library in terms of syntax and operations, including broadcasting, indexing, slicing, element-wise operations, and matrix calculation rules, among others. It provides a convenient platform to facilitate developments of optimization models and their applications.\n",
    "\n",
    "If you use RSOME in your research work, we would encourage you to cite our papers below.\n",
    "\n",
    "````{dropdown} Zhi Chen and Peng Xiong. RSOME in Python: an open-source package for robust stochastic optimization made easy. INFORMS Journal of Computing, 35(4):717–724, 2023.\n",
    "Bibtex entry:\n",
    "```\n",
    "@article{chen2021rsome,\n",
    "  title={{RSOME} in {Python}: An open-source package for robust stochastic optimization made easy},\n",
    "  author={Chen, Zhi and Xiong, Peng},\n",
    "  journal={INFORMS Journal of Computing},\n",
    "  volume={35},\n",
    "  number={4},\n",
    "  pages={717--724},\n",
    "  year = {2023},\n",
    "  publisher={INFORMS}\n",
    "}\n",
    "```\n",
    "````\n",
    "\n",
    "````{dropdown} Zhi Chen, Melvyn Sim, and Peng Xiong. Robust stochastic optimization made easy with RSOME. Management Science, 66(8):3329–3339, 2020.\n",
    "Bibtex entry:\n",
    "```\n",
    "@article{chen2020robust,\n",
    "  title={Robust stochastic optimization made easy with RSOME},\n",
    "  author={Chen, Zhi and Sim, Melvyn and Xiong, Peng},\n",
    "  journal={Management Science},\n",
    "  volume={66},\n",
    "  number={8},\n",
    "  pages={3329--3339},\n",
    "  year={2020},\n",
    "  publisher={INFORMS}\n",
    "}\n",
    "```\n",
    "````\n",
    "\n",
    "## Installing RSOME and Solvers\n",
    "\n",
    "The RSOME package can be installed with the `pip` command:\n",
    "\n",
    "```bash\n",
    "pip install rsome\n",
    "```\n",
    "\n",
    "The current version of RSOME supports deterministic, robust optimization and distributionally robust optimization problems. In the default configuration, RSOME relies on open-source solvers imported from the `scipy.optimize` package to solve linear programming (`linprog()`) and mixed-integer linear programming (`milp()`) problems. Besides the default linear optimization solver, RSOME also provides modeling tools and interfaces for other open-source and commercial solvers that are capable of addressing more complicated optimization formats, such as second-order cone programming (SOCP), exponential cone programming (ECP), and semidefinite programming (SDP). Detailed information of all solver interfaces is presented in the following table.\n",
    "\n",
    "| Solver | License  type | Required version | RSOME interface | SOCP| ECP | SDP\n",
    "|:-------|:--------------|:-----------------|:----------------|:------------------------|:---------------------|:--------------|\n",
    "|[scipy.optimize](https://docs.scipy.org/doc/scipy/reference/optimize.html)| Open-source | >= 1.9.0 | `lpg_solver` | No | No | No |\n",
    "|[CyLP](https://github.com/coin-or/cylp)| Open-source | >= 0.9.0 | `clp_solver` | No | No | No |\n",
    "|[OR-Tools](https://developers.google.com/optimization/install) | Open-source | >= 7.5.7466 | `ort_solver` | No | No | No |\n",
    "|[ECOS](https://github.com/embotech/ecos-python) | Open-source | >= 2.0.10 | `eco_solver` | Yes | Yes | No |\n",
    "|[Gurobi](https://www.gurobi.com/documentation/9.0/quickstart_mac/ins_the_anaconda_python_di.html)| Commercial | >= 9.1.0 | `grb_solver` | Yes | No | No |\n",
    "|[Mosek](https://docs.mosek.com/9.2/pythonapi/install-interface.html) | Commercial | >= 10.0.44 | `msk_solver` | Yes | Yes | Yes |\n",
    "|[CPLEX](https://www.ibm.com/support/knowledgecenter/en/SSSA5P_12.8.0/ilog.odms.cplex.help/CPLEX/GettingStarted/topics/set_up/Python_setup.html) | Commercial | >= 12.9.0.0 | `cpx_solver` | Yes | No | No |\n",
    "|[COPT](https://www.shanshu.ai/copt) | Commercial | >= 6.5.3 | `cpt_solver` | Yes | No | No |\n",
    "\n",
    "## A Linear Programming Example\n",
    "\n",
    "The RSOME package supports specifying models using highly readable algebraic expressions that are consistent with NumPy syntax. A very simple linear program example is provided below,\n",
    "\n",
    "$$\n",
    "\\begin{align}\n",
    "\\max~&3x + 4y \\\\\n",
    "\\text{s.t.}~&2.5x + y \\leq 20 \\\\\n",
    "&5x + 3y \\leq 30 \\\\\n",
    "&x + 2y \\leq 16 \\\\\n",
    "&|y| \\leq 2,\n",
    "\\end{align}\n",
    "$$\n",
    "\n",
    "and the problem is used to illustrate the steps of solving optimization models."
   ]
  },
  {
   "cell_type": "code",
   "execution_count": 1,
   "id": "ab370d17",
   "metadata": {},
   "outputs": [
    {
     "name": "stdout",
     "output_type": "stream",
     "text": [
      "Being solved by the default LP solver...\n",
      "Solution status: 0\n",
      "Running time: 0.0049s\n"
     ]
    }
   ],
   "source": [
    "from rsome import ro                # import the ro modeling tool\n",
    "\n",
    "model = ro.Model('LP model')        # create a Model object\n",
    "x = model.dvar()                    # define a decision variable x\n",
    "y = model.dvar()                    # define a decision variable y\n",
    "\n",
    "model.max(3*x + 4*y)                # maximize the objective function\n",
    "model.st(2.5*x + y <= 20)           # specify the 1st constraints\n",
    "model.st(5*x + 3*y <= 30)           # specify the 2nd constraints\n",
    "model.st(x + 2*y <= 16)             # specify the 3rd constraints\n",
    "model.st(abs(y) <= 2)               # specify the 4th constraints\n",
    "\n",
    "model.solve()                       # solve the model by the default solver"
   ]
  },
  {
   "cell_type": "markdown",
   "id": "98d1ac30",
   "metadata": {},
   "source": [
    "In this sample code, a model object is created by calling the constructor `Model()` imported from the `rsome.ro` toolbox. Based on the model object, decision variables `x` and `y` are created by the method `dvar()`. These variables are then used in specifying the objective function and model constraints. The last step is calling the `solve()` method to solve the problem. Once the solution completes, a message showing the solution status and running time will be printed.\n",
    "\n",
    "You may find the interpretation of the solution status code of `linprog()` from the website [`scipy.optimize.linprog()`](https://docs.scipy.org/doc/scipy/reference/generated/scipy.optimize.linprog.html). The status code `0` suggests that the problem was solved to optimality (subject to tolerances), and an optimal solution is available. The optimal solution and the corresponding objective value can be attained by the `get()` method."
   ]
  },
  {
   "cell_type": "code",
   "execution_count": 2,
   "id": "c6bb32d6",
   "metadata": {
    "scrolled": true
   },
   "outputs": [
    {
     "name": "stdout",
     "output_type": "stream",
     "text": [
      "x: 4.800\n",
      "y: 2.000\n",
      "Objective: 22.400\n"
     ]
    }
   ],
   "source": [
    "print('x: {:.3f}'.format(x.get()))\n",
    "print('y: {:.3f}'.format(y.get()))\n",
    "print('Objective: {:.3f}'.format(model.get()))"
   ]
  },
  {
   "cell_type": "markdown",
   "id": "ed1f1e21",
   "metadata": {},
   "source": [
    "The example above shows that RSOME models can be formulated via straightforward and highly readable algebraic expressions, and the formulated model can be transformed into a standard form, which is then solved by the integrated solver. The basic information of the standard form can be retrieved by calling the `do_math()` method of the RSOME model object."
   ]
  },
  {
   "cell_type": "code",
   "execution_count": 3,
   "id": "2058f929",
   "metadata": {
    "scrolled": false
   },
   "outputs": [
    {
     "name": "stdout",
     "output_type": "stream",
     "text": [
      "Conic program object:\n",
      "=============================================\n",
      "Number of variables:           3\n",
      "Continuous/binaries/integers:  3/0/0\n",
      "---------------------------------------------\n",
      "Number of linear constraints:  6\n",
      "Inequalities/equalities:       6/0\n",
      "Number of coefficients:        11\n",
      "---------------------------------------------\n",
      "Number of SOC constraints:     0\n",
      "---------------------------------------------\n",
      "Number of ExpCone constraints: 0\n",
      "---------------------------------------------\n",
      "Number of PSCone constraints:  0\n",
      "\n"
     ]
    }
   ],
   "source": [
    "formula = model.do_math()\n",
    "print(formula)"
   ]
  },
  {
   "cell_type": "markdown",
   "id": "8a22e8cb",
   "metadata": {},
   "source": [
    "## About\n",
    "\n",
    "RSOME is a software project supported by Singapore Ministry of Education Tier 3 Grant Science of Prescriptive Analytics. It is primarly developed and maintained by [Zhi Chen](https://www.bschool.cuhk.edu.hk/staff/chen-zhi/), [Melvyn Sim](https://bizfaculty.nus.edu.sg/faculty-details/?profId=127), and [Peng Xiong](https://bizfaculty.nus.edu.sg/faculty-details/?profId=543). Many other researchers, including Erick Delage, Zhaowei Hao, Long He, Zhenyu Hu, Jun Jiang, Gal Perelman, Brad Sturt, Qinshen Tang, as well as anonymous users and paper reviewers, have helped greatly in the way of developing RSOME."
   ]
  },
  {
   "cell_type": "code",
   "execution_count": null,
   "id": "722114c0",
   "metadata": {},
   "outputs": [],
   "source": []
  }
 ],
 "metadata": {
  "kernelspec": {
   "display_name": "Python 3 (ipykernel)",
   "language": "python",
   "name": "python3"
  },
  "language_info": {
   "codemirror_mode": {
    "name": "ipython",
    "version": 3
   },
   "file_extension": ".py",
   "mimetype": "text/x-python",
   "name": "python",
   "nbconvert_exporter": "python",
   "pygments_lexer": "ipython3",
   "version": "3.10.11"
  },
  "varInspector": {
   "cols": {
    "lenName": 16,
    "lenType": 16,
    "lenVar": 40
   },
   "kernels_config": {
    "python": {
     "delete_cmd_postfix": "",
     "delete_cmd_prefix": "del ",
     "library": "var_list.py",
     "varRefreshCmd": "print(var_dic_list())"
    },
    "r": {
     "delete_cmd_postfix": ") ",
     "delete_cmd_prefix": "rm(",
     "library": "var_list.r",
     "varRefreshCmd": "cat(var_dic_list()) "
    }
   },
   "types_to_exclude": [
    "module",
    "function",
    "builtin_function_or_method",
    "instance",
    "_Feature"
   ],
   "window_display": false
  }
 },
 "nbformat": 4,
 "nbformat_minor": 5
}