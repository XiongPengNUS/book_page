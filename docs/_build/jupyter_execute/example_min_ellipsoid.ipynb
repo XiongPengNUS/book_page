{
 "cells": [
  {
   "cell_type": "markdown",
   "id": "7e10cb93",
   "metadata": {},
   "source": [
    "(min_ellipsoid:title)=\n",
    "# Minimal Enclosing Ellipsoid\n",
    "\n",
    "In this example, we consider a polytope given as the convex hull of \\\\(m\\\\) of data points,\n",
    "\n",
    "$$\n",
    "S = \\text{conv}\\left\\{\\pmb{x}_1, \\pmb{x}_2, ..., \\pmb{x}_m\\right\\}, ~~~\\pmb{x}_i \\in \\mathbb{R}^n.\n",
    "$$\n",
    "\n",
    "The polytope is enclosed in the following ellipsoid\n",
    "\n",
    "$$\n",
    "\\mathcal{E} := \\left\\{\\pmb{x}\\left|\\|\\pmb{Px} - \\pmb{c}\\|_2 \\leq 1 \\right.\\right\\},\n",
    "$$\n",
    "\n",
    "where $\\pmb{P}$ and $\\pmb{c}$ are the coefficients of the ellipsoid. According to [MOSEK Modeling Cookbook](https://docs.mosek.com/MOSEKModelingCookbook-letter.pdf), the minimum-volume enclosing ellipsoid can be achieved via solving the solving semidefinite programming problem.\n",
    "\n",
    "$$\n",
    "\\begin{align}\n",
    "\\max~&\\text{det}(\\pmb{P}) \\\\\n",
    "\\text{s.t.}~&\\|\\pmb{Px}_i - \\pmb{c}\\|_2 \\leq 1, &i=1, 2, ..., m \\\\\n",
    "&\\pmb{P} \\succeq 0.\n",
    "\\end{align}\n",
    "$$\n",
    "\n",
    "The function \\\\(\\text{det}(\\cdot)\\\\) indicates the determinant of a given matrix, which is either convex or concave, but the logarithm of the determinant is concave, and maximizing $\\log(\\text{det}(\\pmb{P}))$ can be approximated by the following conic programming problem:\n",
    "\n",
    "$$\n",
    "\\begin{align}\n",
    "\\max~&\\sum\\limits_{i=1}^n v_i \\\\\n",
    "\\text{s.t.}~&v_i \\leq \\log(Z_{ii}), &i=1, 2, ..., n\\\\\n",
    "&\\left(\n",
    "\\begin{array}{cc}\n",
    "\\pmb{P} & \\pmb{Z} \\\\\n",
    "\\pmb{Z} & \\text{diag}(\\pmb{Z})\n",
    "\\end{array}\n",
    "\\right) \\succeq 0 \\\\\n",
    "&\\pmb{Z}\\text{ if lower triangular}.\n",
    "\\end{align}\n",
    "$$\n",
    "\n",
    "Therefore, the minimum-volume enclosing ellipsoid problem can be rewritten as follows.\n",
    "\n",
    "$$\n",
    "\\begin{align}\n",
    "\\max~&\\sum\\limits_{i=1}^n v_i \\\\\n",
    "\\text{s.t.}~&v_i \\leq \\log(Z_{ii}), &i=1, 2, ..., n\\\\\n",
    "&\\left(\n",
    "\\begin{array}{cc}\n",
    "\\pmb{P} & \\pmb{Z} \\\\\n",
    "\\pmb{Z} & \\text{diag}(\\pmb{Z})\n",
    "\\end{array}\n",
    "\\right) \\succeq 0 \\\\\n",
    "&\\|\\pmb{Px}_i - \\pmb{c}\\|_2 \\leq 1, &i=1, 2, ..., m \\\\\n",
    "&\\pmb{P} \\succeq 0 \\\\\n",
    "&\\pmb{Z}\\text{ if lower triangular}.\n",
    "\\end{align}\n",
    "$$\n",
    "\n",
    "In the following numerical experiments, the data points are randomly generated with \\\\(n=2\\\\) and \\\\(m=50\\\\) by the code segment below."
   ]
  },
  {
   "cell_type": "code",
   "execution_count": 1,
   "id": "b12c8827",
   "metadata": {},
   "outputs": [],
   "source": [
    "import numpy as np\n",
    "\n",
    "n = 2\n",
    "m = 50\n",
    "\n",
    "np.random.seed(1)\n",
    "xs = np.random.randn(m, n)\n",
    "xs[:, 1] = xs[:, 0]*0.08 + xs[:, 1]"
   ]
  },
  {
   "cell_type": "markdown",
   "id": "158d2e5c",
   "metadata": {},
   "source": [
    "The Python code for implementing the model above is presented below."
   ]
  },
  {
   "cell_type": "code",
   "execution_count": 2,
   "id": "8e9d595e",
   "metadata": {
    "scrolled": true
   },
   "outputs": [
    {
     "name": "stdout",
     "output_type": "stream",
     "text": [
      "Being solved by Mosek...\n",
      "Solution status: Optimal\n",
      "Running time: 0.0270s\n"
     ]
    }
   ],
   "source": [
    "from rsome import ro\n",
    "from rsome import msk_solver as msk\n",
    "import rsome as rso\n",
    "\n",
    "model = ro.Model()\n",
    "\n",
    "P = model.dvar((n, n))\n",
    "c = model.dvar(n)\n",
    "Z = rso.tril(model.dvar((n, n)))\n",
    "v = model.dvar(n)\n",
    "\n",
    "model.max(v.sum())\n",
    "model.st(v <= rso.log(rso.diag(Z)))\n",
    "model.st(rso.rstack([P, Z], \n",
    "                    [Z.T, rso.diag(Z, fill=True)]) >> 0)\n",
    "for i in range(m):\n",
    "    model.st(rso.norm(P@xs[i] - c) <= 1)\n",
    "model.st(P >> 0)\n",
    "\n",
    "model.solve(msk)"
   ]
  },
  {
   "cell_type": "markdown",
   "id": "388a2fa6",
   "metadata": {},
   "source": [
    "The boundary of the ellipsoid is achieved by the following code using the solution of $\\pmb{P}$ and $\\pmb{c}$."
   ]
  },
  {
   "cell_type": "code",
   "execution_count": 3,
   "id": "7188c9b7",
   "metadata": {},
   "outputs": [],
   "source": [
    "Ps = P.get()\n",
    "cs = c.get()\n",
    "\n",
    "step = 0.01\n",
    "t = np.arange(0, 2*np.pi+step, step)\n",
    "y = np.vstack((np.cos(t), np.sin(t))).T\n",
    "\n",
    "ellip = np.linalg.inv(Ps) @ (y + cs).T"
   ]
  },
  {
   "cell_type": "markdown",
   "id": "714e6045",
   "metadata": {},
   "source": [
    "Finally, the enclosing ellipsoid and randomly generated data points are shown below. "
   ]
  },
  {
   "cell_type": "code",
   "execution_count": 4,
   "id": "6bc9de1c",
   "metadata": {
    "scrolled": true
   },
   "outputs": [
    {
     "data": {
      "image/png": "[encoded data removed]",
      "text/plain": [
       "<Figure size 360x360 with 1 Axes>"
      ]
     },
     "metadata": {},
     "output_type": "display_data"
    }
   ],
   "source": [
    "import matplotlib.pyplot as plt\n",
    "\n",
    "plt.figure(figsize=(5, 5))\n",
    "plt.scatter(xs[:, 0], xs[:, 1], \n",
    "            marker='o', facecolor='none', color='k', label='Data points')\n",
    "plt.plot(ellip[0], ellip[1], color='b', \n",
    "         label='Minimum enclosing ellipsoid')\n",
    "plt.legend(fontsize=12, bbox_to_anchor=(1.01, 1.02))\n",
    "plt.axis('equal')\n",
    "plt.xlabel(r'$x_1$', fontsize=14)\n",
    "plt.ylabel(r'$x_2$', fontsize=14)\n",
    "plt.show()"
   ]
  },
  {
   "cell_type": "code",
   "execution_count": null,
   "id": "42d879cd",
   "metadata": {},
   "outputs": [],
   "source": []
  }
 ],
 "metadata": {
  "kernelspec": {
   "display_name": "Python 3 (ipykernel)",
   "language": "python",
   "name": "python3"
  },
  "language_info": {
   "codemirror_mode": {
    "name": "ipython",
    "version": 3
   },
   "file_extension": ".py",
   "mimetype": "text/x-python",
   "name": "python",
   "nbconvert_exporter": "python",
   "pygments_lexer": "ipython3",
   "version": "3.10.11"
  },
  "varInspector": {
   "cols": {
    "lenName": 16,
    "lenType": 16,
    "lenVar": 40
   },
   "kernels_config": {
    "python": {
     "delete_cmd_postfix": "",
     "delete_cmd_prefix": "del ",
     "library": "var_list.py",
     "varRefreshCmd": "print(var_dic_list())"
    },
    "r": {
     "delete_cmd_postfix": ") ",
     "delete_cmd_prefix": "rm(",
     "library": "var_list.r",
     "varRefreshCmd": "cat(var_dic_list()) "
    }
   },
   "types_to_exclude": [
    "module",
    "function",
    "builtin_function_or_method",
    "instance",
    "_Feature"
   ],
   "window_display": false
  }
 },
 "nbformat": 4,
 "nbformat_minor": 5
}