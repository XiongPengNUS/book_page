{
 "cells": [
  {
   "cell_type": "markdown",
   "id": "bf48b7ad",
   "metadata": {},
   "source": [
    "# System Data"
   ]
  },
  {
   "cell_type": "code",
   "execution_count": 1,
   "id": "e66cdabe",
   "metadata": {},
   "outputs": [],
   "source": [
    "import numpy as np\n",
    "import pandas as pd\n",
    "from scipy.sparse import coo_matrix"
   ]
  },
  {
   "cell_type": "code",
   "execution_count": 2,
   "id": "ec4266ca",
   "metadata": {},
   "outputs": [],
   "source": [
    "np.set_printoptions(linewidth=200, precision=4)"
   ]
  },
  {
   "cell_type": "code",
   "execution_count": 3,
   "id": "2b0ef7c7",
   "metadata": {},
   "outputs": [],
   "source": [
    "file = 'case39.xlsx'\n",
    "\n",
    "bus = pd.read_excel(file, sheet_name='bus')\n",
    "gen = pd.read_excel(file, sheet_name='gen')\n",
    "branch = pd.read_excel(file, sheet_name='branch')"
   ]
  },
  {
   "cell_type": "code",
   "execution_count": 4,
   "id": "e0802019",
   "metadata": {},
   "outputs": [],
   "source": [
    "def make_ybus(bus, branch, baseMVA=100, dense=False):\n",
    "\n",
    "    nbus = len(bus)\n",
    "    nline = len(branch)\n",
    "\n",
    "    stat = branch['status'].values\n",
    "    ys = stat / (branch['r'].values + 1j*branch['x'].values)\n",
    "    bc = stat * branch['b'].values\n",
    "\n",
    "    tap = np.array([1 if ratio == 0 else ratio for ratio in branch['ratio']])\n",
    "    tap = tap * np.exp(1j*np.pi/180 * branch['angle'].values)\n",
    "\n",
    "    ytt = ys + 1j*bc*0.5\n",
    "    yff = ytt / (tap * np.conj(tap))\n",
    "    yft = - ys / np.conj(tap)\n",
    "    ytf = - ys / tap\n",
    "\n",
    "    ysh = (bus['Gs'].values + 1j*bus['Bs'].values) / baseMVA\n",
    "\n",
    "\n",
    "    idx_line = np.arange(nline)\n",
    "    idx_bus = np.arange(nbus)\n",
    "    idx_from = branch['fbus'].values - 1\n",
    "    idx_to = branch['tbus'].values - 1\n",
    "    \n",
    "    cf = coo_matrix((np.ones(nline), (idx_line, idx_from)), shape=(nline, nbus))\n",
    "    ct = coo_matrix((np.ones(nline), (idx_line, idx_to)), shape=(nline, nbus))\n",
    "    yff_mat = coo_matrix((yff, (idx_line, idx_line)), shape=(nline, nline))\n",
    "    yft_mat = coo_matrix((yft, (idx_line, idx_line)), shape=(nline, nline))\n",
    "    ytf_mat = coo_matrix((ytf, (idx_line, idx_line)), shape=(nline, nline))\n",
    "    ytt_mat = coo_matrix((ytt, (idx_line, idx_line)), shape=(nline, nline))\n",
    "\n",
    "    yfrom = yff_mat@cf + yft_mat@ct\n",
    "    yto = ytf_mat@cf + ytt_mat@ct\n",
    "\n",
    "    ybus = cf.T@yfrom + ct.T@yto + coo_matrix((ysh, (idx_bus, idx_bus)), shape=(nbus, nbus))\n",
    "\n",
    "    if not dense:\n",
    "        return ybus\n",
    "    else:\n",
    "        return ybus.toarray()"
   ]
  },
  {
   "cell_type": "code",
   "execution_count": 5,
   "id": "8b641352",
   "metadata": {
    "scrolled": true
   },
   "outputs": [],
   "source": [
    "Ybus = make_ybus(bus, branch, dense=True)"
   ]
  },
  {
   "cell_type": "code",
   "execution_count": 6,
   "id": "91c38f5c",
   "metadata": {},
   "outputs": [],
   "source": [
    "baseMVA = 100\n",
    "\n",
    "nbus = len(bus)\n",
    "nline = len(branch)\n",
    "ngen = len(gen)\n",
    "\n",
    "Pd = bus['Pd'].values / baseMVA\n",
    "Qd = bus['Qd'].values / baseMVA\n",
    "Vmin = bus['Vmin'].values\n",
    "Vmax = bus['Vmax'].values\n",
    "\n",
    "gcost = gen['Cost'].values\n",
    "Qmin = gen['Qmin'].values / baseMVA\n",
    "Qmax = gen['Qmax'].values / baseMVA\n",
    "Pmin = gen['Pmin'].values / baseMVA\n",
    "Pmax = gen['Pmax'].values / baseMVA\n",
    "\n",
    "Ibg = coo_matrix((np.ones(ngen), (gen['bus'].values-1, np.arange(ngen))), \n",
    "                 shape=(nbus, ngen)).toarray()\n",
    "delta = {i: list(branch.loc[branch['tbus'] == i+1, 'fbus'] - 1) + list(branch.loc[branch['fbus'] == i+1, 'tbus'] - 1) \n",
    "         for i in range(nbus)}\n",
    "idx_from = branch['fbus'].values - 1\n",
    "idx_to = branch['tbus'].values - 1\n",
    "G = Ybus.real\n",
    "B = Ybus.imag\n",
    "Amax = branch['angmax'].values * np.pi / 180\n",
    "Amin = branch['angmin'].values * np.pi / 180\n",
    "Tmax = branch['rateA'].values / baseMVA"
   ]
  },
  {
   "cell_type": "markdown",
   "id": "d75d88df",
   "metadata": {},
   "source": [
    "# Modeling and Solution"
   ]
  },
  {
   "cell_type": "code",
   "execution_count": 7,
   "id": "64776fe2",
   "metadata": {},
   "outputs": [],
   "source": [
    "import rsome as rso\n",
    "from rsome import ro\n",
    "from rsome import msk_solver as msk\n",
    "from rsome import grb_solver as grb\n",
    "import matplotlib.pyplot as plt"
   ]
  },
  {
   "cell_type": "markdown",
   "id": "94a1e875",
   "metadata": {},
   "source": [
    "## McCormick Relaxation"
   ]
  },
  {
   "cell_type": "code",
   "execution_count": 8,
   "id": "17725fd0",
   "metadata": {},
   "outputs": [],
   "source": [
    "def mc_envolope(w, x, y, xb, yb):\n",
    "    \n",
    "    return (w >= yb[0]*x + xb[0]*y - xb[0]*yb[0],\n",
    "            w >= yb[1]*x + xb[1]*y - xb[1]*yb[1],\n",
    "            w <= yb[0]*x + xb[1]*y - xb[1]*yb[0],\n",
    "            w <= yb[1]*x + xb[0]*y - xb[0]*yb[1])"
   ]
  },
  {
   "cell_type": "code",
   "execution_count": 9,
   "id": "6a677580",
   "metadata": {
    "scrolled": true
   },
   "outputs": [
    {
     "name": "stdout",
     "output_type": "stream",
     "text": [
      "Being solved by Mosek...\n",
      "Solution status: Optimal\n",
      "Running time: 0.0416s\n"
     ]
    }
   ],
   "source": [
    "model = ro.Model()\n",
    "\n",
    "p = model.dvar(ngen)\n",
    "q = model.dvar(ngen)\n",
    "\n",
    "c = model.dvar((nbus, nbus))\n",
    "s = model.dvar((nbus, nbus))\n",
    "C = model.dvar((nbus, nbus))\n",
    "S = model.dvar((nbus, nbus))\n",
    "D = model.dvar((nbus, nbus))\n",
    "v = model.dvar((nline, 2))\n",
    "\n",
    "\n",
    "cost = gen['Cost'].values\n",
    "model.min(cost@(p*baseMVA))                                                       # Total cost of real power\n",
    "\n",
    "pg = Ibg@p                                                                        # Real power at each bus\n",
    "qg = Ibg@q                                                                        # Reactive power at each bus\n",
    "for i in range(nbus):\n",
    "    j = delta[i]                                                                  # Set of neighboring buses of bus i\n",
    "    cii = c[i, i]\n",
    "    cij = c[i, j]\n",
    "    sij = s[i, j]\n",
    "    \n",
    "    model.st(pg[i] - Pd[i] == G[i, i]*cii + (G[i, j]*cij - B[i, j]*sij).sum())    # Real power balance\n",
    "    model.st(qg[i] - Qd[i] == -B[i, i]*cii + (-B[i, j]*cij - G[i, j]*sij).sum())  # Reactive power balance\n",
    "    model.st(cii >= Vmin[i]**2, cii <= Vmax[i]**2)                                # Ranges of volatage magnitudes\n",
    "\n",
    "for k, (i, j) in enumerate(zip(idx_from, idx_to)):\n",
    "    cij, cji = c[i, j], c[j, i]\n",
    "    sij, sji = s[i, j], s[j, i]\n",
    "    cii, cjj = c[i, i], c[j, j]\n",
    "    \n",
    "    model.st(cij == cji, sij == -sji)                                             # Symmetry of matrices c and s\n",
    "    \n",
    "    model.st(C[i, j] + S[i, j] == D[i, j])\n",
    "    model.st(cij >= - Vmax[i]*Vmax[j], cij <= Vmax[i]*Vmax[j])\n",
    "    model.st(sij >= - Vmax[i]*Vmax[j], sij <= Vmax[i]*Vmax[j])\n",
    "    \n",
    "    model.st(mc_envolope(C[i, j], cij, cij, \n",
    "                         [-Vmax[i]*Vmax[j], Vmax[i]*Vmax[j]], \n",
    "                         [-Vmax[i]*Vmax[j], Vmax[i]*Vmax[j]]))\n",
    "    model.st(mc_envolope(S[i, j], sij, sij, \n",
    "                         [-Vmax[i]*Vmax[j], Vmax[i]*Vmax[j]], \n",
    "                         [-Vmax[i]*Vmax[j], Vmax[i]*Vmax[j]]))\n",
    "    model.st(mc_envolope(D[i, j], cii, cjj, \n",
    "                         [-Vmax[i]*Vmax[i], Vmax[i]*Vmax[i]], \n",
    "                         [-Vmax[j]*Vmax[j], Vmax[j]*Vmax[j]]))\n",
    "    model.st(C[i, j] >= 0, S[i, j] >= 0)\n",
    "    \n",
    "    model.st(np.tan(Amin[k])*cij <= sij, sij <= np.tan(Amax[k])*cij)              # Ranges of voltage angles\n",
    "    \n",
    "    model.st(v[k, 0] == -G[i, j]*cii + G[i, j]*cij - B[i, j]*sij)\n",
    "    model.st(v[k, 1] == B[i, j]*cii - B[i, j]*cij - G[i, j]*sij)\n",
    "    model.st(rso.sumsqr(v[k]) <= Tmax[k]**2)\n",
    "    \n",
    "model.st(Pmin <= p, p <= Pmax)                                                    # Ranges of real power\n",
    "model.st(Qmin <= q, q <= Qmax)                                                    # Ranges of reactive power\n",
    "\n",
    "model.solve(msk)                                                                  # Solve the SOCP model"
   ]
  },
  {
   "cell_type": "code",
   "execution_count": 10,
   "id": "6b53d40b",
   "metadata": {},
   "outputs": [
    {
     "data": {
      "text/plain": [
       "array([[0.8836, 0.8687, 0.    , ..., 0.    , 0.    , 0.8954],\n",
       "       [0.8687, 1.0365, 1.0262, ..., 0.    , 0.    , 0.    ],\n",
       "       [0.    , 1.0262, 1.0246, ..., 0.    , 0.    , 0.    ],\n",
       "       ...,\n",
       "       [0.    , 0.    , 0.    , ..., 0.8836, 0.    , 0.    ],\n",
       "       [0.    , 0.    , 0.    , ..., 0.    , 0.8836, 0.    ],\n",
       "       [0.8954, 0.    , 0.    , ..., 0.    , 0.    , 0.8836]])"
      ]
     },
     "execution_count": 10,
     "metadata": {},
     "output_type": "execute_result"
    }
   ],
   "source": [
    "c()"
   ]
  },
  {
   "cell_type": "code",
   "execution_count": 11,
   "id": "7334c06c",
   "metadata": {},
   "outputs": [
    {
     "name": "stdout",
     "output_type": "stream",
     "text": [
      "Conic program object:\n",
      "=============================================\n",
      "Number of variables:           7948\n",
      "Continuous/binaries/integers:  7948/0/0\n",
      "---------------------------------------------\n",
      "Number of linear constraints:  1183\n",
      "Inequalities/equalities:       691/492\n",
      "Number of coefficients:        2837\n",
      "---------------------------------------------\n",
      "Number of SOC constraints:     46\n",
      "---------------------------------------------\n",
      "Number of ExpCone constraints: 0\n",
      "---------------------------------------------\n",
      "Number of PSCone constraints:  0\n",
      "\n"
     ]
    },
    {
     "data": {
      "text/plain": [
       "96490.93929120664"
      ]
     },
     "execution_count": 11,
     "metadata": {},
     "output_type": "execute_result"
    }
   ],
   "source": [
    "print(model.do_math())\n",
    "model.get()"
   ]
  },
  {
   "cell_type": "code",
   "execution_count": 12,
   "id": "e782dbd4",
   "metadata": {
    "scrolled": true
   },
   "outputs": [],
   "source": [
    "pmc, qmc = p.get(), q.get()"
   ]
  },
  {
   "cell_type": "markdown",
   "id": "7c871f3c",
   "metadata": {},
   "source": [
    "## SDP Relaxation"
   ]
  },
  {
   "cell_type": "code",
   "execution_count": 13,
   "id": "d4045fdb",
   "metadata": {
    "scrolled": false
   },
   "outputs": [
    {
     "name": "stdout",
     "output_type": "stream",
     "text": [
      "Being solved by Mosek...\n",
      "Solution status: Optimal\n",
      "Running time: 2.6310s\n"
     ]
    }
   ],
   "source": [
    "model = ro.Model()\n",
    "\n",
    "p = model.dvar(ngen)\n",
    "q = model.dvar(ngen)\n",
    "\n",
    "W = model.dvar((2*nbus, 2*nbus))\n",
    "v = model.dvar((nline, 2))\n",
    "\n",
    "cost = gen['Cost'].values\n",
    "model.min(cost@(p*baseMVA))                                                       # Total cost of real power\n",
    "\n",
    "pg = Ibg@p                                                                        # Real power at each bus\n",
    "qg = Ibg@q                                                                        # Reactive power at each bus\n",
    "for i in range(nbus):\n",
    "    j = delta[i]                                                                  # Set of neighboring buses of bus i\n",
    "    ip, jp = i + nbus, np.array(j) + nbus\n",
    "    cii = W[i, i] + W[ip, ip]\n",
    "    cij = W[i, j] + W[ip, jp]\n",
    "    sij = W[i, jp] - W[j, ip]\n",
    "    \n",
    "    model.st(pg[i] - Pd[i] == G[i, i]*cii + (G[i, j]*cij - B[i, j]*sij).sum())    # Real power balance\n",
    "    model.st(qg[i] - Qd[i] == -B[i, i]*cii + (-B[i, j]*cij - G[i, j]*sij).sum())  # Reactive power balance\n",
    "    model.st(cii >= Vmin[i]**2, cii <= Vmax[i]**2)                                # Ranges of volatage magnitudes\n",
    "\n",
    "    \n",
    "for k, (i, j) in enumerate(zip(idx_from, idx_to)):\n",
    "    ip, jp = i + nbus, j + nbus\n",
    "    cii = W[i, i] + W[ip, ip]\n",
    "    cij = W[i, j] + W[ip, jp]\n",
    "    sij = W[i, jp] - W[j, ip]\n",
    "    \n",
    "    model.st(np.tan(Amin[k])*cij <= sij, sij <= np.tan(Amax[k])*cij)              # Ranges of voltage angles\n",
    "    \n",
    "    model.st(v[k, 0] == -G[i, j]*cii + G[i, j]*cij - B[i, j]*sij)\n",
    "    model.st(v[k, 1] == B[i, j]*cii - B[i, j]*cij - G[i, j]*sij)\n",
    "    #v = rso.concat(((-G[i, j]*cii + G[i, j]*cij - B[i, j]*sij)[None, :], \n",
    "    #                (B[i, j]*cii - B[i, j]*cij - G[i, j]*sij)[None, :]))\n",
    "    model.st(rso.sumsqr(v[k]) <= Tmax[k]**2)\n",
    "\n",
    "model.st(W >> 0)\n",
    "    \n",
    "model.st(Pmin <= p, p <= Pmax)                                                    # Ranges of real power\n",
    "model.st(Qmin <= q, q <= Qmax)                                                    # Ranges of reactive power\n",
    "\n",
    "model.solve(msk)                                                                  # Solve the SDP model"
   ]
  },
  {
   "cell_type": "code",
   "execution_count": 14,
   "id": "28b1d336",
   "metadata": {},
   "outputs": [
    {
     "name": "stdout",
     "output_type": "stream",
     "text": [
      "Conic program object:\n",
      "=============================================\n",
      "Number of variables:           6427\n",
      "Continuous/binaries/integers:  6427/0/0\n",
      "---------------------------------------------\n",
      "Number of linear constraints:  6655\n",
      "Inequalities/equalities:       217/6438\n",
      "Number of coefficients:        14453\n",
      "---------------------------------------------\n",
      "Number of SOC constraints:     46\n",
      "---------------------------------------------\n",
      "Number of ExpCone constraints: 0\n",
      "---------------------------------------------\n",
      "Number of PSCone constraints:  1\n",
      "\n"
     ]
    },
    {
     "data": {
      "text/plain": [
       "138245.37319098628"
      ]
     },
     "execution_count": 14,
     "metadata": {},
     "output_type": "execute_result"
    }
   ],
   "source": [
    "print(model.do_math())\n",
    "model.get()"
   ]
  },
  {
   "cell_type": "code",
   "execution_count": 15,
   "id": "98475546",
   "metadata": {},
   "outputs": [],
   "source": [
    "psdp, qsdp = p.get(), q.get()"
   ]
  },
  {
   "cell_type": "markdown",
   "id": "2b2b6fa6",
   "metadata": {},
   "source": [
    "## SOCP Relaxation"
   ]
  },
  {
   "cell_type": "code",
   "execution_count": 16,
   "id": "37584cac",
   "metadata": {
    "scrolled": false
   },
   "outputs": [
    {
     "name": "stdout",
     "output_type": "stream",
     "text": [
      "Being solved by Mosek...\n",
      "Solution status: Optimal\n",
      "Running time: 0.0263s\n"
     ]
    }
   ],
   "source": [
    "model = ro.Model()\n",
    "\n",
    "p = model.dvar(ngen)\n",
    "q = model.dvar(ngen)\n",
    "\n",
    "c = model.dvar((nbus, nbus))\n",
    "s = model.dvar((nbus, nbus))\n",
    "w = model.dvar((nline, 2))\n",
    "v = model.dvar((nline, 2))\n",
    "\n",
    "\n",
    "cost = gen['Cost'].values\n",
    "model.min(cost@(p*baseMVA))                                                       # Total cost of real power\n",
    "\n",
    "pg = Ibg@p                                                                        # Real power at each bus\n",
    "qg = Ibg@q                                                                        # Reactive power at each bus\n",
    "for i in range(nbus):\n",
    "    j = delta[i]                                                                  # Set of neighboring buses of bus i\n",
    "    cii = c[i, i]\n",
    "    cij = c[i, j]\n",
    "    sij = s[i, j]\n",
    "    \n",
    "    model.st(pg[i] - Pd[i] == G[i, i]*cii + (G[i, j]*cij - B[i, j]*sij).sum())    # Real power balance\n",
    "    model.st(qg[i] - Qd[i] == -B[i, i]*cii + (-B[i, j]*cij - G[i, j]*sij).sum())  # Reactive power balance\n",
    "    model.st(cii >= Vmin[i]**2, cii <= Vmax[i]**2)                                # Ranges of volatage magnitudes\n",
    "\n",
    "for k, (i, j) in enumerate(zip(idx_from, idx_to)):\n",
    "    cij, cji = c[i, j], c[j, i]\n",
    "    sij, sji = s[i, j], s[j, i]\n",
    "    cii, cjj = c[i, i], c[j, j]\n",
    "    \n",
    "    model.st(cij == cji, sij == -sji)                                             # Symmetry of matrices c and s\n",
    "    \n",
    "    model.st(w[k, 0] == c[i, j], w[k, 1] == s[i, j])         \n",
    "    model.st(rso.rsocone(w[k], cii, cjj))                                         # Approximation using rotated cone\n",
    "    \n",
    "    model.st(np.tan(Amin[k])*cij <= sij, sij <= np.tan(Amax[k])*cij)              # Ranges of voltage angles\n",
    "    \n",
    "    model.st(v[k, 0] == -G[i, j]*cii + G[i, j]*cij - B[i, j]*sij)\n",
    "    model.st(v[k, 1] == B[i, j]*cii - B[i, j]*cij - G[i, j]*sij)\n",
    "    model.st(rso.sumsqr(v[k]) <= Tmax[k]**2)\n",
    "    \n",
    "model.st(Pmin <= p, p <= Pmax)                                                    # Ranges of real power\n",
    "model.st(Qmin <= q, q <= Qmax)                                                    # Ranges of reactive power\n",
    "\n",
    "model.solve(msk)                                                                  # Solve the SOCP model"
   ]
  },
  {
   "cell_type": "code",
   "execution_count": 17,
   "id": "a44e85bc",
   "metadata": {
    "scrolled": false
   },
   "outputs": [
    {
     "name": "stdout",
     "output_type": "stream",
     "text": [
      "Conic program object:\n",
      "=============================================\n",
      "Number of variables:           3661\n",
      "Continuous/binaries/integers:  3661/0/0\n",
      "---------------------------------------------\n",
      "Number of linear constraints:  861\n",
      "Inequalities/equalities:       185/676\n",
      "Number of coefficients:        2239\n",
      "---------------------------------------------\n",
      "Number of SOC constraints:     92\n",
      "---------------------------------------------\n",
      "Number of ExpCone constraints: 0\n",
      "---------------------------------------------\n",
      "Number of PSCone constraints:  0\n",
      "\n"
     ]
    },
    {
     "data": {
      "text/plain": [
       "137435.49131911524"
      ]
     },
     "execution_count": 17,
     "metadata": {},
     "output_type": "execute_result"
    }
   ],
   "source": [
    "print(model.do_math())\n",
    "model.get()"
   ]
  },
  {
   "cell_type": "code",
   "execution_count": 18,
   "id": "92ef6ede",
   "metadata": {
    "scrolled": true
   },
   "outputs": [],
   "source": [
    "psoc, qsoc = p.get(), q.get()"
   ]
  },
  {
   "cell_type": "code",
   "execution_count": 19,
   "id": "f82b9917",
   "metadata": {
    "scrolled": true
   },
   "outputs": [
    {
     "name": "stdout",
     "output_type": "stream",
     "text": [
      "Being solved by Mosek...\n",
      "Solution status: Optimal\n",
      "Running time: 2.7270s\n"
     ]
    }
   ],
   "source": [
    "# SDP method\n",
    "\n",
    "model = ro.Model()\n",
    "\n",
    "p = model.dvar(ngen)\n",
    "q = model.dvar(ngen)\n",
    "\n",
    "W = model.dvar((2*nbus, 2*nbus))\n",
    "v = model.dvar((nline, 2))\n",
    "\n",
    "cost = gen['Cost'].values\n",
    "model.min(cost@(p*baseMVA))                                                             # Total cost of real power\n",
    "\n",
    "pg = Ibg@p                                                                    # Real power at each bus\n",
    "qg = Ibg@q                                                                    # Reactive power at each bus\n",
    "for i in range(nbus):\n",
    "    j = delta[i]                                                              # Set of neighboring buses of bus i\n",
    "    ip, jp = i + nbus, np.array(j) + nbus\n",
    "    model.st(pg[i] - Pd[i] == G[i, i]*(W[i, i] + W[ip, ip]) +\n",
    "             (G[i, j]*(W[i, j] + W[ip, jp]) - B[i, j]*(W[i, jp] - W[j, ip])).sum())     # Real power balance\n",
    "    model.st(qg[i] - Qd[i] == -B[i, i]*(W[i, i] + W[ip, ip]) + \n",
    "             (-B[i, j]*(W[i, j] + W[ip, jp]) - G[i, j]*(W[i, jp] - W[j, ip])).sum())   # Reactive power balance\n",
    "    model.st(W[i, i] + W[ip, ip] >= Vmin[i]**2, W[i, i] + W[ip, ip] <= Vmax[i]**2)                    # Ranges of volatage magnitudes\n",
    "\n",
    "    \n",
    "for k, (i, j) in enumerate(zip(idx_from, idx_to)):\n",
    "    ip, jp = i + nbus, j + nbus\n",
    "    cii = W[i, i] + W[ip, ip]\n",
    "    cij = W[i, j] + W[ip, jp]\n",
    "    sij = W[i, jp] - W[j, ip]\n",
    "    model.st(np.tan(Amin[k])*cij <= sij, sij <= np.tan(Amax[k])*cij)\n",
    "    \n",
    "    model.st(v[k, 0] == -G[i, j]*cii + G[i, j]*cij - B[i, j]*sij)\n",
    "    model.st(v[k, 1] == B[i, j]*cii - B[i, j]*cij - G[i, j]*sij)\n",
    "    model.st(rso.sumsqr(v[k]) <= Tmax[k]**2)\n",
    "\n",
    "model.st(W >> 0)\n",
    "    \n",
    "model.st(Pmin <= p, p <= Pmax)                                                # Ranges of real power\n",
    "model.st(Qmin <= q, q <= Qmax)                                                # Ranges of reactive power\n",
    "\n",
    "model.solve(msk)    "
   ]
  },
  {
   "cell_type": "code",
   "execution_count": 20,
   "id": "7fd705a6",
   "metadata": {
    "scrolled": true
   },
   "outputs": [
    {
     "data": {
      "text/plain": [
       "138245.37319098628"
      ]
     },
     "execution_count": 20,
     "metadata": {},
     "output_type": "execute_result"
    }
   ],
   "source": [
    "model.get()"
   ]
  },
  {
   "cell_type": "code",
   "execution_count": 21,
   "id": "2a3cda4e",
   "metadata": {
    "scrolled": true
   },
   "outputs": [
    {
     "data": {
      "text/plain": [
       "Conic program object:\n",
       "=============================================\n",
       "Number of variables:           6427\n",
       "Continuous/binaries/integers:  6427/0/0\n",
       "---------------------------------------------\n",
       "Number of linear constraints:  6655\n",
       "Inequalities/equalities:       217/6438\n",
       "Number of coefficients:        14453\n",
       "---------------------------------------------\n",
       "Number of SOC constraints:     46\n",
       "---------------------------------------------\n",
       "Number of ExpCone constraints: 0\n",
       "---------------------------------------------\n",
       "Number of PSCone constraints:  1"
      ]
     },
     "execution_count": 21,
     "metadata": {},
     "output_type": "execute_result"
    }
   ],
   "source": [
    "model.do_math()"
   ]
  },
  {
   "cell_type": "code",
   "execution_count": 22,
   "id": "8758c4e0",
   "metadata": {},
   "outputs": [],
   "source": [
    "psdp = p.get()"
   ]
  },
  {
   "cell_type": "code",
   "execution_count": 23,
   "id": "db5a4434",
   "metadata": {
    "scrolled": false
   },
   "outputs": [],
   "source": [
    "qsdp = q.get()"
   ]
  },
  {
   "cell_type": "markdown",
   "id": "41e75583",
   "metadata": {},
   "source": [
    "# Visualization of the Results"
   ]
  },
  {
   "cell_type": "code",
   "execution_count": 24,
   "id": "f75f5b3e",
   "metadata": {
    "scrolled": false
   },
   "outputs": [
    {
     "data": {
      "image/png": "[encoded data removed]",
      "text/plain": [
       "<Figure size 432x432 with 2 Axes>"
      ]
     },
     "metadata": {},
     "output_type": "display_data"
    }
   ],
   "source": [
    "pgs = pd.DataFrame({'Generators': range(1, ngen+1), \n",
    "                    'MC': pmc, 'SDP': psdp, 'SOCP': psoc})\n",
    "qgs = pd.DataFrame({'Generators': range(1, ngen+1), \n",
    "                    'MC': qmc, 'SDP': qsdp, 'SOCP': qsoc})\n",
    "\n",
    "fig, axes = plt.subplots(2, 1, figsize=(6, 6))\n",
    "\n",
    "pgs.plot('Generators', ['MC', 'SDP', 'SOCP'], kind='bar', ax=axes[0])\n",
    "axes[0].set_xlabel('')\n",
    "axes[0].set_ylabel('Real Power Generation (p.u.)')\n",
    "axes[0].legend(bbox_to_anchor=(1.25, 1.03))\n",
    "\n",
    "qgs.plot('Generators', ['MC', 'SDP', 'SOCP'], kind='bar', ax=axes[1], legend=False)\n",
    "axes[1].set_ylabel('Reactive Power Generation (p.u.)')\n",
    "\n",
    "plt.show()"
   ]
  },
  {
   "cell_type": "code",
   "execution_count": null,
   "id": "51484883",
   "metadata": {},
   "outputs": [],
   "source": []
  }
 ],
 "metadata": {
  "kernelspec": {
   "display_name": "Python 3 (ipykernel)",
   "language": "python",
   "name": "python3"
  },
  "language_info": {
   "codemirror_mode": {
    "name": "ipython",
    "version": 3
   },
   "file_extension": ".py",
   "mimetype": "text/x-python",
   "name": "python",
   "nbconvert_exporter": "python",
   "pygments_lexer": "ipython3",
   "version": "3.10.11"
  },
  "varInspector": {
   "cols": {
    "lenName": 16,
    "lenType": 16,
    "lenVar": 40
   },
   "kernels_config": {
    "python": {
     "delete_cmd_postfix": "",
     "delete_cmd_prefix": "del ",
     "library": "var_list.py",
     "varRefreshCmd": "print(var_dic_list())"
    },
    "r": {
     "delete_cmd_postfix": ") ",
     "delete_cmd_prefix": "rm(",
     "library": "var_list.r",
     "varRefreshCmd": "cat(var_dic_list()) "
    }
   },
   "types_to_exclude": [
    "module",
    "function",
    "builtin_function_or_method",
    "instance",
    "_Feature"
   ],
   "window_display": false
  }
 },
 "nbformat": 4,
 "nbformat_minor": 5
}