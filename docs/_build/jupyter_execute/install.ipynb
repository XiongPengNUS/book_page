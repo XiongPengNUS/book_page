{
 "cells": [
  {
   "cell_type": "markdown",
   "id": "7412b6ea",
   "metadata": {},
   "source": [
    "# Install\n",
    "\n",
    "## Installation via PyPI\n",
    "\n",
    "The RSOME package can be installed with the `pip` command:\n",
    "\n",
    "```console\n",
    "pip install rsome\n",
    "```\n",
    "\n",
    "regardless of the versions of Python or the operating systems.\n",
    "\n",
    "The following linear optimization problem\n",
    "```{math}\n",
    "\\begin{align}\n",
    "\\max~&3x + 4y \\\\\n",
    "\\text{s.t.}~&2.5x + y \\leq 20 \\\\\n",
    "&5x + 3y \\leq 30 \\\\\n",
    "&x + 2y \\leq 16 \\\\\n",
    "&|y| \\leq 2\n",
    "\\end{align}\n",
    "```\n",
    "can be implemented as follows to test the installation of the RSOME package."
   ]
  },
  {
   "cell_type": "code",
   "execution_count": 1,
   "id": "b4f1e53d",
   "metadata": {
    "scrolled": true
   },
   "outputs": [
    {
     "name": "stdout",
     "output_type": "stream",
     "text": [
      "Being solved by the default LP solver...\n",
      "Solution status: 0\n",
      "Running time: 0.0050s\n"
     ]
    }
   ],
   "source": [
    "from rsome import ro                # import the ro modeling tool\n",
    "\n",
    "model = ro.Model('LP model')        # create a Model object\n",
    "x = model.dvar()                    # define a decision variable x\n",
    "y = model.dvar()                    # define a decision variable y\n",
    "\n",
    "model.max(3*x + 4*y)                # maximize the objective function\n",
    "model.st(2.5*x + y <= 20)           # specify the 1st constraints\n",
    "model.st(5*x + 3*y <= 30)           # specify the 2nd constraints\n",
    "model.st(x + 2*y <= 16)             # specify the 3rd constraints\n",
    "model.st(abs(y) <= 2)               # specify the 4th constraints\n",
    "\n",
    "model.solve()                       # solve the model by the default solver"
   ]
  },
  {
   "cell_type": "markdown",
   "id": "4e1256a8",
   "metadata": {},
   "source": [
    "If the installation is successful, the problem will be solved by the default `scipy.optimize` solver (see the documentation [here](https://docs.scipy.org/doc/scipy/reference/optimize.html)), and the solution status and running time will be printed. We can then access the optimal solution and the corresponding objective value can be attained by the `get()` method."
   ]
  },
  {
   "cell_type": "code",
   "execution_count": 2,
   "id": "42e671ca",
   "metadata": {
    "scrolled": false
   },
   "outputs": [
    {
     "name": "stdout",
     "output_type": "stream",
     "text": [
      "x: 4.8\n",
      "y: 2.0\n",
      "Objective: 22.4\n"
     ]
    }
   ],
   "source": [
    "print(f'x: {x.get()}')\n",
    "print(f'y: {y.get()}')\n",
    "print(f'Objective: {model.get()}'.format())"
   ]
  },
  {
   "cell_type": "markdown",
   "id": "7ded065f",
   "metadata": {},
   "source": [
    "(label-solver-installation)=\n",
    "## Installation of Solvers\n",
    "\n",
    "In addition to the default linear programming solver `scipy.optimize`, RSOME offers modeling tools and interfaces for a range of open-source and commercial solvers. However, integrating alternative solvers requires additional installation steps. For comprehensive instructions on installing these solvers, please refer to the table below, which directs you to their required versions respective websites.\n",
    "\n",
    "| Solver | License | RSOME Interface | Website\n",
    "|:-------|:-----------|:----------------|:--------------|\n",
    "|SciPy >= 1.9.0 | Open-source | `lpg_solver` | https://docs.scipy.org/doc/scipy/reference/optimize.html |\n",
    "|CyLP >= 0.9.0 | Open-source | `clp_solver` | https://mpy.github.io/CyLPdoc/ |\n",
    "|OR-Tools >= 7.5.7466 | Open-source | `ort_solver` | https://developers.google.com/optimization |\n",
    "|ECOS >= 2.0.10 | Open-source | `eco_solver` | https://github.com/embotech/ecos-python |\n",
    "|Gurobi >= 9.1.0 | Commercial | `grb_solver` | https://www.gurobi.com/ |\n",
    "|Mosek >= 10.0.44 | Commercial | `msk_solver` | https://www.mosek.com/ |\n",
    "|CPLEX >= 12.9.0.0 | Commercial | `cpx_solver` | https://www.ibm.com/products/ilog-cplex-optimization-studio |\n",
    "|COPT >= 7.0.3 | Commercial | `cpt_solver` | https://www.shanshu.ai/copt |\n",
    "\n",
    "Consider the Mosek solver as an example; once successfully installed, the solver interface `msk_solver` can be imported and applied to solve the aforementioned model."
   ]
  },
  {
   "cell_type": "code",
   "execution_count": 3,
   "id": "a23002d3",
   "metadata": {
    "scrolled": false
   },
   "outputs": [
    {
     "name": "stdout",
     "output_type": "stream",
     "text": [
      "Being solved by Mosek...\n",
      "Solution status: Optimal\n",
      "Running time: 0.0208s\n"
     ]
    }
   ],
   "source": [
    "from rsome import msk_solver as msk\n",
    "\n",
    "model.solve(msk)"
   ]
  }
 ],
 "metadata": {
  "kernelspec": {
   "display_name": "Python 3 (ipykernel)",
   "language": "python",
   "name": "python3"
  },
  "language_info": {
   "codemirror_mode": {
    "name": "ipython",
    "version": 3
   },
   "file_extension": ".py",
   "mimetype": "text/x-python",
   "name": "python",
   "nbconvert_exporter": "python",
   "pygments_lexer": "ipython3",
   "version": "3.10.11"
  },
  "varInspector": {
   "cols": {
    "lenName": 16,
    "lenType": 16,
    "lenVar": 40
   },
   "kernels_config": {
    "python": {
     "delete_cmd_postfix": "",
     "delete_cmd_prefix": "del ",
     "library": "var_list.py",
     "varRefreshCmd": "print(var_dic_list())"
    },
    "r": {
     "delete_cmd_postfix": ") ",
     "delete_cmd_prefix": "rm(",
     "library": "var_list.r",
     "varRefreshCmd": "cat(var_dic_list()) "
    }
   },
   "types_to_exclude": [
    "module",
    "function",
    "builtin_function_or_method",
    "instance",
    "_Feature"
   ],
   "window_display": false
  }
 },
 "nbformat": 4,
 "nbformat_minor": 5
}