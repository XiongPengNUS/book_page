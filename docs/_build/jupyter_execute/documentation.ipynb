{
 "cells": [
  {
   "cell_type": "markdown",
   "id": "58cbb300",
   "metadata": {},
   "source": [
    "# Documentation\n",
    "\n",
    "## [Basics of RSOME](rsome_basics.ipynb)\n",
    "- [Modeling Environment](rsome_basics:modeling_env)\n",
    "- [Introduction to the `rsome.ro` Environment](rsome_basics:intro_ro_env)\n",
    "- [Standard Forms and Solutions](rsome_basics:sform_sol)\n",
    "- [Application Examples](rsome_basics:examples)\n",
    "\n",
    "## [RSOME for Robust Optimization](rsome_ro.ipynb)\n",
    "- [General Formulation for Robust optimization Models](rsome_ro:ro_framework)\n",
    "- [Random Variables and Uncertainty Sets](rsome_ro:rvar_uset)\n",
    "- [The Worst-Case Objective and Constraints](rsome_ro:ro_worst_case)\n",
    "- [Linear Decision Rules for Adaptive Decision-Making](rsome_ro:ro_decision_rule)\n",
    "- [Solution Analysis](rsome_ro:sol_analysis)\n",
    "- [Application Examples](rsome_ro:examples)\n",
    "\n",
    "## RSOME for Distributionally Robust Optimization\n",
    "- General Formulation for Distributionally Robust Optimization Models\n",
    "- Introduction to the `rsome.dro` Environment\n",
    "- Event-wise Ambiguity Sets\n",
    "- Event-wise Recourse Adaptations\n",
    "- The Worst-Case Expectations\n",
    "- Application Examples\n"
   ]
  },
  {
   "cell_type": "code",
   "execution_count": null,
   "id": "96eb0bcb",
   "metadata": {},
   "outputs": [],
   "source": []
  }
 ],
 "metadata": {
  "kernelspec": {
   "display_name": "Python 3 (ipykernel)",
   "language": "python",
   "name": "python3"
  },
  "language_info": {
   "codemirror_mode": {
    "name": "ipython",
    "version": 3
   },
   "file_extension": ".py",
   "mimetype": "text/x-python",
   "name": "python",
   "nbconvert_exporter": "python",
   "pygments_lexer": "ipython3",
   "version": "3.10.11"
  },
  "varInspector": {
   "cols": {
    "lenName": 16,
    "lenType": 16,
    "lenVar": 40
   },
   "kernels_config": {
    "python": {
     "delete_cmd_postfix": "",
     "delete_cmd_prefix": "del ",
     "library": "var_list.py",
     "varRefreshCmd": "print(var_dic_list())"
    },
    "r": {
     "delete_cmd_postfix": ") ",
     "delete_cmd_prefix": "rm(",
     "library": "var_list.r",
     "varRefreshCmd": "cat(var_dic_list()) "
    }
   },
   "types_to_exclude": [
    "module",
    "function",
    "builtin_function_or_method",
    "instance",
    "_Feature"
   ],
   "window_display": false
  }
 },
 "nbformat": 4,
 "nbformat_minor": 5
}