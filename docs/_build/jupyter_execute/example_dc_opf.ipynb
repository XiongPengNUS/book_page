{
 "cells": [
  {
   "cell_type": "markdown",
   "id": "913b8083",
   "metadata": {},
   "source": [
    "(dc_opf:title)=\n",
    "# Optimal DC Power Flow\n",
    "\n",
    "The optimal power flow problem minimizes the overall operating cost in a electricity network while subject to a number of generation and transmission constraints. The DC model is a widely used linearized approximation of the actual nonlinear power flow model, and it can be written as\n",
    "\n",
    "```{math}\n",
    "\\begin{align}\n",
    "\\min~&\\sum\\limits_{i=1}^m (a_ig_i^2 + b_ig_i + c_i) \\\\\n",
    "\\text{s.t.}~&\\pmb{B}_{\\text{bus}} \\pmb{v} + \\pmb{I}_{\\text{bg}} \\pmb{g} = \\pmb{L} \\\\\n",
    "&|\\pmb{B}_{\\text{f}} \\pmb{v}| \\leq \\pmb{R} \\\\\n",
    "&P_i^{\\min} \\leq g_i \\leq P_i^{\\max} &\\forall i = 1, 2, ..., m \\\\\n",
    "&v_{ref} = 0,\n",
    "\\end{align}\n",
    "```\n",
    "\n",
    "where $n$ is the number of buses, and $m$ is the number of generators. The decision variables:\n",
    "\n",
    "- $v_j$: the voltage angle of bus $j$, with $j=1, 2, ..., n$;\n",
    "- $g_i$: the output of the $i$th generator, with $i=1, 2, ..., m$,\n",
    "\n",
    "and parameters:\n",
    "\n",
    "- $\\pmb{B}_{\\text{bus}}$: the matrix of reciprocals of reactance between buses;\n",
    "- $\\pmb{I}_{\\text{bg}}$: the matrix that places generations to their corresponding buses;\n",
    "- $\\pmb{L}$: the array of electricity load at each bus;\n",
    "- $\\pmb{B}_{\\text{f}}$: the matrix for calculating the transmitted power;\n",
    "- $P_i^{\\min}$ and $P_i^{\\max}$: the minimum and maximum output of the $i$th generator;\n",
    "- $\\pmb{R}$: the array of transmission line capacity ratings.\n",
    "\n",
    "In this case study, we consider the {cite:ps}`RTS_Task_Force_1999ieee`, and the dataset is generated according to the one used in [MATPOWER](https://matpower.org/). You may find the dataset as an Excel file [ieee_rts.xlsx](ieee_rts.xlsx). The following code is used to import system parameters from the file."
   ]
  },
  {
   "cell_type": "code",
   "execution_count": 1,
   "id": "374b1263",
   "metadata": {},
   "outputs": [],
   "source": [
    "# Load data from the Excel file\n",
    "import pandas as pd\n",
    "\n",
    "Bbus_df = pd.read_excel('ieee_rts.xlsx', sheet_name='Bbus')\n",
    "Bf_df = pd.read_excel('ieee_rts.xlsx', sheet_name='Bf')\n",
    "Gen_df = pd.read_excel('ieee_rts.xlsx', sheet_name='Gen')\n",
    "Rates_df = pd.read_excel('ieee_rts.xlsx', sheet_name='Rates')\n",
    "Load_df = pd.read_excel('ieee_rts.xlsx', sheet_name='Load')\n",
    "\n",
    "Bbus = Bbus_df.values                            # Bbus array\n",
    "Bf = Bf_df.values                                # Bf array\n",
    "\n",
    "R = Rates_df['Rate_A'].values                    # line capacity ratings\n",
    "GBus = Gen_df['GBus'].values                     # generator buses\n",
    "Pmin = Gen_df['Pmin'].values                     # minimum outputs of generators\n",
    "Pmax = Gen_df['Pmax'].values                     # maximum outputs of generators\n",
    "C = Gen_df.loc[:, 'Cost_a':'Cost_c'].values      # cost coefficients of generators\n",
    "L = Load_df['Load'].values                       # electricity loads\n",
    "\n",
    "n = Bf.shape[1]                                  # n: Number of buses\n",
    "m = len(GBus)                                    # m: Number of generators"
   ]
  },
  {
   "cell_type": "markdown",
   "id": "c38a067b",
   "metadata": {},
   "source": [
    "The DC optimal power flow problem can be solved by the following Python code."
   ]
  },
  {
   "cell_type": "code",
   "execution_count": 2,
   "id": "60a385b4",
   "metadata": {
    "scrolled": true
   },
   "outputs": [
    {
     "name": "stdout",
     "output_type": "stream",
     "text": [
      "Being solved by Mosek...\n",
      "Solution status: Optimal\n",
      "Running time: 0.0287s\n"
     ]
    }
   ],
   "source": [
    "from rsome import ro\n",
    "from rsome import msk_solver as msk\n",
    "from rsome import sumsqr\n",
    "import numpy as np\n",
    "\n",
    "model = ro.Model()\n",
    "\n",
    "v = model.dvar(n)                                            # decision as voltage angles\n",
    "g = model.dvar(m)                                            # decision as the generation output\n",
    "\n",
    "obj = sumsqr(C[:, 0]**0.5 * g) + C[:, 1]@g + C[:, 2].sum()   # quadratic objective function\n",
    "model.min(obj)                                               # minimize the objective                   \n",
    "\n",
    "I_bg = np.zeros((n, m))\n",
    "I_bg[GBus-1, range(m)] = 1                                   # array of generator buses\n",
    "model.st(Bbus@v + I_bg@g == L)                               # power balance equation\n",
    "model.st(abs(Bf@v) <= R)                                     # transmission line capacities\n",
    "model.st(g >= Pmin, g <= Pmax)                               # output capacities of generators\n",
    "Ref = 12                                                     # index of the reference bus\n",
    "model.st(v[Ref] == 0)                                        # set the reference bus\n",
    "\n",
    "model.solve(msk)                                             # solve the problem by Mosek"
   ]
  },
  {
   "cell_type": "markdown",
   "id": "f4b21164",
   "metadata": {},
   "source": [
    "The optimal generation decision and the objective value are shown below."
   ]
  },
  {
   "cell_type": "code",
   "execution_count": 3,
   "id": "3da157e5",
   "metadata": {
    "scrolled": true
   },
   "outputs": [
    {
     "data": {
      "image/png": "[encoded data removed]",
      "text/plain": [
       "<Figure size 864x252 with 1 Axes>"
      ]
     },
     "metadata": {},
     "output_type": "display_data"
    },
    {
     "name": "stdout",
     "output_type": "stream",
     "text": [
      "Optimal generation cost: 61001.24\n"
     ]
    }
   ],
   "source": [
    "import matplotlib.pyplot as plt\n",
    "\n",
    "gs = g.get()\n",
    "index = range(1, m+1)\n",
    "\n",
    "plt.figure(figsize=(12, 3.5))\n",
    "plt.bar(index, gs, color='b', alpha=0.7)\n",
    "plt.xlabel('Indexes of Generators', fontsize=14)\n",
    "plt.ylabel('Generation Outputs (MW)', fontsize=14)\n",
    "plt.xticks(index)\n",
    "plt.xlim([0, m+1])\n",
    "plt.grid()\n",
    "plt.show()\n",
    "\n",
    "print(f'Optimal generation cost: {model.get():0.2f}')"
   ]
  },
  {
   "cell_type": "markdown",
   "id": "6b5452a1",
   "metadata": {},
   "source": [
    "<br>\n",
    "\n",
    "---\n",
    "\n",
    "<font size=\"5\">Reference</font>\n",
    "\n",
    "```{bibliography}\n",
    ":filter: docname in docnames\n",
    "```"
   ]
  },
  {
   "cell_type": "code",
   "execution_count": null,
   "id": "415e5d78",
   "metadata": {},
   "outputs": [],
   "source": []
  }
 ],
 "metadata": {
  "kernelspec": {
   "display_name": "Python 3 (ipykernel)",
   "language": "python",
   "name": "python3"
  },
  "language_info": {
   "codemirror_mode": {
    "name": "ipython",
    "version": 3
   },
   "file_extension": ".py",
   "mimetype": "text/x-python",
   "name": "python",
   "nbconvert_exporter": "python",
   "pygments_lexer": "ipython3",
   "version": "3.10.11"
  },
  "varInspector": {
   "cols": {
    "lenName": 16,
    "lenType": 16,
    "lenVar": 40
   },
   "kernels_config": {
    "python": {
     "delete_cmd_postfix": "",
     "delete_cmd_prefix": "del ",
     "library": "var_list.py",
     "varRefreshCmd": "print(var_dic_list())"
    },
    "r": {
     "delete_cmd_postfix": ") ",
     "delete_cmd_prefix": "rm(",
     "library": "var_list.r",
     "varRefreshCmd": "cat(var_dic_list()) "
    }
   },
   "types_to_exclude": [
    "module",
    "function",
    "builtin_function_or_method",
    "instance",
    "_Feature"
   ],
   "window_display": false
  }
 },
 "nbformat": 4,
 "nbformat_minor": 5
}