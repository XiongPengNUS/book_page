{
 "cells": [
  {
   "cell_type": "markdown",
   "id": "9c439a2b",
   "metadata": {},
   "source": [
    "(ro_medical_scheduling:title)= \n",
    "# Robust Medical Appointment Scheduling\n",
    "\n",
    "In this example, we consider a medical appointment scheduling problem studied introduced in {cite:ps}`Bertsimas_Sim_Zhang2019adaptive`, where $N$ patients arrive at their stipulated schedule and may have to wait in a queue to be served by a physician. The patients' consultation times are uncertain and their arrival schedules are determined at the first stage, which can influence the waiting times of the patients and the overtime of the physician. \n",
    "\n",
    "Consider $\\pmb{x}\\in\\mathbb{R}_+^N$ as the first-stage decision, indicating the assigned lengths of consultation allocated to each patient. All appointments must be scheduled within the physician's regular working hours, denoted by $T$, thus the constraint $\\sum_{i=1}^Nx_i \\leq T$. Let $\\pmb{z}\\in\\mathbb{R}^N$ be the actual lengths of consultation time. The total cost of the physician is expressed as the recourse problem $Q(\\pmb{x}, \\pmb{z})$:\n",
    "\n",
    "$$\n",
    "\\begin{align}\n",
    "Q(\\pmb{x}, \\pmb{z}) = \\min~&\\sum\\limits_{i=1}^Ny_i + cy_{N+1} \\\\\n",
    "\\text{s.t.}~&y_{i+1} \\geq y_i + z_i - x_i &&\\forall i \\in [N] \\\\\n",
    "&\\pmb{y}\\in\\mathbb{R}_+^{N+1},\n",
    "\\end{align}\n",
    "$$\n",
    "\n",
    "where $y_i$ with $i\\in[N]$ represents the adaptive decision indicating the waiting time of the $i$th patient, and $y_{N+1}$ is the overtime of the physician. The parameter $c$ denotes the unit cost of physician overtime. \n",
    "\n",
    "According to {cite:ps}`Bertsimas_Shtern_Surt2022two`, parameters of the medical appointment problem are\n",
    "\n",
    "- $N=8$ as the number of patients;\n",
    "- $c=2.0$ as the unit cost of physician overtime;\n",
    "- $\\pmb{\\mu}=\\mathbb{R}^N$ as the mean consultation time of all patients, each $\\mu_i$ is randomly generated uniformly over $[30,~60]$;\n",
    "- $\\pmb{\\sigma}\\in\\mathbb{R}^N$ as the standard deviations of the consultation times, each $\\sigma_i$ is randomly generated uniformly over $[0,~0.3]$;\n",
    "- $T$ as the regular working hours of the physician, expressed as $T=\\sum_{i=1}^N\\mu_i + 0.5\\sqrt{\\sum_{i=1}^N\\sigma_i^2}$.\n",
    "\n",
    "These parameters are defined in the code segment below."
   ]
  },
  {
   "cell_type": "code",
   "execution_count": 1,
   "id": "4197cb30",
   "metadata": {},
   "outputs": [],
   "source": [
    "import numpy as np\n",
    "\n",
    "N = 8                                         # N as the total number of patients\n",
    "c = 2                                         # c as the unit cost of overtime\n",
    "\n",
    "np.random.seed(1)\n",
    "mu = 30 + 30*np.random.rand(N)                # mu as the mean consultation time\n",
    "sigma = mu * 0.3*np.random.rand(N)            # sigma as the standard deviation\n",
    "T = mu.sum() + 0.5*((sigma**2).sum())**0.5    # T as the regular working hours of the physician"
   ]
  },
  {
   "cell_type": "markdown",
   "id": "9dcc4353",
   "metadata": {},
   "source": [
    "It is assumed that for the decision-maker, the exact information on the mean and standard deviation of the consultation time is unknown, the distribution of the consultation time is represented by a randomly generated dataset of $S=64$ records with a mean value of $\\pmb{\\mu}$ and a standard deviation of $\\pmb{\\sigma}$."
   ]
  },
  {
   "cell_type": "code",
   "execution_count": 2,
   "id": "493b09fb",
   "metadata": {},
   "outputs": [],
   "source": [
    "S = 64\n",
    "zhat = mu + sigma*np.random.normal(size=(S, N))"
   ]
  },
  {
   "cell_type": "markdown",
   "id": "fa82ce8a",
   "metadata": {},
   "source": [
    "In the forthcoming numerical studies, we will illustrate the application of RSOME in formulating and solving the appointment scheduling problem using various data-driven robust models.\n",
    "\n",
    "## Robust Optimization with Budgeted Uncertainty Set\n",
    "\n",
    "The medical appointment problem is firstly formulated as a robust optimization model\n",
    "\n",
    "$$\n",
    "\\begin{align}\n",
    "\\min~&\\max\\limits_{\\pmb{z}\\in\\mathcal{Z}}Q(\\pmb{x}, \\pmb{z}) \\\\\n",
    "\\text{s.t.}~&\\sum\\limits_{i=1}^Nx_i\\leq T \\\\\n",
    "&\\pmb{x}\\in\\mathbb{R}_+^N,\n",
    "\\end{align}\n",
    "$$\n",
    "\n",
    "where the uncertainty set $\\mathcal{Z}$ is expressed as:\n",
    "\n",
    "$$\n",
    "\\mathcal{Z} = \\left\\{\n",
    "\\pmb{z}: \\underline{\\pmb{z}} \\leq \\pmb{z} \\leq \\overline{\\pmb{z}},~\\sum\\limits_{i=1}^Nz_i \\leq \\Gamma \n",
    "\\right\\},\n",
    "$$\n",
    "\n",
    "where the lower bound $\\underline{\\pmb{z}}$, upper bound $\\overline{\\pmb{z}}$, and the budget of uncertainty $\\Gamma$, are determined in a data-driven manner, as the code below."
   ]
  },
  {
   "cell_type": "code",
   "execution_count": 3,
   "id": "5f48396e",
   "metadata": {},
   "outputs": [
    {
     "data": {
      "text/plain": [
       "348.4237443354999"
      ]
     },
     "execution_count": 3,
     "metadata": {},
     "output_type": "execute_result"
    }
   ],
   "source": [
    "zlb = zhat.min(axis=0)\n",
    "zub = zhat.max(axis=0)\n",
    "Gamma = zhat.sum(axis=1).max()\n",
    "Gamma"
   ]
  },
  {
   "cell_type": "markdown",
   "id": "9ca78940",
   "metadata": {},
   "source": [
    "Such a robust model is solved by the following code."
   ]
  },
  {
   "cell_type": "code",
   "execution_count": 4,
   "id": "44473521",
   "metadata": {},
   "outputs": [
    {
     "name": "stdout",
     "output_type": "stream",
     "text": [
      "Being solved by ECOS...\n",
      "Solution status: Optimal solution found\n",
      "Running time: 0.0056s\n"
     ]
    }
   ],
   "source": [
    "from rsome import ro\n",
    "from rsome import eco_solver as eco\n",
    "\n",
    "model = ro.Model()                                # define a DRO model\n",
    "z = model.rvar(N)                                 # random variable z\n",
    "zset = (zlb <= z, z <= zub,\n",
    "        z.sum() <= Gamma)                         # a budgeted uncertainty set\n",
    "\n",
    "x = model.dvar(N)                                 # the here-and-now decision\n",
    "y = model.ldr(N+1)                                # the wait-and-see decision\n",
    "y.adapt(z)                                        # define affine adaptation\n",
    "\n",
    "model.minmax(y[:-1].sum() + c*y[-1], zset)        # worst-case expected cost\n",
    "model.st(y[1:] - y[:-1] + x >= z)                 # constraints\n",
    "model.st(y >= 0)                                  # constraints\n",
    "model.st(0 <= x, x.sum() <= T)                    # constraints\n",
    "\n",
    "model.solve(eco)                                  # solve the model by ECOS"
   ]
  },
  {
   "cell_type": "code",
   "execution_count": 5,
   "id": "c798214b",
   "metadata": {
    "scrolled": false
   },
   "outputs": [
    {
     "name": "stdout",
     "output_type": "stream",
     "text": [
      "Objective: 197.7891\n"
     ]
    }
   ],
   "source": [
    "x_ro = x.get()\n",
    "print(f'Objective: {model.get():.4f}')"
   ]
  },
  {
   "cell_type": "markdown",
   "id": "b64cdb00",
   "metadata": {},
   "source": [
    "## Sample Robust Optimization with Single-Policy Approximation\n",
    "\n",
    "In this section, we will adopt the sample robust optimization (SRO) approach proposed by {cite:ps}`Bertsimas_Shtern_Surt2022two`, which formulate the medical appointment problem as\n",
    "\n",
    "$$\n",
    "\\begin{align}\n",
    "\\min~& \\frac{1}{S}\\sum\\limits_{s=1}^Sv_s \\\\\n",
    "\\text{s.t.}~&\\max\\limits_{\\pmb{z}\\in\\mathcal{Z}_s}Q(\\pmb{x}, \\pmb{z}) \\leq v_s &&\\forall s \\in [S]\\\\\n",
    "&\\sum\\limits_{i=1}^Nx_i\\leq T \\\\\n",
    "&\\pmb{v}\\in\\mathbb{R}^S,~\\pmb{x}\\in\\mathbb{R}_+^N,\n",
    "\\end{align}\n",
    "$$\n",
    "\n",
    "with each uncertainty set $\\mathcal{Z}_s$ being an Euclidean ball centered at each sample records $\\hat{\\pmb{z}}_s$:\n",
    "\n",
    "$$\n",
    "\\mathcal{Z}_s = \\left\\{\n",
    "\\pmb{z}: \\|\\pmb{z} - \\hat{\\pmb{z}}\\| \\leq \\epsilon\n",
    "\\right\\},\n",
    "$$\n",
    "\n",
    "where $\\epsilon$ is a parameter that controlling the size of the uncertainty size. In the following code that formulates and solves the SRO model, $\\epsilon$ is selected to be $S^{-1/8}$."
   ]
  },
  {
   "cell_type": "code",
   "execution_count": 6,
   "id": "9593a2f7",
   "metadata": {
    "scrolled": true
   },
   "outputs": [
    {
     "name": "stdout",
     "output_type": "stream",
     "text": [
      "Being solved by ECOS...\n",
      "Solution status: Optimal solution found\n",
      "Running time: 0.2895s\n"
     ]
    }
   ],
   "source": [
    "from rsome import ro\n",
    "import rsome as rso\n",
    "\n",
    "epsilon = S**(-1/8)\n",
    "\n",
    "model = ro.Model()\n",
    "z = model.rvar(N)\n",
    "\n",
    "x = model.dvar(N)\n",
    "v = model.dvar(S)\n",
    "y = model.ldr(N+1)\n",
    "y.adapt(z)\n",
    "\n",
    "model.min((1/S)*v.sum())\n",
    "for s in range(S):\n",
    "    zset = rso.norm((1/sigma)*(z - zhat[s])) <= epsilon\n",
    "    model.st((y[:-1].sum() + c*y[-1] <= v[s]).forall(zset))\n",
    "    model.st((y[1:] - y[:-1] + x >= z).forall(zset))\n",
    "    model.st((y >= 0).forall(zset))\n",
    "\n",
    "model.st(0 <= x, x.sum() <= T)\n",
    "\n",
    "model.solve(eco)"
   ]
  },
  {
   "cell_type": "code",
   "execution_count": 7,
   "id": "1398794f",
   "metadata": {
    "scrolled": true
   },
   "outputs": [
    {
     "name": "stdout",
     "output_type": "stream",
     "text": [
      "Objective: 135.8208\n"
     ]
    }
   ],
   "source": [
    "x_sp = x.get()\n",
    "print(f'Objective: {model.get():.4f}')"
   ]
  },
  {
   "cell_type": "markdown",
   "id": "b0b661ea",
   "metadata": {},
   "source": [
    "Note that the worst-case values of the $Q(\\pmb{x}, \\pmb{z})$ are expressed over different uncertainty sets $\\mathcal{Z}_s$. These different uncertainty sets can be specified via the `forall()` method of constraints involving random variables. \n",
    "\n",
    "## Sample Robust Optimization with Multiple-Policy Approximation\n",
    "\n",
    "In previous numerical experiments, the adaptive decision $\\pmb{y}(\\pmb{z})$ is approximated by a linear decision rule $\\mathcal{L}([N])$, implying that $\\pmb{y}(\\pmb{z})$ is an affine function of $\\pmb{z}$. {cite:ps}`Bertsimas_Shtern_Surt2022two` also proposed a multiple-policy where the adaptive decision $\\pmb{y}(\\pmb{z})$ can be different affine functions of $\\pmb{z}$ under various sample records. The adaptive decision `y` in the following code is therefore defined for each sample record, and the constraints for each sample record are imposed to `y[s]`."
   ]
  },
  {
   "cell_type": "code",
   "execution_count": 8,
   "id": "28e31afa",
   "metadata": {},
   "outputs": [
    {
     "name": "stdout",
     "output_type": "stream",
     "text": [
      "Being solved by ECOS...\n",
      "Solution status: Optimal solution found\n",
      "Running time: 0.2692s\n"
     ]
    }
   ],
   "source": [
    "from rsome import ro\n",
    "import rsome as rso\n",
    "\n",
    "epsilon = S**(-1/8)\n",
    "\n",
    "model = ro.Model()\n",
    "z = model.rvar(N)\n",
    "\n",
    "x = model.dvar(N)\n",
    "v = model.dvar(S)\n",
    "y = model.ldr((S, N+1))\n",
    "y.adapt(z)\n",
    "\n",
    "model.min((1/S)*v.sum())\n",
    "for s in range(S):\n",
    "    zset = rso.norm((1/sigma)*(z - zhat[s])) <= epsilon\n",
    "    model.st((y[s, :-1].sum() + c*y[s, -1] <= v[s]).forall(zset))\n",
    "    model.st((y[s, 1:] - y[s, :-1] + x >= z).forall(zset))\n",
    "    model.st((y[s] >= 0).forall(zset))\n",
    "\n",
    "model.st(0 <= x, x.sum() <= T)\n",
    "\n",
    "model.solve(eco)"
   ]
  },
  {
   "cell_type": "code",
   "execution_count": 9,
   "id": "93fd1dd6",
   "metadata": {},
   "outputs": [
    {
     "name": "stdout",
     "output_type": "stream",
     "text": [
      "Objective: 64.7996\n"
     ]
    }
   ],
   "source": [
    "x_mp = x.get()\n",
    "print(f'Objective: {model.get():.4f}')"
   ]
  },
  {
   "cell_type": "markdown",
   "id": "d9673060",
   "metadata": {},
   "source": [
    "## Visualization of the Optimal Schedules\n",
    "\n",
    "Finally, the optimal decisions yielded from the RO model, the SRO model with SP and MP adaptation schemes are visualized as follows."
   ]
  },
  {
   "cell_type": "code",
   "execution_count": 10,
   "id": "b5d2b3a9",
   "metadata": {
    "scrolled": true
   },
   "outputs": [
    {
     "data": {
      "image/png": "[encoded data removed]",
      "text/plain": [
       "<Figure size 612x324 with 1 Axes>"
      ]
     },
     "metadata": {},
     "output_type": "display_data"
    }
   ],
   "source": [
    "import pandas as pd\n",
    "import matplotlib.pyplot as plt\n",
    "\n",
    "results = pd.DataFrame({'RO Model': x_ro,\n",
    "                        'SRO Model with SP': x_sp,\n",
    "                        'SRO Model with MP': x_mp})\n",
    "\n",
    "fig, ax = plt.subplots(1, 1, figsize=(8.5, 4.5))\n",
    "results.plot(kind='bar', ax=ax)\n",
    "plt.ylabel('Scheduled Consultation Time', fontsize=14)\n",
    "plt.xticks(np.arange(N), [f'x{i+1}' for i in range(N)], \n",
    "           fontsize=14, rotation=0)\n",
    "plt.legend(fontsize=14, bbox_to_anchor=(1.43, 1.03))\n",
    "plt.grid()\n",
    "plt.show()"
   ]
  },
  {
   "cell_type": "markdown",
   "id": "eb1362ae",
   "metadata": {},
   "source": [
    "<br>\n",
    "<br>\n",
    "\n",
    "<font size=\"5\">Reference</font>\n",
    "\n",
    "```{bibliography}\n",
    ":filter: docname in docnames\n",
    "```"
   ]
  }
 ],
 "metadata": {
  "kernelspec": {
   "display_name": "Python 3 (ipykernel)",
   "language": "python",
   "name": "python3"
  },
  "language_info": {
   "codemirror_mode": {
    "name": "ipython",
    "version": 3
   },
   "file_extension": ".py",
   "mimetype": "text/x-python",
   "name": "python",
   "nbconvert_exporter": "python",
   "pygments_lexer": "ipython3",
   "version": "3.10.11"
  },
  "varInspector": {
   "cols": {
    "lenName": 16,
    "lenType": 16,
    "lenVar": 40
   },
   "kernels_config": {
    "python": {
     "delete_cmd_postfix": "",
     "delete_cmd_prefix": "del ",
     "library": "var_list.py",
     "varRefreshCmd": "print(var_dic_list())"
    },
    "r": {
     "delete_cmd_postfix": ") ",
     "delete_cmd_prefix": "rm(",
     "library": "var_list.r",
     "varRefreshCmd": "cat(var_dic_list()) "
    }
   },
   "types_to_exclude": [
    "module",
    "function",
    "builtin_function_or_method",
    "instance",
    "_Feature"
   ],
   "window_display": false
  }
 },
 "nbformat": 4,
 "nbformat_minor": 5
}
