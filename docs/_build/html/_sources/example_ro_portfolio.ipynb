{
 "cells": [
  {
   "cell_type": "markdown",
   "id": "b71312e2",
   "metadata": {},
   "source": [
    "(ro_portfolio:title)=\n",
    "# Robust Portfolio with Budgeted Uncertainty\n",
    "\n",
    "This section uses RSOME to solve the followig robust portfolio model as introduced by {cite:ps}`Bertsimas2004price`,\n",
    "\n",
    "$$\n",
    "\\begin{align}\n",
    "\\max~&\\min \\sum\\limits_{i=1}^n(p_i + \\delta_iz_i)x_i \\\\\n",
    "\\text{s.t.}~&\\sum\\limits_{i=1}^nx_i = 1 \\\\\n",
    "&\\pmb{x} \\in \\mathbb{R}_+^n,\n",
    "\\end{align}\n",
    "$$\n",
    "\n",
    "where $n$ is the total number of stocks, the affine term $p_i + \\delta_iz_i$ represents the random stock return, and the random variable $z_i$ is between $[-1, 1]$, so each stock return has an arbitrary distribution in the interval $[p_i-\\delta_i, p_i + \\delta_i]$. The uncertainty set $\\mathcal{Z}$ is given below,\n",
    "\n",
    "$$\n",
    "\\mathcal{Z} = \\left\\{\n",
    "\\pmb{z}: \\|\\pmb{z}\\|_{\\infty} \\leq 1, \\|\\pmb{z}\\|_1 \\leq \\Gamma\n",
    "\\right\\},\n",
    "$$\n",
    "\n",
    "where $\\Gamma$ is the budget of uncertainty parameter. Values of the budget of uncertainty and other parameters are presented as follows.\n",
    "\n",
    "$$\n",
    "\\begin{align}\n",
    "&n = 150, ~\\Gamma = 5 \\\\\n",
    "&p_i = 1.15 + i\\frac{0.05}{150} &&\\forall i=1, 2, ..., n\\\\\n",
    "&\\delta_i = \\frac{0.05}{450}\\sqrt{2in(n+1} &&\\forall i = 1, 2, ..., n.\n",
    "\\end{align}\n",
    "$$\n",
    "\n",
    "The robust optimization model can be implemented by the following Python code."
   ]
  },
  {
   "cell_type": "code",
   "execution_count": 1,
   "id": "4dcb7dc1",
   "metadata": {},
   "outputs": [
    {
     "name": "stdout",
     "output_type": "stream",
     "text": [
      "Being solved by the default LP solver...\n",
      "Solution status: 0\n",
      "Running time: 0.0062s\n"
     ]
    }
   ],
   "source": [
    "from rsome import ro\n",
    "import rsome as rso\n",
    "import numpy as np\n",
    "\n",
    "\n",
    "n = 150                                      # number of stocks\n",
    "Gamma = 5                                    # budget of uncertainty\n",
    "i = np.arange(1, n+1)                        # indices of stocks\n",
    "p = 1.15 + i*0.05/150                        # mean returns\n",
    "delta = 0.05/450 * (2*i*n*(n+1))**0.5        # deviations of returns\n",
    "\n",
    "model = ro.Model()              \n",
    "x = model.dvar(n)                            # fractions of investment\n",
    "z = model.rvar(n)                            # random variables\n",
    "\n",
    "model.maxmin((p + delta*z) @ x,              # the max-min objective\n",
    "             rso.norm(z, np.infty) <=1,      # the box constraints of the random variable z\n",
    "             rso.norm(z, 1) <= Gamma)        # the budget of uncertainty\n",
    "model.st(sum(x) == 1)                        # summation of x is one\n",
    "model.st(x >= 0)                             # x is non-negative\n",
    "\n",
    "model.solve()                                # solve the model by Gurobi"
   ]
  },
  {
   "cell_type": "markdown",
   "id": "a6d4de4d",
   "metadata": {},
   "source": [
    "The optimal investment decision can be visualized by the diagram below."
   ]
  },
  {
   "cell_type": "code",
   "execution_count": 2,
   "id": "1cebf8ed",
   "metadata": {
    "scrolled": true
   },
   "outputs": [
    {
     "data": {
      "image/png": "[encoded data removed]",
      "text/plain": [
       "<Figure size 460.8x345.6 with 1 Axes>"
      ]
     },
     "metadata": {},
     "output_type": "display_data"
    },
    {
     "name": "stdout",
     "output_type": "stream",
     "text": [
      "Objective value: 1.1709\n"
     ]
    }
   ],
   "source": [
    "import matplotlib.pyplot as plt\n",
    "\n",
    "obj_val = model.get()               # the optimal objective value\n",
    "x_sol = x.get()                     # the optimal investment decision\n",
    "\n",
    "plt.plot(range(1, n+1), x_sol,\n",
    "         linewidth=2, color='b')\n",
    "plt.xlabel('Stocks', fontsize=14)\n",
    "plt.ylabel('Fraction of investment', fontsize=14)\n",
    "plt.grid()\n",
    "plt.show()\n",
    "print('Objective value: {0:0.4f}'.format(obj_val))"
   ]
  },
  {
   "cell_type": "markdown",
   "id": "04a64381",
   "metadata": {},
   "source": [
    "<br>\n",
    "\n",
    "---\n",
    "\n",
    "<font size=\"5\">Reference</font>\n",
    "\n",
    "```{bibliography}\n",
    ":filter: docname in docnames\n",
    "```"
   ]
  }
 ],
 "metadata": {
  "kernelspec": {
   "display_name": "Python 3 (ipykernel)",
   "language": "python",
   "name": "python3"
  },
  "language_info": {
   "codemirror_mode": {
    "name": "ipython",
    "version": 3
   },
   "file_extension": ".py",
   "mimetype": "text/x-python",
   "name": "python",
   "nbconvert_exporter": "python",
   "pygments_lexer": "ipython3",
   "version": "3.10.11"
  },
  "varInspector": {
   "cols": {
    "lenName": 16,
    "lenType": 16,
    "lenVar": 40
   },
   "kernels_config": {
    "python": {
     "delete_cmd_postfix": "",
     "delete_cmd_prefix": "del ",
     "library": "var_list.py",
     "varRefreshCmd": "print(var_dic_list())"
    },
    "r": {
     "delete_cmd_postfix": ") ",
     "delete_cmd_prefix": "rm(",
     "library": "var_list.r",
     "varRefreshCmd": "cat(var_dic_list()) "
    }
   },
   "types_to_exclude": [
    "module",
    "function",
    "builtin_function_or_method",
    "instance",
    "_Feature"
   ],
   "window_display": false
  }
 },
 "nbformat": 4,
 "nbformat_minor": 5
}
