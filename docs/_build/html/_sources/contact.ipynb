{
 "cells": [
  {
   "cell_type": "markdown",
   "id": "e2c2e39a",
   "metadata": {},
   "source": [
    "# Contact Us\n",
    "\n",
    "## RSOME Team\n",
    "RSOME is primarly developed and maintained by [Zhi Chen](https://www.bschool.cuhk.edu.hk/staff/chen-zhi/), [Melvyn Sim](https://bizfaculty.nus.edu.sg/faculty-details/?profId=127), and [Peng Xiong](https://bizfaculty.nus.edu.sg/faculty-details/?profId=543). \n",
    "\n",
    "\n",
    "## Acknowledgment\n",
    "\n",
    "RSOME is a software project supported by Singapore Ministry of Education Tier 3 Grant *Science of Prescriptive Analytics*. Many researchers, including Li Chen, Erick Delage, Zhaowei Hao, Long He, Zhenyu Hu, Jun Jiang, Gal Perelman, Bradley Sturt, Qinshen Tang, Minglong Zhou, as well as anonymous users and paper reviewers, have helped greatly in the way of developing RSOME."
   ]
  },
  {
   "cell_type": "code",
   "execution_count": null,
   "id": "dffa7ee6",
   "metadata": {},
   "outputs": [],
   "source": []
  }
 ],
 "metadata": {
  "kernelspec": {
   "display_name": "Python 3 (ipykernel)",
   "language": "python",
   "name": "python3"
  },
  "language_info": {
   "codemirror_mode": {
    "name": "ipython",
    "version": 3
   },
   "file_extension": ".py",
   "mimetype": "text/x-python",
   "name": "python",
   "nbconvert_exporter": "python",
   "pygments_lexer": "ipython3",
   "version": "3.10.11"
  },
  "varInspector": {
   "cols": {
    "lenName": 16,
    "lenType": 16,
    "lenVar": 40
   },
   "kernels_config": {
    "python": {
     "delete_cmd_postfix": "",
     "delete_cmd_prefix": "del ",
     "library": "var_list.py",
     "varRefreshCmd": "print(var_dic_list())"
    },
    "r": {
     "delete_cmd_postfix": ") ",
     "delete_cmd_prefix": "rm(",
     "library": "var_list.r",
     "varRefreshCmd": "cat(var_dic_list()) "
    }
   },
   "types_to_exclude": [
    "module",
    "function",
    "builtin_function_or_method",
    "instance",
    "_Feature"
   ],
   "window_display": false
  }
 },
 "nbformat": 4,
 "nbformat_minor": 5
}
