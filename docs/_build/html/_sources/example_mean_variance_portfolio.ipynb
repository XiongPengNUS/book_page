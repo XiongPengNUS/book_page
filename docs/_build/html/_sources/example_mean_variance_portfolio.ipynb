{
 "cells": [
  {
   "cell_type": "markdown",
   "id": "ebf35d05",
   "metadata": {},
   "source": [
    "(mean_var_portfolio:title)= \n",
    "# Mean-Variance Portfolio\n",
    "\n",
    "In this example, we consider a portfolio optimization problem discussed in {cite:ps}`Ben_Nemirovski_2000robust`. Suppose there are $n=150$ stocks, and each stock $i$ has the mean return to be $p_i$ and the standard deviation to be $\\sigma_i$. Let $x_i$ be the fraction of the total wealth invested in stock $i$, a classic approach is to formulate the problem as a quadratic program, where a mean-variance objective function is maximized:\n",
    "\n",
    "```{math}\n",
    "\\begin{align}\n",
    "\\max~&\\sum\\limits_{i=1}^np_ix_i - \\phi \\sum\\limits_{i=1}^n \\sigma_i^2x_i^2 \\\\\n",
    "\\text{s.t.}~&\\sum\\limits_{i=1}^nx_i = 1 \\\\\n",
    "& x_i \\geq 0, ~\\forall i = 1, 2, ..., n,\n",
    "\\end{align}\n",
    "```\n",
    "\n",
    "with the constant $\\phi=5$, and the means and standard deviations are specified as\n",
    "\n",
    "```{math}\n",
    "\\begin{align}\n",
    "&p_i = 1.15 + i\\frac{0.05}{150} & \\forall i = 1, 2, ..., n\\\\\n",
    "&\\sigma_i = \\frac{0.05}{450}\\sqrt{2in(n+1)} & \\forall i = 1, 2, ..., n.\n",
    "\\end{align}\n",
    "```\n",
    "\n",
    "The quadratic program can be implemented by the following code segment."
   ]
  },
  {
   "cell_type": "code",
   "execution_count": 1,
   "id": "2d88992e",
   "metadata": {
    "scrolled": true
   },
   "outputs": [
    {
     "name": "stdout",
     "output_type": "stream",
     "text": [
      "Being solved by Mosek...\n",
      "Solution status: Optimal\n",
      "Running time: 0.0177s\n"
     ]
    }
   ],
   "source": [
    "from rsome import ro\n",
    "from rsome import msk_solver as msk\n",
    "import rsome as rso\n",
    "import numpy as np\n",
    "\n",
    "n = 150                                     # number of stocks\n",
    "i = np.arange(1, n+1)                       # indices of stocks\n",
    "p = 1.15 + i*0.05/150                       # mean returns\n",
    "sigma = 0.05/450 * (2*i*n*(n+1))**0.5       # standard deviations of returns\n",
    "phi = 5                                     # constant phi\n",
    "\n",
    "model = ro.Model('mv-portfolio')            # create an RSOME model\n",
    "\n",
    "x = model.dvar(n)                           # fractions of investment\n",
    "\n",
    "Q = np.diag(sigma**2)                       # covariance matrix\n",
    "model.max(p@x - phi*rso.quad(x, Q))         # mean-variance objective\n",
    "model.st(x.sum() == 1)                      # summation of x is one\n",
    "model.st(x >= 0)                            # x is non-negative\n",
    "\n",
    "model.solve(msk)"
   ]
  },
  {
   "cell_type": "markdown",
   "id": "70993ad2",
   "metadata": {},
   "source": [
    "The optimal investment and the optimal objective value are shown below."
   ]
  },
  {
   "cell_type": "code",
   "execution_count": 2,
   "id": "2502da2c",
   "metadata": {
    "scrolled": false
   },
   "outputs": [
    {
     "data": {
      "image/png": "[encoded data removed]",
      "text/plain": [
       "<Figure size 460.8x345.6 with 1 Axes>"
      ]
     },
     "metadata": {},
     "output_type": "display_data"
    },
    {
     "name": "stdout",
     "output_type": "stream",
     "text": [
      "Objective value: 1.1853\n"
     ]
    }
   ],
   "source": [
    "import matplotlib.pyplot as plt\n",
    "\n",
    "obj_val = model.get()               # the optimal objective value\n",
    "x_sol = x.get()                     # the optimal investment decision\n",
    "\n",
    "plt.plot(range(1, n+1), x_sol,\n",
    "         linewidth=2, color='b')\n",
    "plt.xlabel('Stocks', fontsize=14)\n",
    "plt.ylabel('Fraction of investment', fontsize=14)\n",
    "plt.grid()\n",
    "plt.show()\n",
    "print('Objective value: {0:0.4f}'.format(obj_val))"
   ]
  },
  {
   "cell_type": "markdown",
   "id": "d0d3b066",
   "metadata": {},
   "source": [
    "<br>\n",
    "\n",
    "---\n",
    "\n",
    "<font size=\"5\">Reference</font>\n",
    "\n",
    "```{bibliography}\n",
    ":filter: docname in docnames\n",
    "```"
   ]
  }
 ],
 "metadata": {
  "celltoolbar": "Edit Metadata",
  "kernelspec": {
   "display_name": "Python 3 (ipykernel)",
   "language": "python",
   "name": "python3"
  },
  "language_info": {
   "codemirror_mode": {
    "name": "ipython",
    "version": 3
   },
   "file_extension": ".py",
   "mimetype": "text/x-python",
   "name": "python",
   "nbconvert_exporter": "python",
   "pygments_lexer": "ipython3",
   "version": "3.10.11"
  },
  "varInspector": {
   "cols": {
    "lenName": 16,
    "lenType": 16,
    "lenVar": 40
   },
   "kernels_config": {
    "python": {
     "delete_cmd_postfix": "",
     "delete_cmd_prefix": "del ",
     "library": "var_list.py",
     "varRefreshCmd": "print(var_dic_list())"
    },
    "r": {
     "delete_cmd_postfix": ") ",
     "delete_cmd_prefix": "rm(",
     "library": "var_list.r",
     "varRefreshCmd": "cat(var_dic_list()) "
    }
   },
   "types_to_exclude": [
    "module",
    "function",
    "builtin_function_or_method",
    "instance",
    "_Feature"
   ],
   "window_display": false
  }
 },
 "nbformat": 4,
 "nbformat_minor": 5
}
