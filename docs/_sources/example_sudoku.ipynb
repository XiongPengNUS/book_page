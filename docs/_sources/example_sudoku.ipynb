{
 "cells": [
  {
   "cell_type": "markdown",
   "id": "fa8cfbcd",
   "metadata": {},
   "source": [
    "(sudoku:title)=\n",
    "# Integer Programming for Sudoku\n",
    "\n",
    "In this section we will use a [Sudoku](https://en.wikipedia.org/wiki/Sudoku) game to illustrate how to use integer and multi-dimensional arrays in RSOME. Sudoku is a popular number puzzle. The goal is to place the digits in \\[1,9\\] on a nine-by-nine grid, with some of the digits already filled in. The solution must satisfy the following four rules:\n",
    "\n",
    "1. Each cell contains an integer in \\[1,9\\].\n",
    "2. Each row must contain each of the integers in \\[1,9\\].\n",
    "3. Each column must contain each of the integers in \\[1,9\\].\n",
    "4. Each of the nine 3x3 squares with bold outlines must contain each of the integers in \\[1,9\\].\n",
    "\n",
    "<p align=\"center\">\n",
    "<img src=\"https://upload.wikimedia.org/wikipedia/commons/thumb/e/e0/Sudoku_Puzzle_by_L2G-20050714_standardized_layout.svg/1280px-Sudoku_Puzzle_by_L2G-20050714_standardized_layout.svg.png\" width=200>\n",
    "</p>\n",
    "\n",
    "The Sudoku game can be addressed as a feasibility optimization problem with the objective to be zero and constraints used to fulfill above rules. Consider a binary variable $x_{ijk}\\in \\{0, 1\\}$, with $i \\in [0, 8]$, $j \\in [0, 8]$, and $k \\in [0, 8]$. It equals to one if an integer $k+1$ is placed in a cell at the $i$th row and $j$th column. Let $a_{ij}$ be the known number at the $i$th row and $j$th column, with $(i, j)\\in\\mathcal{I}\\times\\mathcal{J}$ as $\\mathcal{I}$ and $\\mathcal{J}$ are the row and column indexes of numbers with known values, the Sudoku game can be thus written as the following integer program:\n",
    "\n",
    "```{math}\n",
    "\\begin{align}\n",
    "\\min~&0 \\\\\n",
    "\\text{s.t.}~& \\sum\\limits_{i=0}^8x_{ijk} = 1, \\forall j \\in [0, 8], k \\in [0, 8] \\\\\n",
    "& \\sum\\limits_{j=0}^8x_{ijk} = 1, \\forall i \\in [0, 8], k \\in [0, 8] \\\\\n",
    "& \\sum\\limits_{k=0}^8x_{ijk} = 1, \\forall i \\in [0, 8], j \\in [0, 8] \\\\\n",
    "& x_{ij(a_{ij}-1)} = 1, \\forall i \\in \\mathcal{I}, j \\in \\mathcal{J} \\\\\n",
    "& \\sum\\limits_{m=0}^2\\sum\\limits_{n=0}^2x_{(i+m), (j+m), k} = 1, \\forall i \\in \\{0, 3, 6\\}, j \\in \\{0, 3, 6\\}, k \\in [0, 8]\n",
    "\\end{align}\n",
    "```\n",
    "\n",
    "In the following code, we are using RSOME to implement such a model."
   ]
  },
  {
   "cell_type": "code",
   "execution_count": 1,
   "id": "b3108cd5",
   "metadata": {},
   "outputs": [
    {
     "name": "stdout",
     "output_type": "stream",
     "text": [
      "Being solved by Mosek...\n",
      "Solution status: Optimal\n",
      "Running time: 0.0165s\n"
     ]
    }
   ],
   "source": [
    "import numpy as np\n",
    "from rsome import ro\n",
    "from rsome import msk_solver as msk\n",
    "\n",
    "# Sudoku puzzle\n",
    "# zeros represent unknown numbers\n",
    "puzzle = np.array([[5, 3, 0, 0, 7, 0, 0, 0, 2],\n",
    "                   [6, 0, 0, 1, 9, 5, 0, 0, 0],\n",
    "                   [0, 9, 8, 0, 0, 0, 0, 6, 0],\n",
    "                   [8, 0, 0, 0, 6, 0, 0, 0, 3],\n",
    "                   [4, 0, 0, 8, 0, 3, 0, 0, 1],\n",
    "                   [7, 0, 0, 0, 2, 0, 0, 0, 6],\n",
    "                   [0, 6, 0, 0, 0, 0, 2, 8, 0],\n",
    "                   [0, 0, 0, 4, 1, 9, 0, 0, 5],\n",
    "                   [0, 0, 0, 0, 8, 0, 0, 7, 9]])\n",
    "\n",
    "# create model and binary decision variables\n",
    "model = ro.Model()\n",
    "x = model.dvar((9, 9, 9), vtype='B')\n",
    "\n",
    "# objective is set to be zero\n",
    "model.min(0)\n",
    "\n",
    "# constraints 1 to 3\n",
    "model.st(x.sum(axis=0) == 1,\n",
    "         x.sum(axis=1) == 1,\n",
    "         x.sum(axis=2) == 1)\n",
    "\n",
    "# constraints 4\n",
    "i, j = np.where(puzzle)\n",
    "model.st(x[i, j, puzzle[i, j]-1] == 1)\n",
    "\n",
    "# constraints 5\n",
    "for i in range(0, 9, 3):\n",
    "    for j in range(0, 9, 3):\n",
    "        model.st(x[i: i+3, j: j+3, :].sum(axis=(0, 1)) == 1)\n",
    "\n",
    "# solve the integer programming problem\n",
    "model.solve(msk)"
   ]
  },
  {
   "cell_type": "markdown",
   "id": "b8f6e483",
   "metadata": {},
   "source": [
    "The binary variable $x_{ijk}$ is defined to be a three-dimensional array `x` with the shape to be `(9, 9, 9)`. Based on the decision variable `x`, each set of constraints can be formulated as the array form by using the `sum()` method. The method `sum()` in RSOME is consistent with that in NumPy, where you may use the `axis` argument to specify along which axis the sum is performed.\n",
    "\n",
    "The Sudoku puzzle and the its solution are presented below."
   ]
  },
  {
   "cell_type": "code",
   "execution_count": 2,
   "id": "a1ea52e9",
   "metadata": {},
   "outputs": [
    {
     "name": "stdout",
     "output_type": "stream",
     "text": [
      "[[5 3 4 6 7 8 9 1 2]\n",
      " [6 7 2 1 9 5 3 4 8]\n",
      " [1 9 8 3 4 2 5 6 7]\n",
      " [8 5 9 7 6 1 4 2 3]\n",
      " [4 2 6 8 5 3 7 9 1]\n",
      " [7 1 3 9 2 4 8 5 6]\n",
      " [9 6 1 5 3 7 2 8 4]\n",
      " [2 8 7 4 1 9 6 3 5]\n",
      " [3 4 5 2 8 6 1 7 9]]\n"
     ]
    }
   ],
   "source": [
    "x_sol = x.get().astype('int')   # retrieve the solution as an array of integers\n",
    "\n",
    "print((x_sol * np.arange(1, 10).reshape((1, 1, 9))).sum(axis=2))"
   ]
  },
  {
   "cell_type": "markdown",
   "id": "06292d4e",
   "metadata": {},
   "source": [
    "Note that in defining \"constraints 4\", variables `i` and `j` represent the row and column indices of the fixed elements, which can be retrieved by the `np.where()` function. An alternative approach is to use the boolean indexing of arrays, as the code below."
   ]
  },
  {
   "cell_type": "code",
   "execution_count": 3,
   "id": "5804734c",
   "metadata": {
    "tags": [
     "remove-output"
    ]
   },
   "outputs": [
    {
     "data": {
      "text/plain": [
       "31 linear constraints"
      ]
     },
     "execution_count": 3,
     "metadata": {},
     "output_type": "execute_result"
    }
   ],
   "source": [
    "is_fixed = puzzle > 0\n",
    "model.st(x[is_fixed, puzzle[is_fixed]-1] == 1)"
   ]
  },
  {
   "cell_type": "markdown",
   "id": "21ae54c3",
   "metadata": {},
   "source": [
    "The variable `is_fixed` is an array with elements to be `True` if the numbers are fixed and `False` if the numbers are unknown. Such an array with boolean data can also be used as indexes, thus defining the same constraints."
   ]
  }
 ],
 "metadata": {
  "celltoolbar": "Edit Metadata",
  "kernelspec": {
   "display_name": "Python 3 (ipykernel)",
   "language": "python",
   "name": "python3"
  },
  "language_info": {
   "codemirror_mode": {
    "name": "ipython",
    "version": 3
   },
   "file_extension": ".py",
   "mimetype": "text/x-python",
   "name": "python",
   "nbconvert_exporter": "python",
   "pygments_lexer": "ipython3",
   "version": "3.10.11"
  },
  "varInspector": {
   "cols": {
    "lenName": 16,
    "lenType": 16,
    "lenVar": 40
   },
   "kernels_config": {
    "python": {
     "delete_cmd_postfix": "",
     "delete_cmd_prefix": "del ",
     "library": "var_list.py",
     "varRefreshCmd": "print(var_dic_list())"
    },
    "r": {
     "delete_cmd_postfix": ") ",
     "delete_cmd_prefix": "rm(",
     "library": "var_list.r",
     "varRefreshCmd": "cat(var_dic_list()) "
    }
   },
   "types_to_exclude": [
    "module",
    "function",
    "builtin_function_or_method",
    "instance",
    "_Feature"
   ],
   "window_display": false
  }
 },
 "nbformat": 4,
 "nbformat_minor": 5
}
