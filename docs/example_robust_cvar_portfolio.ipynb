{
 "cells": [
  {
   "cell_type": "markdown",
   "id": "5c946184",
   "metadata": {},
   "source": [
    "(robust_cvar_portfolio:title)=\n",
    "# Conditional Value-at-Risk in Robust Portfolio\n",
    "\n",
    "## Problem and Data Description\n",
    "The robust portfolio management model proposed by {cite:ps}`Zhu_Fukushima2009worst` minimizes the conditional value-at-risk (CVaR) under the worst-case distributions over an uncertainty set $\\Pi$. The formulation is written as\n",
    "\n",
    "$$\n",
    "\\begin{align}\n",
    "\\min~&\\max\\limits_{\\pmb{\\pi}\\in\\Pi}~\\alpha + \\frac{1}{1-\\beta}\\pmb{\\pi}^{\\top}\\pmb{u} \\\\\n",
    "\\text{s.t.}~&u_k \\geq -\\pmb{y}_k^{\\top}\\pmb{x} - \\alpha &&\\forall k=1, 2, ..., s \\\\\n",
    "&u_k \\geq 0 &&\\forall k=1, 2, ..., s \\\\\n",
    "&\\sum\\limits_{k=1}^s\\pi_k\\pmb{r}_k^{\\top}\\pmb{x} \\geq \\mu&&\\forall \\pmb{\\pi} \\in \\Pi \\\\\n",
    "&\\sum\\limits_{i=1}^nx_i = 1, \\\\\n",
    "&\\pmb{x}\\in\\mathbb{R}_+^n, ~\\pmb{u}\\in\\mathbb{R}^s, ~\\alpha\\in\\mathbb{R}\n",
    "\\end{align}\n",
    "$$\n",
    "\n",
    "with investment decisions $\\pmb{x}\\in\\mathbb{R}^n$ and auxiliary variables $\\pmb{u}\\in\\mathbb{R}^s$ and $\\alpha\\in\\mathbb{R}$ used for calculating the CVaR, assuming a confidence level of $\\beta=0.95$, where $n$ is the number of stocks, and $s$ is the number of sample records. The array $\\pmb{\\pi}\\in\\mathbb{R}^S$ constitutes a vector of random variables representing sample probabilities. The worst-case minimum expected return rate of the portfolio is fixed at $\\mu=0.0025$. "
   ]
  },
  {
   "cell_type": "code",
   "execution_count": 1,
   "id": "0fa88ee0",
   "metadata": {},
   "outputs": [],
   "source": [
    "beta = 0.95\n",
    "mu = 0.0025"
   ]
  },
  {
   "cell_type": "markdown",
   "id": "906d4c91",
   "metadata": {},
   "source": [
    "The parameter $\\pmb{r}_k\\in\\mathbb{R}^n$ denotes the stock return rates in the $k$th sample record, determined by executing the following code with he weekly price data provided in the file [stocks.csv](stocks.csv)."
   ]
  },
  {
   "cell_type": "code",
   "execution_count": 2,
   "id": "62abb86c",
   "metadata": {
    "scrolled": false
   },
   "outputs": [
    {
     "data": {
      "text/html": [
       "<div>\n",
       "<style scoped>\n",
       "    .dataframe tbody tr th:only-of-type {\n",
       "        vertical-align: middle;\n",
       "    }\n",
       "\n",
       "    .dataframe tbody tr th {\n",
       "        vertical-align: top;\n",
       "    }\n",
       "\n",
       "    .dataframe thead th {\n",
       "        text-align: right;\n",
       "    }\n",
       "</style>\n",
       "<table border=\"1\" class=\"dataframe\">\n",
       "  <thead>\n",
       "    <tr style=\"text-align: right;\">\n",
       "      <th></th>\n",
       "      <th>PM</th>\n",
       "      <th>LMT</th>\n",
       "      <th>MCD</th>\n",
       "      <th>MMM</th>\n",
       "      <th>AAPL</th>\n",
       "      <th>MSFT</th>\n",
       "      <th>TXN</th>\n",
       "      <th>CSCO</th>\n",
       "    </tr>\n",
       "    <tr>\n",
       "      <th>Date</th>\n",
       "      <th></th>\n",
       "      <th></th>\n",
       "      <th></th>\n",
       "      <th></th>\n",
       "      <th></th>\n",
       "      <th></th>\n",
       "      <th></th>\n",
       "      <th></th>\n",
       "    </tr>\n",
       "  </thead>\n",
       "  <tbody>\n",
       "    <tr>\n",
       "      <th>2016-03-14</th>\n",
       "      <td>64.949173</td>\n",
       "      <td>180.019562</td>\n",
       "      <td>102.719170</td>\n",
       "      <td>126.234161</td>\n",
       "      <td>24.238022</td>\n",
       "      <td>47.876026</td>\n",
       "      <td>46.356270</td>\n",
       "      <td>22.215748</td>\n",
       "    </tr>\n",
       "    <tr>\n",
       "      <th>2016-03-21</th>\n",
       "      <td>64.552208</td>\n",
       "      <td>177.648163</td>\n",
       "      <td>102.065163</td>\n",
       "      <td>125.569939</td>\n",
       "      <td>24.180813</td>\n",
       "      <td>48.520458</td>\n",
       "      <td>46.039604</td>\n",
       "      <td>21.925604</td>\n",
       "    </tr>\n",
       "    <tr>\n",
       "      <th>2016-03-28</th>\n",
       "      <td>66.684425</td>\n",
       "      <td>181.812302</td>\n",
       "      <td>105.153030</td>\n",
       "      <td>127.913895</td>\n",
       "      <td>25.169373</td>\n",
       "      <td>49.737732</td>\n",
       "      <td>47.046474</td>\n",
       "      <td>22.498055</td>\n",
       "    </tr>\n",
       "    <tr>\n",
       "      <th>2016-04-04</th>\n",
       "      <td>67.439835</td>\n",
       "      <td>184.411819</td>\n",
       "      <td>105.931198</td>\n",
       "      <td>127.226768</td>\n",
       "      <td>24.865019</td>\n",
       "      <td>48.708424</td>\n",
       "      <td>47.005863</td>\n",
       "      <td>21.713879</td>\n",
       "    </tr>\n",
       "    <tr>\n",
       "      <th>2016-04-11</th>\n",
       "      <td>66.925095</td>\n",
       "      <td>184.012543</td>\n",
       "      <td>105.782211</td>\n",
       "      <td>128.868317</td>\n",
       "      <td>25.137335</td>\n",
       "      <td>49.809334</td>\n",
       "      <td>47.850330</td>\n",
       "      <td>22.078634</td>\n",
       "    </tr>\n",
       "    <tr>\n",
       "      <th>...</th>\n",
       "      <td>...</td>\n",
       "      <td>...</td>\n",
       "      <td>...</td>\n",
       "      <td>...</td>\n",
       "      <td>...</td>\n",
       "      <td>...</td>\n",
       "      <td>...</td>\n",
       "      <td>...</td>\n",
       "    </tr>\n",
       "    <tr>\n",
       "      <th>2021-02-15</th>\n",
       "      <td>72.940125</td>\n",
       "      <td>308.861115</td>\n",
       "      <td>198.451248</td>\n",
       "      <td>156.066315</td>\n",
       "      <td>127.806870</td>\n",
       "      <td>234.667755</td>\n",
       "      <td>165.299896</td>\n",
       "      <td>42.086960</td>\n",
       "    </tr>\n",
       "    <tr>\n",
       "      <th>2021-02-22</th>\n",
       "      <td>71.719475</td>\n",
       "      <td>304.100555</td>\n",
       "      <td>192.747543</td>\n",
       "      <td>154.757996</td>\n",
       "      <td>119.333656</td>\n",
       "      <td>226.823624</td>\n",
       "      <td>159.664795</td>\n",
       "      <td>41.340672</td>\n",
       "    </tr>\n",
       "    <tr>\n",
       "      <th>2021-03-01</th>\n",
       "      <td>73.546188</td>\n",
       "      <td>315.877991</td>\n",
       "      <td>195.090607</td>\n",
       "      <td>159.832321</td>\n",
       "      <td>119.491135</td>\n",
       "      <td>226.062317</td>\n",
       "      <td>155.651611</td>\n",
       "      <td>42.612125</td>\n",
       "    </tr>\n",
       "    <tr>\n",
       "      <th>2021-03-08</th>\n",
       "      <td>74.877792</td>\n",
       "      <td>315.655334</td>\n",
       "      <td>199.766327</td>\n",
       "      <td>163.474487</td>\n",
       "      <td>119.107315</td>\n",
       "      <td>230.113052</td>\n",
       "      <td>160.869659</td>\n",
       "      <td>44.979977</td>\n",
       "    </tr>\n",
       "    <tr>\n",
       "      <th>2021-03-15</th>\n",
       "      <td>77.302025</td>\n",
       "      <td>332.598450</td>\n",
       "      <td>209.701019</td>\n",
       "      <td>168.849396</td>\n",
       "      <td>118.615242</td>\n",
       "      <td>225.203339</td>\n",
       "      <td>161.601852</td>\n",
       "      <td>44.961548</td>\n",
       "    </tr>\n",
       "  </tbody>\n",
       "</table>\n",
       "<p>262 rows × 8 columns</p>\n",
       "</div>"
      ],
      "text/plain": [
       "                   PM         LMT         MCD         MMM        AAPL  \\\n",
       "Date                                                                    \n",
       "2016-03-14  64.949173  180.019562  102.719170  126.234161   24.238022   \n",
       "2016-03-21  64.552208  177.648163  102.065163  125.569939   24.180813   \n",
       "2016-03-28  66.684425  181.812302  105.153030  127.913895   25.169373   \n",
       "2016-04-04  67.439835  184.411819  105.931198  127.226768   24.865019   \n",
       "2016-04-11  66.925095  184.012543  105.782211  128.868317   25.137335   \n",
       "...               ...         ...         ...         ...         ...   \n",
       "2021-02-15  72.940125  308.861115  198.451248  156.066315  127.806870   \n",
       "2021-02-22  71.719475  304.100555  192.747543  154.757996  119.333656   \n",
       "2021-03-01  73.546188  315.877991  195.090607  159.832321  119.491135   \n",
       "2021-03-08  74.877792  315.655334  199.766327  163.474487  119.107315   \n",
       "2021-03-15  77.302025  332.598450  209.701019  168.849396  118.615242   \n",
       "\n",
       "                  MSFT         TXN       CSCO  \n",
       "Date                                           \n",
       "2016-03-14   47.876026   46.356270  22.215748  \n",
       "2016-03-21   48.520458   46.039604  21.925604  \n",
       "2016-03-28   49.737732   47.046474  22.498055  \n",
       "2016-04-04   48.708424   47.005863  21.713879  \n",
       "2016-04-11   49.809334   47.850330  22.078634  \n",
       "...                ...         ...        ...  \n",
       "2021-02-15  234.667755  165.299896  42.086960  \n",
       "2021-02-22  226.823624  159.664795  41.340672  \n",
       "2021-03-01  226.062317  155.651611  42.612125  \n",
       "2021-03-08  230.113052  160.869659  44.979977  \n",
       "2021-03-15  225.203339  161.601852  44.961548  \n",
       "\n",
       "[262 rows x 8 columns]"
      ]
     },
     "execution_count": 2,
     "metadata": {},
     "output_type": "execute_result"
    }
   ],
   "source": [
    "import pandas as pd\n",
    "\n",
    "data = pd.read_csv('stocks.csv').set_index('Date')\n",
    "data"
   ]
  },
  {
   "cell_type": "code",
   "execution_count": 3,
   "id": "e622320a",
   "metadata": {},
   "outputs": [],
   "source": [
    "r = data.pct_change().dropna().values\n",
    "s, n = r.shape"
   ]
  },
  {
   "cell_type": "markdown",
   "id": "3bb877c6",
   "metadata": {},
   "source": [
    "Different specifications for the uncertainty set $\\Pi$ of probability distributions are illustrated in the upcoming sections.\n",
    "\n",
    "## Nominal CVaR model\n",
    "\n",
    "In the nominal model, the evaluation of CVaR and expected returns assumes that the exact distribution of stock returns is precisely represented by the historical samples, without introducing any distributional ambiguity. In other words, the uncertainty set is defined as $\\Pi={\\pmb{\\pi}^0}$, where the probability $pi_k^0=1/s$, with $k=1, 2, ..., s$. The Python code for implementing the nominal model is provided below."
   ]
  },
  {
   "cell_type": "code",
   "execution_count": 4,
   "id": "0dd5248f",
   "metadata": {
    "scrolled": true
   },
   "outputs": [
    {
     "name": "stdout",
     "output_type": "stream",
     "text": [
      "Being solved by Mosek...\n",
      "Solution status: Optimal\n",
      "Running time: 0.0177s\n"
     ]
    }
   ],
   "source": [
    "from rsome import ro\n",
    "from rsome import msk_solver as msk\n",
    "import numpy as np\n",
    "\n",
    "model = ro.Model()\n",
    "\n",
    "pi = np.ones(s) / s\n",
    "\n",
    "x = model.dvar(n)\n",
    "u = model.dvar(s)\n",
    "alpha = model.dvar()\n",
    "\n",
    "model.min(alpha + 1/(1-beta) * (pi@u))\n",
    "model.st(u >= -r@x - alpha)\n",
    "model.st(u >= 0)\n",
    "model.st(pi@r@x >= mu)\n",
    "model.st(x.sum() == 1, x>= 0, alpha >= 0)\n",
    "\n",
    "model.solve(msk)"
   ]
  },
  {
   "cell_type": "markdown",
   "id": "44c43992",
   "metadata": {},
   "source": [
    "After solving the model to optimality, we may retrieve the optimal solution and objective value in terms of the CVaR of returns. "
   ]
  },
  {
   "cell_type": "code",
   "execution_count": 5,
   "id": "74524d21",
   "metadata": {},
   "outputs": [
    {
     "name": "stdout",
     "output_type": "stream",
     "text": [
      "Objective value: 0.05633510806870595\n"
     ]
    }
   ],
   "source": [
    "x_nom = x.get()\n",
    "print(f'Objective value: {model.get()}')"
   ]
  },
  {
   "cell_type": "markdown",
   "id": "22d24cc6",
   "metadata": {},
   "source": [
    "## Worst-Case CVaR Model with Box Uncertainty\n",
    "\n",
    "Here, we consider a box uncertainty set for probabilities:\n",
    "\n",
    "$$\n",
    "\\Pi = \\left\\{\n",
    "\\pmb{\\pi}: \\pmb{\\pi} = \\pmb{\\pi}^0 + \\pmb{\\eta}, ~\\pmb{1}^{\\top}\\pmb{\\eta}=0,~\\underline{\\pmb{\\eta}}\\leq \\pmb{\\eta} \\leq \\overline{\\pmb{\\eta}}\n",
    "\\right\\},\n",
    "$$\n",
    "\n",
    "where $\\pmb{\\pi}^0$ used in the nominal model is the center of the box. In the following numerical study, we assume that $-\\underline{\\pmb{\\eta}}\\leq \\pmb{\\eta} \\leq \\overline{\\pmb{\\eta}} = 0.0005$, and the Python code for solving such a model is shown below."
   ]
  },
  {
   "cell_type": "code",
   "execution_count": 6,
   "id": "62254897",
   "metadata": {
    "scrolled": false
   },
   "outputs": [
    {
     "name": "stdout",
     "output_type": "stream",
     "text": [
      "Being solved by Mosek...\n",
      "Solution status: Optimal\n",
      "Running time: 0.0207s\n"
     ]
    }
   ],
   "source": [
    "from rsome import ro\n",
    "from rsome import msk_solver as msk\n",
    "\n",
    "model = ro.Model()\n",
    "\n",
    "eta_ub = 0.0005                 # upper bound of eta\n",
    "eta_lb = -0.0005                # lower bound of eta\n",
    "\n",
    "eta = model.rvar(s)             # eta as random variables\n",
    "uset = (eta.sum() == 0,\n",
    "        eta >= eta_lb,\n",
    "        eta <= eta_ub)\n",
    "pi = 1/s + eta                  # pi as inexact probabilities\n",
    "\n",
    "x = model.dvar(n)\n",
    "u = model.dvar(s)\n",
    "alpha = model.dvar()\n",
    "\n",
    "model.minmax(alpha + 1/(1-beta) * (pi@u), uset)\n",
    "model.st(u >= -r@x - alpha)\n",
    "model.st(u >= 0)\n",
    "model.st(pi@r@x >= mu)\n",
    "model.st(x.sum() == 1, x>= 0, alpha >= 0)\n",
    "\n",
    "model.solve(msk)"
   ]
  },
  {
   "cell_type": "code",
   "execution_count": 7,
   "id": "533a7939",
   "metadata": {},
   "outputs": [
    {
     "name": "stdout",
     "output_type": "stream",
     "text": [
      "Objective value: 0.05943115482748882\n"
     ]
    }
   ],
   "source": [
    "x_box = x.get()\n",
    "print(f'Objective value: {model.get()}')"
   ]
  },
  {
   "cell_type": "markdown",
   "id": "b2381c13",
   "metadata": {},
   "source": [
    "## Worst-Case CVaR Model with Ellipsoidal Uncertainty\n",
    "\n",
    "Besides a box uncertainty set, $\\Pi$ can be expressed as an ellipsoid centered at $\\pmb{\\pi}^0$:\n",
    "\n",
    "$$\n",
    "\\Pi = \\left\\{\n",
    "\\pmb{\\pi}: \\pmb{\\pi} = \\pmb{\\pi}^0 + \\rho\\pmb{\\eta}, ~\\pmb{1}^{\\top}\\pmb{\\eta}=0,~\\pmb{\\pi}^0 + \\rho\\pmb{\\eta} \\geq 0, ~ \\|\\pmb{\\eta}\\| \\leq 1\n",
    "\\right\\},\n",
    "$$\n",
    "\n",
    "where the radius coefficient $\\rho=0.002$ in the following numerical studies. "
   ]
  },
  {
   "cell_type": "code",
   "execution_count": 8,
   "id": "329b5422",
   "metadata": {},
   "outputs": [
    {
     "name": "stdout",
     "output_type": "stream",
     "text": [
      "Being solved by Mosek...\n",
      "Solution status: Optimal\n",
      "Running time: 0.0210s\n"
     ]
    }
   ],
   "source": [
    "from rsome import ro\n",
    "from rsome import msk_solver as msk\n",
    "import rsome as rso\n",
    "\n",
    "model = ro.Model()\n",
    "\n",
    "rho = 0.002\n",
    "\n",
    "eta = model.rvar(s)\n",
    "uset = (eta.sum() == 0, 1/s + rho*eta >= 0,\n",
    "        rso.norm(eta) <= 1)\n",
    "pi = 1/s + rho*eta\n",
    "\n",
    "x = model.dvar(n)\n",
    "u = model.dvar(s)\n",
    "alpha = model.dvar()\n",
    "\n",
    "model.minmax(alpha + 1/(1-beta) * (pi@u), uset)\n",
    "model.st(u >= -r@x - alpha)\n",
    "model.st(u >= 0)\n",
    "model.st(pi@r@x >= mu)\n",
    "model.st(x.sum() == 1, x>= 0, alpha >= 0)\n",
    "\n",
    "model.solve(msk)"
   ]
  },
  {
   "cell_type": "code",
   "execution_count": 9,
   "id": "be62c5db",
   "metadata": {},
   "outputs": [
    {
     "name": "stdout",
     "output_type": "stream",
     "text": [
      "Objective value: 0.06107405767448711\n"
     ]
    }
   ],
   "source": [
    "x_ellip = x.get()\n",
    "print(f'Objective value: {model.get()}')"
   ]
  },
  {
   "cell_type": "markdown",
   "id": "8963ddb6",
   "metadata": {},
   "source": [
    "## Worst-Case CVaR with  Kullback-Leibler Divergence\n",
    "\n",
    "The distribution ambiguity can also be captured by the Kullback-Leibler divergence metrics, hence we have the following uncertainty set\n",
    "\n",
    "$$\n",
    "\\Pi = \\left\\{\n",
    "\\pmb{\\pi}: \\pmb{\\pi} \\geq \\pmb{0},~\\pmb{1}^{\\top}\\pmb{\\pi}=1,~\\sum\\limits_{k=1}^s\\pi_k\\log\\left(\\frac{\\pi_k}{\\pi_k^0}\\right) \\leq \\epsilon\n",
    "\\right\\},\n",
    "$$\n",
    "\n",
    "where the empirical probability $\\pi_k^0=1/s$ as mentioned in the nominal model. Assume that the constant $\\epsilon=0.005$, the code for implementing such a robust model can be written as below."
   ]
  },
  {
   "cell_type": "code",
   "execution_count": 10,
   "id": "f92ec2ea",
   "metadata": {},
   "outputs": [
    {
     "name": "stdout",
     "output_type": "stream",
     "text": [
      "Being solved by Mosek...\n",
      "Solution status: Optimal\n",
      "Running time: 0.0888s\n"
     ]
    }
   ],
   "source": [
    "from rsome import ro\n",
    "from rsome import msk_solver as msk\n",
    "import rsome as rso\n",
    "\n",
    "model = ro.Model()\n",
    "\n",
    "epsilon = 0.005\n",
    "\n",
    "pi = model.rvar(s)\n",
    "uset = (pi.sum() ==1, pi >= 0,\n",
    "        rso.kldiv(pi, 1/s, epsilon))    # uncertainty set of pi\n",
    "\n",
    "x = model.dvar(n)\n",
    "u = model.dvar(s)\n",
    "alpha = model.dvar()\n",
    "\n",
    "model.minmax(alpha + 1/(1-beta) * (pi@u), uset)\n",
    "model.st(u >= -r@x - alpha)\n",
    "model.st(u >= 0)\n",
    "model.st(pi@r@x >= mu)\n",
    "model.st(x.sum() == 1, x>= 0, alpha >= 0)\n",
    "\n",
    "model.solve(msk)"
   ]
  },
  {
   "cell_type": "code",
   "execution_count": 11,
   "id": "f4374ab4",
   "metadata": {},
   "outputs": [
    {
     "name": "stdout",
     "output_type": "stream",
     "text": [
      "Objective value: 0.07154316128766706\n"
     ]
    }
   ],
   "source": [
    "x_kld = x.get()\n",
    "print(f'Objective value: {model.get()}')"
   ]
  },
  {
   "cell_type": "markdown",
   "id": "8ceb3e6b",
   "metadata": {},
   "source": [
    "## Visualization of Portfolio Decisions\n",
    "\n",
    "The following code segment visualizes the optimal solutions of different models in terms of the allocation of investment."
   ]
  },
  {
   "cell_type": "code",
   "execution_count": 12,
   "id": "89327528",
   "metadata": {
    "scrolled": false
   },
   "outputs": [
    {
     "data": {
      "image/png": "[encoded data removed]",
      "text/plain": [
       "<Figure size 648x432 with 1 Axes>"
      ]
     },
     "metadata": {},
     "output_type": "display_data"
    }
   ],
   "source": [
    "import matplotlib.pyplot as plt\n",
    "\n",
    "fig, axes = plt.subplots(1, 1, figsize=(9, 6))\n",
    "results = pd.DataFrame({'Nominal Distribution': x_nom,\n",
    "                        'Box Uncertainty': x_box,\n",
    "                        'Ellipsoidal Uncertainty': x_ellip,\n",
    "                        'KL Divergence': x_kld})\n",
    "\n",
    "results.plot(kind='bar', ax=axes)\n",
    "axes.set_xticks(range(n), data.columns, rotation=0)\n",
    "plt.legend(loc='upper left', fontsize=14)\n",
    "plt.ylabel('Fraction of Investment', fontsize=14)\n",
    "plt.xticks(fontsize=14)\n",
    "plt.yticks(fontsize=12)\n",
    "plt.grid()\n",
    "plt.show()"
   ]
  },
  {
   "cell_type": "markdown",
   "id": "b5226c91",
   "metadata": {},
   "source": [
    "In this case study, the stock return rates for each sample record are deterministically set as $\\pmb{r}_k$, without incorporating any uncertainty. As suggested by {cite:ps}`Bertsimas_Shtern_Surt2022two`, these fixed return outcomes can alternatively be modeled as random variables, subject to user-specified supports. This approach will be elucidated using the RSOME `dro` module for addressing distributionally robust optimization problems."
   ]
  },
  {
   "cell_type": "markdown",
   "id": "e6340c48",
   "metadata": {},
   "source": [
    "<br>\n",
    "\n",
    "---\n",
    "\n",
    "<font size=\"5\">Reference</font>\n",
    "\n",
    "```{bibliography}\n",
    ":filter: docname in docnames\n",
    "```"
   ]
  }
 ],
 "metadata": {
  "kernelspec": {
   "display_name": "Python 3 (ipykernel)",
   "language": "python",
   "name": "python3"
  },
  "language_info": {
   "codemirror_mode": {
    "name": "ipython",
    "version": 3
   },
   "file_extension": ".py",
   "mimetype": "text/x-python",
   "name": "python",
   "nbconvert_exporter": "python",
   "pygments_lexer": "ipython3",
   "version": "3.10.11"
  },
  "varInspector": {
   "cols": {
    "lenName": 16,
    "lenType": 16,
    "lenVar": 40
   },
   "kernels_config": {
    "python": {
     "delete_cmd_postfix": "",
     "delete_cmd_prefix": "del ",
     "library": "var_list.py",
     "varRefreshCmd": "print(var_dic_list())"
    },
    "r": {
     "delete_cmd_postfix": ") ",
     "delete_cmd_prefix": "rm(",
     "library": "var_list.r",
     "varRefreshCmd": "cat(var_dic_list()) "
    }
   },
   "types_to_exclude": [
    "module",
    "function",
    "builtin_function_or_method",
    "instance",
    "_Feature"
   ],
   "window_display": false
  }
 },
 "nbformat": 4,
 "nbformat_minor": 5
}
