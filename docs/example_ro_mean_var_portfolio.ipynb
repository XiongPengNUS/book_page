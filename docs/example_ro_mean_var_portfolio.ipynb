{
 "cells": [
  {
   "cell_type": "markdown",
   "id": "8dc5bd52",
   "metadata": {},
   "source": [
    "(example_ro_mean_var_portfolio:title)=\n",
    "# Robust Mean-Variance Portfolio\n",
    "\n",
    "This case study will replicate the results of a robust mean-variance portfolio model presented in {cite:ps}`Aps2023mosek` in a more concise and straightforward way. The model is written as\n",
    "\n",
    "$$\n",
    "\\begin{align}\n",
    "\\max~&\\min\\limits_{\\pmb{\\mu}\\in\\mathcal{U}}~\\pmb{\\mu}^{\\top}\\pmb{x} - \\frac{\\delta}{2}\\pmb{x}^{\\top}\\pmb{\\Sigma}\\pmb{x} \\\\\n",
    "\\text{s.t.}~&\\sum\\limits_{i=1}^n\\pmb{x} = 1 \\\\\n",
    "&\\pmb{x}\\in\\mathbb{R}_+^n,\n",
    "\\end{align}\n",
    "$$\n",
    "\n",
    "where the mean returns $\\pmb{\\mu}$ belongs to the ellipsoidal uncertainty set\n",
    "\n",
    "$$\n",
    "\\mathcal{U} = \\left\\{\n",
    "\\pmb{\\mu}: \\left(\\pmb{\\mu} - \\pmb{\\mu}_0\\right)^{\\top}Q^{-1}\\left(\\pmb{\\mu} - \\pmb{\\mu}_0\\right) \\leq \\gamma^2\n",
    "\\right\\},\n",
    "$$\n",
    "\n",
    "with $Q$ being a known positive semidefinite matrix. \n",
    "\n",
    "The nominal mean returns $\\pmb{\\mu}$ and the covariance matrix $\\pmb{\\Sigma}$ are estimated based on the [stocks.csv](stocks.csv) dataset, which provides the weekly prices of eight stocks from March 21, 2016 to March 18, 2021. "
   ]
  },
  {
   "cell_type": "code",
   "execution_count": 1,
   "id": "ab636488",
   "metadata": {
    "scrolled": true
   },
   "outputs": [
    {
     "data": {
      "text/html": [
       "<div>\n",
       "<style scoped>\n",
       "    .dataframe tbody tr th:only-of-type {\n",
       "        vertical-align: middle;\n",
       "    }\n",
       "\n",
       "    .dataframe tbody tr th {\n",
       "        vertical-align: top;\n",
       "    }\n",
       "\n",
       "    .dataframe thead th {\n",
       "        text-align: right;\n",
       "    }\n",
       "</style>\n",
       "<table border=\"1\" class=\"dataframe\">\n",
       "  <thead>\n",
       "    <tr style=\"text-align: right;\">\n",
       "      <th></th>\n",
       "      <th>PM</th>\n",
       "      <th>LMT</th>\n",
       "      <th>MCD</th>\n",
       "      <th>MMM</th>\n",
       "      <th>AAPL</th>\n",
       "      <th>MSFT</th>\n",
       "      <th>TXN</th>\n",
       "      <th>CSCO</th>\n",
       "    </tr>\n",
       "    <tr>\n",
       "      <th>Date</th>\n",
       "      <th></th>\n",
       "      <th></th>\n",
       "      <th></th>\n",
       "      <th></th>\n",
       "      <th></th>\n",
       "      <th></th>\n",
       "      <th></th>\n",
       "      <th></th>\n",
       "    </tr>\n",
       "  </thead>\n",
       "  <tbody>\n",
       "    <tr>\n",
       "      <th>2016-03-14</th>\n",
       "      <td>64.949173</td>\n",
       "      <td>180.019562</td>\n",
       "      <td>102.719170</td>\n",
       "      <td>126.234161</td>\n",
       "      <td>24.238022</td>\n",
       "      <td>47.876026</td>\n",
       "      <td>46.356270</td>\n",
       "      <td>22.215748</td>\n",
       "    </tr>\n",
       "    <tr>\n",
       "      <th>2016-03-21</th>\n",
       "      <td>64.552208</td>\n",
       "      <td>177.648163</td>\n",
       "      <td>102.065163</td>\n",
       "      <td>125.569939</td>\n",
       "      <td>24.180813</td>\n",
       "      <td>48.520458</td>\n",
       "      <td>46.039604</td>\n",
       "      <td>21.925604</td>\n",
       "    </tr>\n",
       "    <tr>\n",
       "      <th>2016-03-28</th>\n",
       "      <td>66.684425</td>\n",
       "      <td>181.812302</td>\n",
       "      <td>105.153030</td>\n",
       "      <td>127.913895</td>\n",
       "      <td>25.169373</td>\n",
       "      <td>49.737732</td>\n",
       "      <td>47.046474</td>\n",
       "      <td>22.498055</td>\n",
       "    </tr>\n",
       "    <tr>\n",
       "      <th>2016-04-04</th>\n",
       "      <td>67.439835</td>\n",
       "      <td>184.411819</td>\n",
       "      <td>105.931198</td>\n",
       "      <td>127.226768</td>\n",
       "      <td>24.865019</td>\n",
       "      <td>48.708424</td>\n",
       "      <td>47.005863</td>\n",
       "      <td>21.713879</td>\n",
       "    </tr>\n",
       "    <tr>\n",
       "      <th>2016-04-11</th>\n",
       "      <td>66.925095</td>\n",
       "      <td>184.012543</td>\n",
       "      <td>105.782211</td>\n",
       "      <td>128.868317</td>\n",
       "      <td>25.137335</td>\n",
       "      <td>49.809334</td>\n",
       "      <td>47.850330</td>\n",
       "      <td>22.078634</td>\n",
       "    </tr>\n",
       "    <tr>\n",
       "      <th>...</th>\n",
       "      <td>...</td>\n",
       "      <td>...</td>\n",
       "      <td>...</td>\n",
       "      <td>...</td>\n",
       "      <td>...</td>\n",
       "      <td>...</td>\n",
       "      <td>...</td>\n",
       "      <td>...</td>\n",
       "    </tr>\n",
       "    <tr>\n",
       "      <th>2021-02-15</th>\n",
       "      <td>72.940125</td>\n",
       "      <td>308.861115</td>\n",
       "      <td>198.451248</td>\n",
       "      <td>156.066315</td>\n",
       "      <td>127.806870</td>\n",
       "      <td>234.667755</td>\n",
       "      <td>165.299896</td>\n",
       "      <td>42.086960</td>\n",
       "    </tr>\n",
       "    <tr>\n",
       "      <th>2021-02-22</th>\n",
       "      <td>71.719475</td>\n",
       "      <td>304.100555</td>\n",
       "      <td>192.747543</td>\n",
       "      <td>154.757996</td>\n",
       "      <td>119.333656</td>\n",
       "      <td>226.823624</td>\n",
       "      <td>159.664795</td>\n",
       "      <td>41.340672</td>\n",
       "    </tr>\n",
       "    <tr>\n",
       "      <th>2021-03-01</th>\n",
       "      <td>73.546188</td>\n",
       "      <td>315.877991</td>\n",
       "      <td>195.090607</td>\n",
       "      <td>159.832321</td>\n",
       "      <td>119.491135</td>\n",
       "      <td>226.062317</td>\n",
       "      <td>155.651611</td>\n",
       "      <td>42.612125</td>\n",
       "    </tr>\n",
       "    <tr>\n",
       "      <th>2021-03-08</th>\n",
       "      <td>74.877792</td>\n",
       "      <td>315.655334</td>\n",
       "      <td>199.766327</td>\n",
       "      <td>163.474487</td>\n",
       "      <td>119.107315</td>\n",
       "      <td>230.113052</td>\n",
       "      <td>160.869659</td>\n",
       "      <td>44.979977</td>\n",
       "    </tr>\n",
       "    <tr>\n",
       "      <th>2021-03-15</th>\n",
       "      <td>77.302025</td>\n",
       "      <td>332.598450</td>\n",
       "      <td>209.701019</td>\n",
       "      <td>168.849396</td>\n",
       "      <td>118.615242</td>\n",
       "      <td>225.203339</td>\n",
       "      <td>161.601852</td>\n",
       "      <td>44.961548</td>\n",
       "    </tr>\n",
       "  </tbody>\n",
       "</table>\n",
       "<p>262 rows × 8 columns</p>\n",
       "</div>"
      ],
      "text/plain": [
       "                   PM         LMT         MCD         MMM        AAPL  \\\n",
       "Date                                                                    \n",
       "2016-03-14  64.949173  180.019562  102.719170  126.234161   24.238022   \n",
       "2016-03-21  64.552208  177.648163  102.065163  125.569939   24.180813   \n",
       "2016-03-28  66.684425  181.812302  105.153030  127.913895   25.169373   \n",
       "2016-04-04  67.439835  184.411819  105.931198  127.226768   24.865019   \n",
       "2016-04-11  66.925095  184.012543  105.782211  128.868317   25.137335   \n",
       "...               ...         ...         ...         ...         ...   \n",
       "2021-02-15  72.940125  308.861115  198.451248  156.066315  127.806870   \n",
       "2021-02-22  71.719475  304.100555  192.747543  154.757996  119.333656   \n",
       "2021-03-01  73.546188  315.877991  195.090607  159.832321  119.491135   \n",
       "2021-03-08  74.877792  315.655334  199.766327  163.474487  119.107315   \n",
       "2021-03-15  77.302025  332.598450  209.701019  168.849396  118.615242   \n",
       "\n",
       "                  MSFT         TXN       CSCO  \n",
       "Date                                           \n",
       "2016-03-14   47.876026   46.356270  22.215748  \n",
       "2016-03-21   48.520458   46.039604  21.925604  \n",
       "2016-03-28   49.737732   47.046474  22.498055  \n",
       "2016-04-04   48.708424   47.005863  21.713879  \n",
       "2016-04-11   49.809334   47.850330  22.078634  \n",
       "...                ...         ...        ...  \n",
       "2021-02-15  234.667755  165.299896  42.086960  \n",
       "2021-02-22  226.823624  159.664795  41.340672  \n",
       "2021-03-01  226.062317  155.651611  42.612125  \n",
       "2021-03-08  230.113052  160.869659  44.979977  \n",
       "2021-03-15  225.203339  161.601852  44.961548  \n",
       "\n",
       "[262 rows x 8 columns]"
      ]
     },
     "execution_count": 1,
     "metadata": {},
     "output_type": "execute_result"
    }
   ],
   "source": [
    "import pandas as pd\n",
    "\n",
    "data = pd.read_csv('stocks.csv').set_index('Date')\n",
    "data"
   ]
  },
  {
   "cell_type": "markdown",
   "id": "f7607a05",
   "metadata": {},
   "source": [
    "Following the data preparation steps introduced in the [Mosek Portfolio Optimization Cookbook](https://docs.mosek.com/portfolio-cookbook/inputdata.html), the estimated mean return and covariance matrix can be returned by the `estimate_return()` function as below."
   ]
  },
  {
   "cell_type": "code",
   "execution_count": 2,
   "id": "576ece6f",
   "metadata": {},
   "outputs": [],
   "source": [
    "import numpy as np\n",
    "\n",
    "def estimate_return(data):\n",
    "    \"\"\"\n",
    "    The estimate_return function estimate the mean and covariance\n",
    "    matrix of the year rate of return based on the given weekly\n",
    "    prices of stocks.\n",
    "    \n",
    "    Parameters\n",
    "    ----------\n",
    "    data : Pandas data frame\n",
    "        It is a dataset of weekly stock prices. \n",
    "    \n",
    "    Returns\n",
    "    -------\n",
    "    mean : Pandas series\n",
    "        The mean values of the yearly rates of returns.\n",
    "    cov : Pandas data frame\n",
    "        The covariance matrix of the year rates of returns. \n",
    "        \n",
    "    Notes:\n",
    "    ------\n",
    "    It is assumed that there are 52 weeks in a week. \n",
    "    \"\"\"\n",
    "    \n",
    "    factor = 52\n",
    "    \n",
    "    wk_log = np.log(data).diff()\n",
    "    \n",
    "    mu_log = wk_log.mean() * factor\n",
    "    Sigma_log = wk_log.cov() * factor\n",
    "    \n",
    "    ratio = np.exp(mu_log + (1/2)*np.diag(Sigma_log))\n",
    "    mean = ratio - 1\n",
    "    cov = np.outer(ratio, ratio) * (np.exp(Sigma_log) - 1)\n",
    "    \n",
    "    return mean, cov"
   ]
  },
  {
   "cell_type": "code",
   "execution_count": 3,
   "id": "455644c9",
   "metadata": {},
   "outputs": [],
   "source": [
    "mean, cov = estimate_return(data)\n",
    "\n",
    "mu0 = mean.values\n",
    "Sigma = cov.values"
   ]
  },
  {
   "cell_type": "markdown",
   "id": "6caee709",
   "metadata": {},
   "source": [
    "We then define the `rmv_portfolio()` function for formulating and solving the robust mean-variance portfolio model. When calling the function, users may specify the estimated mean return `mu0` and estimated covariance matrix `Sigma`, the risk-aversion coefficient `delta`, and the uncertainty parameter `gamma`."
   ]
  },
  {
   "cell_type": "code",
   "execution_count": 4,
   "id": "11d7961f",
   "metadata": {},
   "outputs": [],
   "source": [
    "from rsome import ro\n",
    "from rsome import msk_solver as msk\n",
    "import rsome as rso\n",
    "\n",
    "def rmv_portfolio(mu0, Sigma, delta, gamma=0, display=False):\n",
    "    \n",
    "    G = np.linalg.cholesky(Sigma)\n",
    "    Q = G@G.T\n",
    "    n = len(mu0)\n",
    "    \n",
    "    model = ro.Model()\n",
    "    x = model.dvar(n)\n",
    "    r = model.dvar()\n",
    "    \n",
    "    mu = model.rvar(n)\n",
    "    uset = rso.quad(mu - mu0, np.linalg.inv(Sigma)) <= gamma**2\n",
    "    \n",
    "    \n",
    "    if gamma == 0:\n",
    "        model.max(mu0@x - (delta/2)*r)\n",
    "    else:\n",
    "        model.maxmin(mu@x - (delta/2)*r, uset)\n",
    "    \n",
    "    model.st(rso.quad(x, Sigma) <= r)\n",
    "    model.st(x.sum() == 1, x >= 0)\n",
    "\n",
    "    model.solve(msk, display=display)\n",
    "    \n",
    "    risk = r()**0.5\n",
    "    return model.get() + (delta/2)*r(), risk, x.get()"
   ]
  },
  {
   "cell_type": "markdown",
   "id": "02e1edd1",
   "metadata": {},
   "source": [
    "Next, the function is executed repeatedly in the following `for`-loop to find out the worst-case returns, the portfolio risks in terms of the standard deviations, and the optimal solutions, under different risk-aversion preference."
   ]
  },
  {
   "cell_type": "code",
   "execution_count": 5,
   "id": "9e240df6",
   "metadata": {},
   "outputs": [],
   "source": [
    "deltas = np.logspace(start=-1, stop=2, num=20)[::-1]\n",
    "\n",
    "results = pd.DataFrame()\n",
    "ro_sols = []\n",
    "nom_sols = []\n",
    "for i, delta in enumerate(deltas):\n",
    "    wc_return, risk, xs = rmv_portfolio(mu0, Sigma, delta, gamma=0.02)\n",
    "    results.loc[i, 'RO Return'] = wc_return\n",
    "    results.loc[i, 'RO Risk'] = risk\n",
    "    ro_sols.append(xs) \n",
    "    \n",
    "    wc_return, risk, xs = rmv_portfolio(mu0, Sigma, delta)\n",
    "    results.loc[i, 'Nominal Return'] = wc_return\n",
    "    results.loc[i, 'Nominal Risk'] = risk\n",
    "    nom_sols.append(xs) \n",
    "    \n",
    "ro_sols = np.array(ro_sols)\n",
    "nom_sols = np.array(nom_sols)"
   ]
  },
  {
   "cell_type": "markdown",
   "id": "ad0a6ca5",
   "metadata": {},
   "source": [
    "The trade-off between the worst-case mean return and the risk is illustrated by the following figure. "
   ]
  },
  {
   "cell_type": "code",
   "execution_count": 6,
   "id": "e15224ec",
   "metadata": {},
   "outputs": [
    {
     "data": {
      "image/png": "[encoded data removed]",
      "text/plain": [
       "<Figure size 540x360 with 1 Axes>"
      ]
     },
     "metadata": {},
     "output_type": "display_data"
    }
   ],
   "source": [
    "import matplotlib.pyplot as plt\n",
    "\n",
    "plt.figure(figsize=(7.5, 5))\n",
    "plt.plot(results['RO Risk'], results['RO Return'], marker='o', label='Robust Model')\n",
    "plt.plot(results['Nominal Risk'], results['Nominal Return'], marker='o', label='Nominmal Model')\n",
    "plt.legend(fontsize=14)\n",
    "plt.xlabel('Portfolio Risk (Std. Dev.)', fontsize=14)\n",
    "plt.ylabel('Portfolio Return')\n",
    "plt.grid()\n",
    "plt.show()"
   ]
  },
  {
   "cell_type": "markdown",
   "id": "6a3a4975",
   "metadata": {},
   "source": [
    "Finally, we plot the portfolio allocation $\\pmb{x}$ against different portfolio risks as a result of varying the risk-aversion coefficient $\\delta$. "
   ]
  },
  {
   "cell_type": "code",
   "execution_count": 7,
   "id": "f2507b3d",
   "metadata": {
    "scrolled": true
   },
   "outputs": [
    {
     "data": {
      "image/png": "[encoded data removed]",
      "text/plain": [
       "<Figure size 540x360 with 1 Axes>"
      ]
     },
     "metadata": {},
     "output_type": "display_data"
    }
   ],
   "source": [
    "n = data.shape[1]\n",
    "\n",
    "plt.figure(figsize=(7.5, 5))\n",
    "bottom = 0\n",
    "for i in range(n):\n",
    "    plt.fill_between(results['RO Risk'], bottom, bottom+ro_sols[:, i], \n",
    "                     alpha=0.9, \n",
    "                     label=data.columns[i])\n",
    "    bottom += ro_sols[:, i]\n",
    "    \n",
    "plt.legend(bbox_to_anchor=(1.26, 1.02), fontsize=14)\n",
    "plt.xlabel('Portfolio Risk (Std. Dev.)', fontsize=14)\n",
    "plt.ylabel('Fraction of Investment', fontsize=14)\n",
    "plt.grid()\n",
    "plt.show()"
   ]
  },
  {
   "cell_type": "markdown",
   "id": "f1b77c2c",
   "metadata": {},
   "source": [
    "Interested readers may refer to the [Mosek Portfolio Optimization Cookbook](https://docs.mosek.com/portfolio-cookbook/factormodels.html#factor-models-example-1) for the similar results."
   ]
  },
  {
   "cell_type": "markdown",
   "id": "c38ba6a9",
   "metadata": {},
   "source": [
    "<br>\n",
    "<br>\n",
    "\n",
    "<font size=\"5\">Reference</font>\n",
    "\n",
    "```{bibliography}\n",
    ":filter: docname in docnames\n",
    "```"
   ]
  }
 ],
 "metadata": {
  "kernelspec": {
   "display_name": "Python 3 (ipykernel)",
   "language": "python",
   "name": "python3"
  },
  "language_info": {
   "codemirror_mode": {
    "name": "ipython",
    "version": 3
   },
   "file_extension": ".py",
   "mimetype": "text/x-python",
   "name": "python",
   "nbconvert_exporter": "python",
   "pygments_lexer": "ipython3",
   "version": "3.10.11"
  },
  "varInspector": {
   "cols": {
    "lenName": 16,
    "lenType": 16,
    "lenVar": 40
   },
   "kernels_config": {
    "python": {
     "delete_cmd_postfix": "",
     "delete_cmd_prefix": "del ",
     "library": "var_list.py",
     "varRefreshCmd": "print(var_dic_list())"
    },
    "r": {
     "delete_cmd_postfix": ") ",
     "delete_cmd_prefix": "rm(",
     "library": "var_list.r",
     "varRefreshCmd": "cat(var_dic_list()) "
    }
   },
   "types_to_exclude": [
    "module",
    "function",
    "builtin_function_or_method",
    "instance",
    "_Feature"
   ],
   "window_display": false
  }
 },
 "nbformat": 4,
 "nbformat_minor": 5
}
