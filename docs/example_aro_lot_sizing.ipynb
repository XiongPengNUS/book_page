{
 "cells": [
  {
   "cell_type": "markdown",
   "id": "7c3510eb",
   "metadata": {},
   "source": [
    "(aro_lot_sizing:title)=\n",
    "# Adaptive Robust Lot-Sizing\n",
    "\n",
    "In this example, we delve into a lot-sizing problem outlined in {cite:ps}`Bertsimas_De2016duality`. In a network comprising $N$ stores, the stock allocation decision $x_i$ for each store $i$ is made before the realization of the demand at each location is known. The demand, represented by the vector $\\pmb{d}$, is uncertain and assumed to fall within a budgeted uncertainty set expressed as\n",
    "\n",
    "$$\n",
    "\\mathcal{U} = \\left\\{\n",
    "\\pmb{d}: \\pmb{0} \\leq \\pmb{d} \\leq \\pmb{1}d_{\\max}\n",
    "\\right\\}.\n",
    "$$\n",
    "\n",
    "Upon observing the realization of random demand, stock $y_{ij}$ may be transported from store $i$ to store $j$ at a cost of $t_{ij}$, with the aim of satisfying all demand. The objective is to minimize the worst-case total cost, encompassing the storage cost (with a unit cost of $c_i$ for each store $i$) and the expenses associated with shifting products between stores. This adaptive robust model can be then formulated as:\n",
    "\n",
    "$$\n",
    "\\begin{align}\n",
    "\\min~&\\max\\limits_{\\pmb{d}\\in\\mathcal{U}}~\\sum\\limits_{i=1}^Nc_ix_i + \\sum\\limits_{i=1}^N\\sum\\limits_{j=1}^Nt_{ij}y_{ij}(\\pmb{d}) \\\\\n",
    "\\text{s.t.}~&\\min\\limits_{\\pmb{d}\\in\\mathcal{U} }\\left(\\sum\\limits_{j=1}^Ny_{ji}(\\pmb{d}) - \\sum\\limits_{j=1}^Ny_{ij}(\\pmb{d}) + x_i\\right) \\geq d_i &&i=1, 2, ..., N\\\\\n",
    "&\\min\\limits_{\\pmb{d}\\in\\mathcal{U} }y_{ij}(\\pmb{d})\\geq 0,  &&i=1, 2, ..., N \\text{ and } j=1, 2, ..., N\\\\\n",
    "&0\\leq x_i \\leq K_i &&i = 1, 2, ..., N,\n",
    "\\end{align}\n",
    "$$\n",
    "\n",
    "with $K_i$ to be the maximum stock capacity at each location, and the adaptive decision $y_{ij}$ to be approximated by the linear decision rule\n",
    "\n",
    "$$\n",
    "y_{ij}(\\pmb{d}) = y_{ij}^0 + \\sum\\limits_{k=1}^Ny_{ijk}^d d_k,\n",
    "$$\n",
    "\n",
    "in other words, $y_{ij} \\in \\mathcal{L}([N])$ as the decision affinely adapts to all random demands $d_k$, where $k=1, 2, ..., N$. In the following case studies, we pick $N=30$ locations generated uniformly at random from $[0, 10]^2$. The shifting cost $t_{ij}$ is calculated as the Euclidean distance between store $i$ and store $j$, and the storage cost $c_i$ at each location is assumed to be $20$. The maximum demand $d_{\\max}$ and the stock capacity $K_i$ at all locations are both set to be $20$ units, and the uncertainty budget parameter $\\Gamma$ is set to $20\\sqrt{N}$. These parameters are defined in the code segment below."
   ]
  },
  {
   "cell_type": "code",
   "execution_count": 1,
   "id": "7aa9ec8f",
   "metadata": {
    "scrolled": true
   },
   "outputs": [],
   "source": [
    "import numpy as np\n",
    "\n",
    "N = 30                                              # the total number of locations\n",
    "c = 20 * np.ones(N)                                 # the stoarage cost at each location\n",
    "K = 20 * np.ones(N)                                 # The maximum stock capacity \n",
    "dmax = 20                                           # The maximum demand \n",
    "Gamma = 20*np.sqrt(N)                               # budget of uncertainty parameter  \n",
    "\n",
    "np.random.seed(1)\n",
    "xy = 10*np.random.rand(2, N)                        # randomly generated locations in a 2D space\n",
    "t = ((xy[[0]] - xy[[0]].T) ** 2 +\n",
    "     (xy[[1]] - xy[[1]].T) ** 2) ** 0.5             # the shifting costs as the Euclidean distances"
   ]
  },
  {
   "cell_type": "markdown",
   "id": "7c4c6087",
   "metadata": {},
   "source": [
    "In the code below, the lot-sizing problem is formulated as the aforementioned adjusted robust optimization model and solved by the default solver."
   ]
  },
  {
   "cell_type": "code",
   "execution_count": 2,
   "id": "e20dc913",
   "metadata": {},
   "outputs": [
    {
     "name": "stdout",
     "output_type": "stream",
     "text": [
      "Being solved by the default LP solver...\n",
      "Solution status: 0\n",
      "Running time: 6.1220s\n"
     ]
    }
   ],
   "source": [
    "from rsome import ro\n",
    "\n",
    "model = ro.Model()                                  # create an RSOME model\n",
    "\n",
    "d = model.rvar(N)                                   # define random demand as variable d\n",
    "uset = (0 <= d, d <= dmax,\n",
    "        sum(d) <= Gamma)                            # define the budgeted uncertainty set uset\n",
    "\n",
    "x = model.dvar(N)                                   # define the here-and-now storage decision x \n",
    "y = model.ldr((N, N))                               # define the wait-and-see shifting decision y\n",
    "y.adapt(d)                                          # the decision rule that y affinely depends on d\n",
    "\n",
    "model.minmax(c@x + (t*y).sum(), uset)               # the worst-case objective and uncertainty set\n",
    "model.st(y.sum(axis=0) - y.sum(axis=1) + x >= d)    # the constraints of satisfying demand\n",
    "model.st(y >= 0)                                    # the non-negative constraints of y\n",
    "model.st(0 <= x, x <= K)                            # the bounds of storage allocation x\n",
    "\n",
    "model.solve()                                       # solve the model with the default solver"
   ]
  },
  {
   "cell_type": "markdown",
   "id": "7665c142",
   "metadata": {},
   "source": [
    "The solution is illustrated by the following figure, where the white circles represent storage locations, and the sizes of the shaded bubbles indicate the optimal stock capacity $x_i$ at each storage location."
   ]
  },
  {
   "cell_type": "code",
   "execution_count": 3,
   "id": "4a479d52",
   "metadata": {
    "scrolled": false
   },
   "outputs": [
    {
     "data": {
      "image/png": "[encoded data removed]",
      "text/plain": [
       "<Figure size 360x360 with 1 Axes>"
      ]
     },
     "metadata": {},
     "output_type": "display_data"
    }
   ],
   "source": [
    "import matplotlib.pyplot as plt\n",
    "\n",
    "plt.figure(figsize=(5, 5))\n",
    "plt.scatter(xy[0], xy[1], c='w', edgecolors='k')\n",
    "plt.scatter(xy[0], xy[1], s=50*x.get(), c='k', alpha=0.5)\n",
    "plt.axis('equal')\n",
    "plt.xlim([-1, 11])\n",
    "plt.ylim([-1, 11])\n",
    "plt.grid()\n",
    "plt.show()"
   ]
  },
  {
   "cell_type": "markdown",
   "id": "2c14d322",
   "metadata": {},
   "source": [
    "<br>\n",
    "\n",
    "---\n",
    "\n",
    "<font size=\"5\">Reference</font>\n",
    "\n",
    "```{bibliography}\n",
    ":filter: docname in docnames\n",
    "```"
   ]
  }
 ],
 "metadata": {
  "kernelspec": {
   "display_name": "Python 3 (ipykernel)",
   "language": "python",
   "name": "python3"
  },
  "language_info": {
   "codemirror_mode": {
    "name": "ipython",
    "version": 3
   },
   "file_extension": ".py",
   "mimetype": "text/x-python",
   "name": "python",
   "nbconvert_exporter": "python",
   "pygments_lexer": "ipython3",
   "version": "3.10.11"
  },
  "varInspector": {
   "cols": {
    "lenName": 16,
    "lenType": 16,
    "lenVar": 40
   },
   "kernels_config": {
    "python": {
     "delete_cmd_postfix": "",
     "delete_cmd_prefix": "del ",
     "library": "var_list.py",
     "varRefreshCmd": "print(var_dic_list())"
    },
    "r": {
     "delete_cmd_postfix": ") ",
     "delete_cmd_prefix": "rm(",
     "library": "var_list.r",
     "varRefreshCmd": "cat(var_dic_list()) "
    }
   },
   "types_to_exclude": [
    "module",
    "function",
    "builtin_function_or_method",
    "instance",
    "_Feature"
   ],
   "window_display": false
  }
 },
 "nbformat": 4,
 "nbformat_minor": 5
}
