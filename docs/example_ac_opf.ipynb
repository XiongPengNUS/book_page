{
 "cells": [
  {
   "cell_type": "markdown",
   "id": "bf48b7ad",
   "metadata": {},
   "source": [
    "(ac_opf:title)=\n",
    "# Conic Relaxation of Optimal AC Power Flows\n",
    "\n",
    "## Exact AC Power Flow Formulation and System Parameters\n",
    "The optimal power flow (OPF) stands as a fundamental optimization problem in the analysis of electrical power systems. It is typically a large scale non-convex optimization problem, where thousands of generators, loads, and transmission lines are considered, and is required to be solved in every few minutes. In this document, we will solve the modified AC OPF model introduced in {cite:ps}`Kocuk_Dey_Sun_2016strong`,\n",
    "\n",
    "```{math}\n",
    "\\begin{align}\n",
    "\\min~&\\sum\\limits_{k\\in\\mathcal{K}} c_kp_k \\label{obj}\\tag{1} \\\\\n",
    "\\text{s.t.}~&P_k^{\\min} \\leq p_k \\leq P_k^{\\max}, Q_k^{\\min} \\leq q_k \\leq Q_k^{\\max} &\\forall k \\in \\mathcal{G} \\label{power_capacity}\\tag{2}\\\\\n",
    "&\\sum\\limits_{k\\in\\beta(i)}p_k - P_i = G_{ii}u_{ii} + \\sum\\limits_{j\\in\\delta(i)}\\left(G_{ij}u_{ij} - B_{ij}v_{ij}\\right)&\\forall i \\in \\mathcal{B} \\label{power_balance_real} \\tag{3}\\\\\n",
    "&\\sum\\limits_{k\\in\\beta(i)}q_k - Q_i = -B_{ii}u_{ii} + \\sum\\limits_{j\\in\\delta(i)}\\left(-B_{ij}u_{ij} - G_{ij}v_{ij}\\right) &\\forall i \\in \\mathcal{B} \\label{power_balance_imaginary} \\tag{4}\\\\\n",
    "&\\left({V}_i^{\\min}\\right)^2 \\leq u_{ii} \\leq \\left({V}_i^{\\max}\\right)^2 &\\forall i \\in \\mathcal{B} \\label{voltage_limits} \\tag{5}\\\\\n",
    "&u_{ij}\\tan(\\theta_{\\min})\\leq v_{ij} \\leq u_{ij}\\tan(\\theta_{\\max}) &\\forall (i, j) \\in \\mathcal{L} \\label{angle_limits} \\tag{6}\\\\\n",
    "&\\left(G_{ij}u_{ii} + G_{ij}u_{ij} - B_{ij}v_{ij}\\right)^2 + \\left(B_{ij}u_{ii} -B_{ij}u_{ij} - G_{ij}\\right)^2 \\leq T_{ij}^{\\max} &\\forall (i, j) \\in \\mathcal{L} \\label{line_thermal_limits} \\tag{7}\\\\\n",
    "&u_{ij} = u_{ji}, v_{ij} = -v_{ji} &\\forall (i, j) \\in \\mathcal{L} \\label{nonlinearity} \\tag{8}\\\\\n",
    "&u_{ij}^2 + v_{ij}^2 = u_{ii}u_{jj} &\\forall (i, j) \\in \\mathcal{L} \\label{nonconvexity} \\tag{9}\n",
    "\\end{align}\n",
    "```\n",
    "\n",
    "where the decision variables are\n",
    "\n",
    "- $\\pmb{p}$: the real power generation output of each generator; \n",
    "- $\\pmb{q}$: the real power generation output of each generator; \n",
    "- $\\pmb{u}$, $\\pmb{v}$: the intermediate variables capturing the nonlinearity of power flows,\n",
    "\n",
    "with the sets\n",
    "\n",
    "- $\\mathcal{B}$: the set of all bus indexes;\n",
    "- $\\mathcal{G}$: the set of all generator indexes;\n",
    "- $\\mathcal{L}$: the set of transmission lines in terms of the from-bus $i$ and to-bus $j$,\n",
    "\n",
    "parameters\n",
    "\n",
    "- $\\pmb{c}$: cost coefficients of generators;\n",
    "- $\\pmb{P}^{\\min}$, $\\pmb{P}^{\\max}$: the lower/upper bound of real power generation of each generator;\n",
    "- $\\pmb{Q}^{\\min}$, $\\pmb{Q}^{\\max}$: the lower/upper bounds of reactive power generation of each generator;\n",
    "- $\\pmb{G}$: a two-dimensional array representing the real components of the nodal admittance matrix;\n",
    "- $\\pmb{B}$: a two-dimensional array representing the imaginary components of the nodal admittance matrix;\n",
    "- $\\pmb{V}^{\\min}$, $\\pmb{V}^{\\max}$: the lower/upper bound of voltage magnitude at each bus;\n",
    "- $\\pmb{P}$: the demand of real power generation at each bus;\n",
    "- $\\pmb{Q}$: the demand of reactive power generation at each bus.\n",
    "- $\\pmb{\\theta}^{\\min}$, $\\pmb{\\theta}^{\\max}$: the lower/upper bounds of voltage angle difference in each transmission line;\n",
    "- $\\pmb{T}^{\\max}$: the power capacity of each transmission line,\n",
    "\n",
    "and functions:\n",
    "- $\\beta(i)$: the indexes of generators placed at bus $i$;\n",
    "- $\\delta(i)$: the indexes of buses connected to bus $i$.\n",
    "\n",
    "Here, we use the [IEEE 39-Bus System](ieee_case39.xlsx) as an example, the system sets, parameters, and relevant functions are created using the following code segment."
   ]
  },
  {
   "cell_type": "code",
   "execution_count": 1,
   "id": "4ef24f4e",
   "metadata": {},
   "outputs": [],
   "source": [
    "import pandas as pd\n",
    "import numpy as np\n",
    "\n",
    "bus = pd.read_excel('ieee_case39.xlsx', sheet_name='bus')\n",
    "gen = pd.read_excel('ieee_case39.xlsx', sheet_name='gen')\n",
    "branch = pd.read_excel('ieee_case39.xlsx', sheet_name='branch')\n",
    "\n",
    "baseMVA = 100\n",
    "\n",
    "# Sets\n",
    "Bset = bus.index\n",
    "Gset = gen.index\n",
    "branch_ij = branch.set_index(['fbus', 'tbus'])\n",
    "Lset = branch_ij.index\n",
    "\n",
    "# Parameters\n",
    "G = pd.read_excel('ieee_case39.xlsx', sheet_name='G').values \n",
    "B = pd.read_excel('ieee_case39.xlsx', sheet_name='B').values\n",
    "Vmin, Vmax = bus['Vmin'].values, bus['Vmax'].values\n",
    "P = bus['Pd'].values / baseMVA\n",
    "Q = bus['Qd'].values / baseMVA\n",
    "c = gen['Cost'].values\n",
    "Pmin, Pmax = gen['Pmin'].values / baseMVA, gen['Pmax'].values / baseMVA\n",
    "Qmin, Qmax = gen['Qmin'].values / baseMVA, gen['Qmax'].values / baseMVA\n",
    "θmax = branch_ij['angmax'] * np.pi / 180\n",
    "θmin = branch_ij['angmin'] * np.pi / 180\n",
    "Tmax = branch_ij['rateA'] / baseMVA\n",
    "\n",
    "# Function\n",
    "β = lambda i: gen.index[gen['bus'] == i].tolist()\n",
    "δ = lambda i: list(branch.loc[branch['fbus'] == i, 'tbus']) + list(branch.loc[branch['tbus'] == i, 'fbus'])"
   ]
  },
  {
   "cell_type": "markdown",
   "id": "a37d5312",
   "metadata": {},
   "source": [
    "The formulation above minimizes the total cost of generating real power, expressed by the objective function $(1)$, subject to\n",
    "- Power capacity constraints $(2)$;\n",
    "- Power balance equations $(3)$ and $(4)$;\n",
    "- Voltage magnitude limits $(5)$;\n",
    "- Voltage angle limits $(6)$;\n",
    "- Transmission line thermal limits $(7)$;\n",
    "- Constraints $(8)$ and $(9)$ capturing the nonlinearity of AC power flows.\n",
    "\n",
    "Notice that the last constraint (9) is non-convex so it will be approximated by two relaxation methods described below.\n",
    "\n",
    "## SOCP Relaxation\n",
    "\n",
    "The first approximation method introduced by {cite:ps}`Jabr2006radial` is to relax the equality constraint (9) as the following inequalities\n",
    "\n",
    "```{math}\n",
    "u_{ij}^2 + v_{ij}^2 \\leq u_{ii}u_{jj} ~~~~~\\forall (i, j) \\in \\mathcal{L},\n",
    "```\n",
    "\n",
    "which are rotated second-order cone in $\\mathbb{R}^4$, thus the AC power flow model can be solved as the second-order cone programming (SOCP) problem below."
   ]
  },
  {
   "cell_type": "code",
   "execution_count": 2,
   "id": "ff9c3866",
   "metadata": {
    "scrolled": true
   },
   "outputs": [
    {
     "name": "stdout",
     "output_type": "stream",
     "text": [
      "Being solved by Mosek...\n",
      "Solution status: Optimal\n",
      "Running time: 0.0472s\n"
     ]
    }
   ],
   "source": [
    "from rsome import ro\n",
    "from rsome import msk_solver as msk\n",
    "import rsome as rso\n",
    "\n",
    "model = ro.Model()\n",
    "\n",
    "p = model.dvar(len(Gset))\n",
    "q = model.dvar(len(Gset))\n",
    "NB = len(Bset)\n",
    "u = model.dvar((NB, NB))\n",
    "v = model.dvar((NB, NB))\n",
    "\n",
    "model.min(c@(p*baseMVA))                                                                         # (1)\n",
    "\n",
    "model.st(Pmin <= p, p <= Pmax, Qmin <= q, q <= Qmax)                                             # (2)\n",
    "\n",
    "for i in Bset:\n",
    "    k, j = β(i), δ(i)\n",
    "    model.st(sum(p[k]) - P[i] == G[i, i]*u[i, i] + sum(G[i, j]*u[i, j] - B[i, j]*v[i, j]))       # (3)\n",
    "    model.st(sum(q[k]) - Q[i] == -B[i, i]*u[i, i] + sum(-B[i, j]*u[i, j] - G[i, j]*v[i, j]))     # (4)\n",
    "    model.st(Vmin[i]**2 <= u[i, i], u[i, i] <= Vmax[i]**2)                                       # (5)\n",
    "    \n",
    "for i, j in Lset:\n",
    "    model.st(v[i, j] >= np.tan(θmin[i, j])*u[i, j], v[i, j] <= np.tan(θmax[i, j])*u[i, j])       # (6)\n",
    "    model.st(rso.sumsqr(-G[i, j]*u[i, i] + G[i, j]*u[i, j] - B[i, j]*v[i, j],\n",
    "                        B[i, j]*u[i, i] - B[i, j]*u[i, j] - G[i, j]*v[i, j]) <= Tmax[i, j]**2)   # (7)\n",
    "    model.st(u[i, j] == u[j, i], v[i, j] == -v[j, i])                                            # (8)\n",
    "    model.st(rso.rsocone(rso.vec(u[i, j], v[i, j]), u[i, i], u[j, j]))                           # (9)\n",
    "    \n",
    "model.solve(msk)"
   ]
  },
  {
   "cell_type": "markdown",
   "id": "42865a98",
   "metadata": {},
   "source": [
    "After solving the SOCP problem using Mosek, the real and reactive power outputs are saved as variables `p_socp` and `q_scop`, respectively, and the objective value is printed by the following code cell."
   ]
  },
  {
   "cell_type": "code",
   "execution_count": 3,
   "id": "c7d00121",
   "metadata": {},
   "outputs": [
    {
     "name": "stdout",
     "output_type": "stream",
     "text": [
      "137435.49135999446\n"
     ]
    }
   ],
   "source": [
    "p_socp = p.get()\n",
    "q_socp = q.get()\n",
    "print(model.get())"
   ]
  },
  {
   "cell_type": "markdown",
   "id": "5f3e5bd3",
   "metadata": {},
   "source": [
    "## SDP Relaxation\n",
    "\n",
    "Alternatively, the non-convex constraints (9) can be relaxed as semidefinite cones, as proposed by {cite:ps}`Bai_Wei_Fujisawa_Wang_2008semidefinite`. To capture the nonlinearity of power flows, a positive semidefinite matrix $W\\in\\mathbb{S}_+^{2|\\mathcal{G}|\\times 2|\\mathcal{G}|}$ is introduced such that:\n",
    "\n",
    "$$\n",
    "\\begin{align}\n",
    "&u_{ij} = W_{ij} + W_{i'j'} & \\forall i\\in\\mathcal{B}, \\forall j\\in\\mathcal{B} \\\\\n",
    "&v_{ij} = W_{ij'} - W_{ji'} & \\forall i\\in\\mathcal{B}, \\forall j\\in\\mathcal{B}\n",
    "\\end{align}\n",
    "$$\n",
    "\n",
    "where $i'=i+|\\mathcal{B}|$ and $j'=j+|\\mathcal{B}|$. The AC power flow model is hence solved as the following semidefinite programming (SDP) problem."
   ]
  },
  {
   "cell_type": "code",
   "execution_count": 4,
   "id": "21c30e41",
   "metadata": {
    "scrolled": false
   },
   "outputs": [
    {
     "name": "stdout",
     "output_type": "stream",
     "text": [
      "Being solved by Mosek...\n",
      "Solution status: Optimal\n",
      "Running time: 2.7502s\n"
     ]
    }
   ],
   "source": [
    "from rsome import ro\n",
    "from rsome import msk_solver as msk\n",
    "import rsome as rso\n",
    "\n",
    "model = ro.Model()\n",
    "\n",
    "p = model.dvar(len(Gset))\n",
    "q = model.dvar(len(Gset))\n",
    "NB = len(Bset)\n",
    "W = model.dvar((2*NB, 2*NB))\n",
    "\n",
    "model.min(c@(p*baseMVA))                                                                         # (1)\n",
    "\n",
    "model.st(Pmin <= p, p <= Pmax, Qmin <= q, q <= Qmax)                                             # (2)\n",
    "\n",
    "for i in Bset:\n",
    "    k, j = β(i), δ(i)\n",
    "    \n",
    "    ip, jp = i + NB, np.array(j) + NB\n",
    "    uii = W[i, i] + W[ip, ip]\n",
    "    uij = W[i, j] + W[ip, jp]\n",
    "    vij = W[i, jp] - W[j, ip]\n",
    "    \n",
    "    model.st(sum(p[k]) - P[i] == G[i, i]*uii + sum(G[i, j]*uij - B[i, j]*vij))                   # (3)\n",
    "    model.st(sum(q[k]) - Q[i] == -B[i, i]*uii + sum(-B[i, j]*uij - G[i, j]*vij))                 # (4)\n",
    "    model.st(Vmin[i]**2 <= uii, uii <= Vmax[i]**2)                                               # (5)\n",
    "    \n",
    "for i, j in Lset:\n",
    "    ip, jp = i + NB, j + NB\n",
    "    uii = W[i, i] + W[ip, ip]\n",
    "    uij = W[i, j] + W[ip, jp]\n",
    "    vij = W[i, jp] - W[j, ip]\n",
    "    \n",
    "    model.st(vij >= np.tan(θmin[i, j])*uij, vij <= np.tan(θmax[i, j])*uij)                       # (6)\n",
    "    model.st(rso.sumsqr(-G[i, j]*uii + G[i, j]*uij - B[i, j]*vij,\n",
    "                        B[i, j]*uii - B[i, j]*uij - G[i, j]*vij) <= Tmax[i, j]**2)               # (7)\n",
    "\n",
    "model.st(W >> 0)\n",
    "\n",
    "model.solve(msk)"
   ]
  },
  {
   "cell_type": "markdown",
   "id": "af069ca9",
   "metadata": {},
   "source": [
    "Similar to the SOCP relaxation, we save the optimal real and reactive power outputs as `p_sdp` and `q_sdp`, respectively, and print the objective value as below."
   ]
  },
  {
   "cell_type": "code",
   "execution_count": 5,
   "id": "413909bb",
   "metadata": {},
   "outputs": [
    {
     "name": "stdout",
     "output_type": "stream",
     "text": [
      "138257.6888818642\n"
     ]
    }
   ],
   "source": [
    "p_sdp = p.get()\n",
    "q_sdp = q.get()\n",
    "print(model.get())"
   ]
  },
  {
   "cell_type": "markdown",
   "id": "69d61db8",
   "metadata": {},
   "source": [
    "## Visualization of Optimal Generation Outputs\n",
    "\n",
    "In this section, we visualize the real and reactive power outputs to compare the solutions of the SOCP and SDP relaxation methods."
   ]
  },
  {
   "cell_type": "code",
   "execution_count": 6,
   "id": "9ca7166e",
   "metadata": {},
   "outputs": [],
   "source": [
    "ps = pd.DataFrame({'SOCP': p_socp, 'SDP': p_sdp})\n",
    "qs = pd.DataFrame({'SOCP': q_socp, 'SDP': q_sdp})"
   ]
  },
  {
   "cell_type": "code",
   "execution_count": 7,
   "id": "e0191118",
   "metadata": {
    "scrolled": false
   },
   "outputs": [
    {
     "data": {
      "image/png": "[encoded data removed]",
      "text/plain": [
       "<Figure size 648x432 with 2 Axes>"
      ]
     },
     "metadata": {},
     "output_type": "display_data"
    }
   ],
   "source": [
    "import matplotlib.pyplot as plt\n",
    "\n",
    "fig, axes = plt.subplots(2, 1, figsize=(9, 6))\n",
    "\n",
    "ps.plot(kind='bar', ax=axes[0])\n",
    "qs.plot(kind='bar', ax=axes[1], legend=False)\n",
    "axes[1].set_xlabel('Generator Indexes', fontsize=14)\n",
    "axes[0].set_ylabel('Real Power (p.u.)', fontsize=14)\n",
    "axes[1].set_ylabel('Reactive Power (p.u.)', fontsize=14)\n",
    "axes[0].legend(fontsize=14, bbox_to_anchor=(1.01, 1.03))\n",
    "axes[0].grid()\n",
    "axes[1].grid()\n",
    "plt.tight_layout()\n",
    "plt.show()"
   ]
  },
  {
   "cell_type": "markdown",
   "id": "1ef3a407",
   "metadata": {},
   "source": [
    "<br>\n",
    "\n",
    "---\n",
    "\n",
    "<font size=\"5\">Reference</font>\n",
    "\n",
    "```{bibliography}\n",
    ":filter: docname in docnames\n",
    "```"
   ]
  }
 ],
 "metadata": {
  "kernelspec": {
   "display_name": "Python 3 (ipykernel)",
   "language": "python",
   "name": "python3"
  },
  "language_info": {
   "codemirror_mode": {
    "name": "ipython",
    "version": 3
   },
   "file_extension": ".py",
   "mimetype": "text/x-python",
   "name": "python",
   "nbconvert_exporter": "python",
   "pygments_lexer": "ipython3",
   "version": "3.10.11"
  },
  "varInspector": {
   "cols": {
    "lenName": 16,
    "lenType": 16,
    "lenVar": 40
   },
   "kernels_config": {
    "python": {
     "delete_cmd_postfix": "",
     "delete_cmd_prefix": "del ",
     "library": "var_list.py",
     "varRefreshCmd": "print(var_dic_list())"
    },
    "r": {
     "delete_cmd_postfix": ") ",
     "delete_cmd_prefix": "rm(",
     "library": "var_list.r",
     "varRefreshCmd": "cat(var_dic_list()) "
    }
   },
   "types_to_exclude": [
    "module",
    "function",
    "builtin_function_or_method",
    "instance",
    "_Feature"
   ],
   "window_display": false
  }
 },
 "nbformat": 4,
 "nbformat_minor": 5
}
