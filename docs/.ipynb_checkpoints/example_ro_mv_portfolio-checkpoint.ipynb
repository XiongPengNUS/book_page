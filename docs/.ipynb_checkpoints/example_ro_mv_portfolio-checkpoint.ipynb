{
 "cells": [
  {
   "cell_type": "markdown",
   "id": "68cc93e0",
   "metadata": {},
   "source": [
    "# Robust Mean-Variance Portfolio"
   ]
  },
  {
   "cell_type": "code",
   "execution_count": 1,
   "id": "4e360047",
   "metadata": {
    "scrolled": true
   },
   "outputs": [],
   "source": [
    "import yfinance as yf\n",
    "import pandas_datareader.data as web\n",
    "from pandas_datareader import data as pdr\n",
    "import pandas as pd\n",
    "\n",
    "yf.pdr_override()"
   ]
  },
  {
   "cell_type": "code",
   "execution_count": 2,
   "id": "2cdd5c67",
   "metadata": {},
   "outputs": [],
   "source": [
    "investment_start = \"2016-03-18\"\n",
    "investment_end = \"2021-03-18\"\n",
    "list_stocks = [\"PM\", \"LMT\", \"MCD\", \"MMM\", \"AAPL\", \"MSFT\", \"TXN\", \"CSCO\"]"
   ]
  },
  {
   "cell_type": "code",
   "execution_count": 3,
   "id": "eeae0eac",
   "metadata": {
    "scrolled": true
   },
   "outputs": [
    {
     "name": "stdout",
     "output_type": "stream",
     "text": [
      "[*********************100%%**********************]  1 of 1 completed\n",
      "[*********************100%%**********************]  1 of 1 completed\n",
      "[*********************100%%**********************]  1 of 1 completed\n",
      "[*********************100%%**********************]  1 of 1 completed\n",
      "[*********************100%%**********************]  1 of 1 completed\n",
      "[*********************100%%**********************]  1 of 1 completed\n",
      "[*********************100%%**********************]  1 of 1 completed\n",
      "[*********************100%%**********************]  1 of 1 completed\n"
     ]
    }
   ],
   "source": [
    "data = pd.DataFrame()\n",
    "for name in list_stocks:\n",
    "\n",
    "    df = pdr.get_data_yahoo(name, \n",
    "                            start=investment_start, end=investment_end)\n",
    "    data[name] = df['Adj Close']\n",
    "\n",
    "#data = data.reset_index(drop=True)#.to_csv('stock_data.csv', index=False)"
   ]
  },
  {
   "cell_type": "code",
   "execution_count": 4,
   "id": "7a33889c",
   "metadata": {},
   "outputs": [
    {
     "data": {
      "text/html": [
       "<div>\n",
       "<style scoped>\n",
       "    .dataframe tbody tr th:only-of-type {\n",
       "        vertical-align: middle;\n",
       "    }\n",
       "\n",
       "    .dataframe tbody tr th {\n",
       "        vertical-align: top;\n",
       "    }\n",
       "\n",
       "    .dataframe thead th {\n",
       "        text-align: right;\n",
       "    }\n",
       "</style>\n",
       "<table border=\"1\" class=\"dataframe\">\n",
       "  <thead>\n",
       "    <tr style=\"text-align: right;\">\n",
       "      <th></th>\n",
       "      <th>PM</th>\n",
       "      <th>LMT</th>\n",
       "      <th>MCD</th>\n",
       "      <th>MMM</th>\n",
       "      <th>AAPL</th>\n",
       "      <th>MSFT</th>\n",
       "      <th>TXN</th>\n",
       "      <th>CSCO</th>\n",
       "    </tr>\n",
       "    <tr>\n",
       "      <th>Date</th>\n",
       "      <th></th>\n",
       "      <th></th>\n",
       "      <th></th>\n",
       "      <th></th>\n",
       "      <th></th>\n",
       "      <th></th>\n",
       "      <th></th>\n",
       "      <th></th>\n",
       "    </tr>\n",
       "  </thead>\n",
       "  <tbody>\n",
       "    <tr>\n",
       "      <th>2016-03-18</th>\n",
       "      <td>64.949173</td>\n",
       "      <td>180.019516</td>\n",
       "      <td>102.719154</td>\n",
       "      <td>126.234169</td>\n",
       "      <td>24.238018</td>\n",
       "      <td>47.876034</td>\n",
       "      <td>46.356281</td>\n",
       "      <td>22.215744</td>\n",
       "    </tr>\n",
       "    <tr>\n",
       "      <th>2016-03-21</th>\n",
       "      <td>65.227066</td>\n",
       "      <td>180.304733</td>\n",
       "      <td>102.495644</td>\n",
       "      <td>125.860046</td>\n",
       "      <td>24.235737</td>\n",
       "      <td>48.207199</td>\n",
       "      <td>46.299427</td>\n",
       "      <td>22.105959</td>\n",
       "    </tr>\n",
       "    <tr>\n",
       "      <th>2016-03-22</th>\n",
       "      <td>64.672195</td>\n",
       "      <td>179.872849</td>\n",
       "      <td>102.503914</td>\n",
       "      <td>125.913483</td>\n",
       "      <td>24.421082</td>\n",
       "      <td>48.395153</td>\n",
       "      <td>46.202003</td>\n",
       "      <td>22.176535</td>\n",
       "    </tr>\n",
       "    <tr>\n",
       "      <th>2016-03-23</th>\n",
       "      <td>64.892792</td>\n",
       "      <td>180.304733</td>\n",
       "      <td>102.810234</td>\n",
       "      <td>125.424797</td>\n",
       "      <td>24.286074</td>\n",
       "      <td>48.305645</td>\n",
       "      <td>45.958412</td>\n",
       "      <td>21.823656</td>\n",
       "    </tr>\n",
       "    <tr>\n",
       "      <th>2016-03-24</th>\n",
       "      <td>65.227058</td>\n",
       "      <td>177.648163</td>\n",
       "      <td>102.065193</td>\n",
       "      <td>125.569901</td>\n",
       "      <td>24.180815</td>\n",
       "      <td>48.520477</td>\n",
       "      <td>46.039616</td>\n",
       "      <td>21.925598</td>\n",
       "    </tr>\n",
       "    <tr>\n",
       "      <th>...</th>\n",
       "      <td>...</td>\n",
       "      <td>...</td>\n",
       "      <td>...</td>\n",
       "      <td>...</td>\n",
       "      <td>...</td>\n",
       "      <td>...</td>\n",
       "      <td>...</td>\n",
       "      <td>...</td>\n",
       "    </tr>\n",
       "    <tr>\n",
       "      <th>2021-03-11</th>\n",
       "      <td>73.947380</td>\n",
       "      <td>315.228516</td>\n",
       "      <td>199.041946</td>\n",
       "      <td>163.165085</td>\n",
       "      <td>120.022537</td>\n",
       "      <td>231.460068</td>\n",
       "      <td>162.148682</td>\n",
       "      <td>44.961555</td>\n",
       "    </tr>\n",
       "    <tr>\n",
       "      <th>2021-03-12</th>\n",
       "      <td>74.877792</td>\n",
       "      <td>315.655396</td>\n",
       "      <td>199.766342</td>\n",
       "      <td>163.474503</td>\n",
       "      <td>119.107315</td>\n",
       "      <td>230.113068</td>\n",
       "      <td>160.869675</td>\n",
       "      <td>44.979984</td>\n",
       "    </tr>\n",
       "    <tr>\n",
       "      <th>2021-03-15</th>\n",
       "      <td>74.843658</td>\n",
       "      <td>321.426727</td>\n",
       "      <td>207.405533</td>\n",
       "      <td>167.505676</td>\n",
       "      <td>122.020279</td>\n",
       "      <td>229.195541</td>\n",
       "      <td>162.111603</td>\n",
       "      <td>45.523571</td>\n",
       "    </tr>\n",
       "    <tr>\n",
       "      <th>2021-03-16</th>\n",
       "      <td>75.287521</td>\n",
       "      <td>322.094849</td>\n",
       "      <td>206.841049</td>\n",
       "      <td>165.180664</td>\n",
       "      <td>123.575172</td>\n",
       "      <td>232.026184</td>\n",
       "      <td>164.178436</td>\n",
       "      <td>45.763115</td>\n",
       "    </tr>\n",
       "    <tr>\n",
       "      <th>2021-03-17</th>\n",
       "      <td>76.141129</td>\n",
       "      <td>325.704224</td>\n",
       "      <td>210.839386</td>\n",
       "      <td>166.462494</td>\n",
       "      <td>122.778053</td>\n",
       "      <td>231.372177</td>\n",
       "      <td>166.226746</td>\n",
       "      <td>45.532780</td>\n",
       "    </tr>\n",
       "  </tbody>\n",
       "</table>\n",
       "<p>1258 rows × 8 columns</p>\n",
       "</div>"
      ],
      "text/plain": [
       "                   PM         LMT         MCD         MMM        AAPL  \\\n",
       "Date                                                                    \n",
       "2016-03-18  64.949173  180.019516  102.719154  126.234169   24.238018   \n",
       "2016-03-21  65.227066  180.304733  102.495644  125.860046   24.235737   \n",
       "2016-03-22  64.672195  179.872849  102.503914  125.913483   24.421082   \n",
       "2016-03-23  64.892792  180.304733  102.810234  125.424797   24.286074   \n",
       "2016-03-24  65.227058  177.648163  102.065193  125.569901   24.180815   \n",
       "...               ...         ...         ...         ...         ...   \n",
       "2021-03-11  73.947380  315.228516  199.041946  163.165085  120.022537   \n",
       "2021-03-12  74.877792  315.655396  199.766342  163.474503  119.107315   \n",
       "2021-03-15  74.843658  321.426727  207.405533  167.505676  122.020279   \n",
       "2021-03-16  75.287521  322.094849  206.841049  165.180664  123.575172   \n",
       "2021-03-17  76.141129  325.704224  210.839386  166.462494  122.778053   \n",
       "\n",
       "                  MSFT         TXN       CSCO  \n",
       "Date                                           \n",
       "2016-03-18   47.876034   46.356281  22.215744  \n",
       "2016-03-21   48.207199   46.299427  22.105959  \n",
       "2016-03-22   48.395153   46.202003  22.176535  \n",
       "2016-03-23   48.305645   45.958412  21.823656  \n",
       "2016-03-24   48.520477   46.039616  21.925598  \n",
       "...                ...         ...        ...  \n",
       "2021-03-11  231.460068  162.148682  44.961555  \n",
       "2021-03-12  230.113068  160.869675  44.979984  \n",
       "2021-03-15  229.195541  162.111603  45.523571  \n",
       "2021-03-16  232.026184  164.178436  45.763115  \n",
       "2021-03-17  231.372177  166.226746  45.532780  \n",
       "\n",
       "[1258 rows x 8 columns]"
      ]
     },
     "execution_count": 4,
     "metadata": {},
     "output_type": "execute_result"
    }
   ],
   "source": [
    "data"
   ]
  },
  {
   "cell_type": "code",
   "execution_count": 5,
   "id": "8d834e02",
   "metadata": {},
   "outputs": [],
   "source": [
    "import numpy as np\n",
    "\n",
    "def compute_inputs(\n",
    "        list_df_prices, \n",
    "        sample_period='W', \n",
    "        investment_horizon=1, \n",
    "        show_histograms=False, \n",
    "        shrinkage=False, \n",
    "        security_num=None,\n",
    "        return_log=False\n",
    "    ):\n",
    "    map_period = {\n",
    "        'W': 52\n",
    "    }\n",
    "    \n",
    "    # We can generate return distribution based on multiple periods of price data\n",
    "    if not isinstance(list_df_prices, list):\n",
    "        list_df_prices = [list_df_prices]\n",
    "        \n",
    "    df_weekly_log_returns = pd.DataFrame()\n",
    "    for df_prices in list_df_prices:\n",
    "        # PREPROC: Remove factors\n",
    "        if security_num is not None: \n",
    "            df_prices = df_prices.iloc[:, 0:security_num]\n",
    "\n",
    "        # 1. Compute weekly logarithmic return\n",
    "        df_weekly_prices = df_prices.resample(sample_period).last()\n",
    "        df_weekly_log_returns_part = np.log(df_weekly_prices) - np.log(df_weekly_prices.shift(1))\n",
    "        df_weekly_log_returns_part = df_weekly_log_returns_part.dropna(how='all')\n",
    "        df_weekly_log_returns_part = df_weekly_log_returns_part.fillna(0)\n",
    "        \n",
    "        df_weekly_log_returns = pd.concat([df_weekly_log_returns, df_weekly_log_returns_part], ignore_index=True)\n",
    "\n",
    "    if show_histograms:\n",
    "        df_weekly_log_returns.hist(bins=50)\n",
    "    \n",
    "    # 2. Compute the distribution of weekly logarithmic return\n",
    "    return_array = df_weekly_log_returns.to_numpy()\n",
    "    T = return_array.shape[0]\n",
    "    m_weekly_log = np.mean(return_array, axis=0)\n",
    "    S_weekly_log = np.cov(return_array.transpose())\n",
    "    \n",
    "    # Apply shrinkage if needed\n",
    "    if shrinkage:\n",
    "        m_weekly_log = mean_shrinkage_JS(m_weekly_log, S_weekly_log, return_array)\n",
    "        S_weekly_log = cov_shrinkage_LW(m_weekly_log, S_weekly_log, return_array)\n",
    "    \n",
    "    # 3. Project the distribution to the investment horizon\n",
    "    scale_factor = investment_horizon * map_period[sample_period]\n",
    "    m_log = scale_factor * m_weekly_log\n",
    "    S_log = scale_factor * S_weekly_log\n",
    "    \n",
    "    if return_log:\n",
    "        return m_log, S_log\n",
    "    \n",
    "    # 4. Compute the distribution of yearly linear return\n",
    "    p_0 = np.ones(len(m_log))  # We use a dummy price here to see the method in two steps. It will be canceled out later. \n",
    "    m_P = p_0 * np.exp(m_log + 1/2*np.diag(S_log))\n",
    "    S_P = np.outer(m_P, m_P) * (np.exp(S_log) - 1)\n",
    "    \n",
    "    m = 1 / p_0 * m_P - 1\n",
    "    S = 1 / np.outer(p_0, p_0) * S_P\n",
    "        \n",
    "    return m, S"
   ]
  },
  {
   "cell_type": "code",
   "execution_count": 34,
   "id": "66337a3e",
   "metadata": {
    "scrolled": true
   },
   "outputs": [
    {
     "data": {
      "text/plain": [
       "PM      0.073948\n",
       "LMT     0.157663\n",
       "MCD     0.180016\n",
       "MMM     0.086521\n",
       "AAPL    0.438834\n",
       "MSFT    0.400322\n",
       "TXN     0.324938\n",
       "CSCO    0.186826\n",
       "dtype: float64"
      ]
     },
     "execution_count": 34,
     "metadata": {},
     "output_type": "execute_result"
    }
   ],
   "source": [
    "weekly_log = (np.log(data.resample('W').last()).diff())\n",
    "\n",
    "factor = 52\n",
    "mu_log = weekly_log.mean() * factor\n",
    "Sigma_log = weekly_log.cov() * factor\n",
    "\n",
    "mu = np.exp(mu_log + 1/2*np.diag(Sigma_log)) - 1\n",
    "Sigma = \n",
    "#np.exp(weekly_log_mean + 1/2*np.diag(weekly_log_Sigma))"
   ]
  },
  {
   "cell_type": "code",
   "execution_count": 35,
   "id": "766ed3e7",
   "metadata": {},
   "outputs": [
    {
     "data": {
      "text/plain": [
       "array([0.07394839, 0.15766297, 0.1800163 , 0.08652118, 0.43883367,\n",
       "       0.40032239, 0.32493775, 0.18682573])"
      ]
     },
     "execution_count": 35,
     "metadata": {},
     "output_type": "execute_result"
    }
   ],
   "source": [
    "m"
   ]
  },
  {
   "cell_type": "code",
   "execution_count": 6,
   "id": "a8b9e74b",
   "metadata": {},
   "outputs": [],
   "source": [
    "this, that = compute_inputs(data, return_log=True)"
   ]
  },
  {
   "cell_type": "code",
   "execution_count": 29,
   "id": "8b53b72b",
   "metadata": {
    "scrolled": true
   },
   "outputs": [
    {
     "data": {
      "text/plain": [
       "array([0.03167489, 0.11813053, 0.14326857, 0.05511429, 0.32324792,\n",
       "       0.31387529, 0.25442066, 0.14297635])"
      ]
     },
     "execution_count": 29,
     "metadata": {},
     "output_type": "execute_result"
    }
   ],
   "source": [
    "this"
   ]
  },
  {
   "cell_type": "code",
   "execution_count": null,
   "id": "a29cff80",
   "metadata": {},
   "outputs": [],
   "source": [
    "that"
   ]
  },
  {
   "cell_type": "code",
   "execution_count": 23,
   "id": "67559c63",
   "metadata": {},
   "outputs": [
    {
     "data": {
      "text/plain": [
       "PM      0.006577\n",
       "LMT     0.024528\n",
       "MCD     0.029748\n",
       "MMM     0.011444\n",
       "AAPL    0.067118\n",
       "MSFT    0.065172\n",
       "TXN     0.052827\n",
       "CSCO    0.029687\n",
       "dtype: float64"
      ]
     },
     "execution_count": 23,
     "metadata": {},
     "output_type": "execute_result"
    }
   ],
   "source": [
    "(np.log(data).diff() * 52).mean()"
   ]
  },
  {
   "cell_type": "code",
   "execution_count": null,
   "id": "3fa3d370",
   "metadata": {},
   "outputs": [],
   "source": []
  },
  {
   "cell_type": "code",
   "execution_count": 7,
   "id": "5a8634a2",
   "metadata": {
    "scrolled": true
   },
   "outputs": [
    {
     "data": {
      "text/plain": [
       "PM      0.550535\n",
       "LMT     0.779094\n",
       "MCD     5.076478\n",
       "MMM     0.754540\n",
       "AAPL    1.307361\n",
       "MSFT    1.503029\n",
       "TXN     1.382742\n",
       "CSCO    1.237922\n",
       "dtype: float64"
      ]
     },
     "execution_count": 7,
     "metadata": {},
     "output_type": "execute_result"
    }
   ],
   "source": [
    "import numpy as np\n",
    "\n",
    "(np.exp(np.log(data).diff() * 52) - 1).mean()"
   ]
  },
  {
   "cell_type": "code",
   "execution_count": null,
   "id": "fa34cd95",
   "metadata": {},
   "outputs": [],
   "source": []
  },
  {
   "cell_type": "code",
   "execution_count": null,
   "id": "00db9dec",
   "metadata": {},
   "outputs": [],
   "source": []
  },
  {
   "cell_type": "markdown",
   "id": "e45511e3",
   "metadata": {},
   "source": [
    "import pandas as pd\n",
    "\n",
    "data = pd.read_csv('stock_data.csv')\n",
    "data"
   ]
  },
  {
   "cell_type": "code",
   "execution_count": 8,
   "id": "40a96035",
   "metadata": {},
   "outputs": [],
   "source": [
    "m, S = compute_inputs(data)"
   ]
  },
  {
   "cell_type": "code",
   "execution_count": 18,
   "id": "718d5fd3",
   "metadata": {},
   "outputs": [
    {
     "data": {
      "text/plain": [
       "array([0.07394839, 0.15766297, 0.1800163 , 0.08652118, 0.43883367,\n",
       "       0.40032239, 0.32493775, 0.18682573])"
      ]
     },
     "execution_count": 18,
     "metadata": {},
     "output_type": "execute_result"
    }
   ],
   "source": [
    "m"
   ]
  },
  {
   "cell_type": "code",
   "execution_count": 10,
   "id": "5a49710f",
   "metadata": {},
   "outputs": [
    {
     "data": {
      "text/plain": [
       "array([[0.09522869, 0.03766658, 0.03533474, 0.03487944, 0.05491834,\n",
       "        0.03720185, 0.03239304, 0.03294799],\n",
       "       [0.03766658, 0.07796487, 0.03919324, 0.03665935, 0.03882871,\n",
       "        0.03678981, 0.03597687, 0.03448653],\n",
       "       [0.03533474, 0.03919324, 0.06339107, 0.03363966, 0.04048026,\n",
       "        0.03755601, 0.03436317, 0.02467006],\n",
       "       [0.03487944, 0.03665935, 0.03363966, 0.06766294, 0.04057569,\n",
       "        0.03382542, 0.04357738, 0.03718559],\n",
       "       [0.05491834, 0.03882871, 0.04048026, 0.04057569, 0.1750495 ,\n",
       "        0.07971106, 0.07097833, 0.05066008],\n",
       "       [0.03720185, 0.03678981, 0.03755601, 0.03382542, 0.07971106,\n",
       "        0.09159885, 0.05421191, 0.04522103],\n",
       "       [0.03239304, 0.03597687, 0.03436317, 0.04357738, 0.07097833,\n",
       "        0.05421191, 0.09719653, 0.04452874],\n",
       "       [0.03294799, 0.03448653, 0.02467006, 0.03718559, 0.05066008,\n",
       "        0.04522103, 0.04452874, 0.08204133]])"
      ]
     },
     "execution_count": 10,
     "metadata": {},
     "output_type": "execute_result"
    }
   ],
   "source": [
    "S"
   ]
  },
  {
   "cell_type": "code",
   "execution_count": 11,
   "id": "b900cc88",
   "metadata": {},
   "outputs": [],
   "source": [
    "G = np.linalg.cholesky(S) "
   ]
  },
  {
   "cell_type": "code",
   "execution_count": 12,
   "id": "58573875",
   "metadata": {
    "scrolled": false
   },
   "outputs": [
    {
     "data": {
      "text/plain": [
       "array([[0.30859146, 0.        , 0.        , 0.        , 0.        ,\n",
       "        0.        , 0.        , 0.        ],\n",
       "       [0.1220597 , 0.25113004, 0.        , 0.        , 0.        ,\n",
       "        0.        , 0.        , 0.        ],\n",
       "       [0.11450331, 0.10041413, 0.20049206, 0.        , 0.        ,\n",
       "        0.        , 0.        , 0.        ],\n",
       "       [0.1130279 , 0.09104127, 0.05763702, 0.20803147, 0.        ,\n",
       "        0.        , 0.        , 0.        ],\n",
       "       [0.17796455, 0.06811775, 0.066151  , 0.05021576, 0.36309849,\n",
       "        0.        , 0.        , 0.        ],\n",
       "       [0.12055374, 0.08790289, 0.07444445, 0.03800355, 0.12513427,\n",
       "        0.2160877 , 0.        , 0.        ],\n",
       "       [0.10497064, 0.09223981, 0.065247  , 0.09399781, 0.10183954,\n",
       "        0.05681036, 0.22578319, 0.        ],\n",
       "       [0.10676897, 0.08543122, 0.01928335, 0.07800993, 0.05686243,\n",
       "        0.06166176, 0.03346645, 0.22074943]])"
      ]
     },
     "execution_count": 12,
     "metadata": {},
     "output_type": "execute_result"
    }
   ],
   "source": [
    "G"
   ]
  },
  {
   "cell_type": "code",
   "execution_count": 13,
   "id": "0f2b98d1",
   "metadata": {},
   "outputs": [],
   "source": [
    "deltas = np.logspace(start=-1, stop=2, num=20)[::-1]\n",
    "gamma = 0.02"
   ]
  },
  {
   "cell_type": "code",
   "execution_count": 14,
   "id": "14a3dcc1",
   "metadata": {},
   "outputs": [],
   "source": [
    "from rsome import ro\n",
    "from rsome import msk_solver as msk\n",
    "import rsome as rso\n",
    "\n",
    "def ro_portfolio(m, S, delta, gamma):\n",
    "\n",
    "    n = len(m)\n",
    "    model = ro.Model()\n",
    "\n",
    "    x = model.dvar(n)\n",
    "    v = model.dvar()\n",
    "    z = model.rvar(n)\n",
    "\n",
    "    uset = (rso.quad(z - m, np.linalg.inv(S)) <= gamma**2)\n",
    "\n",
    "    model.maxmin(z@x - v, uset)\n",
    "    model.st(v >= (delta/2)*rso.quad(x, S))\n",
    "    model.st(x.sum() == 1, x >= 0)\n",
    "\n",
    "    model.solve(msk, display=False)\n",
    "    \n",
    "    return x.get()"
   ]
  },
  {
   "cell_type": "code",
   "execution_count": 15,
   "id": "3f59ebce",
   "metadata": {},
   "outputs": [],
   "source": [
    "x_sol = [ro_portfolio(m, S, delta, gamma) for delta in deltas]"
   ]
  },
  {
   "cell_type": "code",
   "execution_count": 16,
   "id": "06cf904c",
   "metadata": {
    "scrolled": true
   },
   "outputs": [
    {
     "data": {
      "text/plain": [
       "[<matplotlib.lines.Line2D at 0x29f9e0f70>]"
      ]
     },
     "execution_count": 16,
     "metadata": {},
     "output_type": "execute_result"
    },
    {
     "data": {
      "image/png": "[encoded data removed]",
      "text/plain": [
       "<Figure size 460.8x345.6 with 1 Axes>"
      ]
     },
     "metadata": {},
     "output_type": "display_data"
    }
   ],
   "source": [
    "import matplotlib.pyplot as plt\n",
    "\n",
    "exp_return = np.array(x_sol) @ m\n",
    "risk = [(row@S@row)**0.5 for row in x_sol]\n",
    "\n",
    "plt.plot(risk, exp_return, marker='o')\n",
    "plt.show()"
   ]
  },
  {
   "cell_type": "code",
   "execution_count": null,
   "id": "4649a4f3",
   "metadata": {},
   "outputs": [],
   "source": []
  },
  {
   "cell_type": "code",
   "execution_count": null,
   "id": "1b4a6501",
   "metadata": {},
   "outputs": [],
   "source": []
  },
  {
   "cell_type": "code",
   "execution_count": 17,
   "id": "65386ecf",
   "metadata": {
    "scrolled": false
   },
   "outputs": [
    {
     "data": {
      "image/png": "[encoded data removed]",
      "text/plain": [
       "<Figure size 468x324 with 1 Axes>"
      ]
     },
     "metadata": {},
     "output_type": "display_data"
    }
   ],
   "source": [
    "import matplotlib.pyplot as plt\n",
    "\n",
    "xs = np.array(x_sol)\n",
    "n = xs.shape[1]\n",
    "\n",
    "plt.figure(figsize=(6.5, 4.5))\n",
    "bottom = 0\n",
    "for i in range(n):\n",
    "    color = np.ones(3)*i/n\n",
    "    plt.fill_between(risk, bottom, bottom+xs[:, i], alpha=0.9, \n",
    "                     label=data.columns[i])\n",
    "    bottom += xs[:, i]\n",
    "plt.legend(bbox_to_anchor=(1.22, 1.02))\n",
    "plt.grid()\n",
    "plt.show()"
   ]
  },
  {
   "cell_type": "code",
   "execution_count": null,
   "id": "42f2a2b7",
   "metadata": {},
   "outputs": [],
   "source": []
  }
 ],
 "metadata": {
  "kernelspec": {
   "display_name": "Python 3 (ipykernel)",
   "language": "python",
   "name": "python3"
  },
  "language_info": {
   "codemirror_mode": {
    "name": "ipython",
    "version": 3
   },
   "file_extension": ".py",
   "mimetype": "text/x-python",
   "name": "python",
   "nbconvert_exporter": "python",
   "pygments_lexer": "ipython3",
   "version": "3.10.11"
  },
  "varInspector": {
   "cols": {
    "lenName": 16,
    "lenType": 16,
    "lenVar": 40
   },
   "kernels_config": {
    "python": {
     "delete_cmd_postfix": "",
     "delete_cmd_prefix": "del ",
     "library": "var_list.py",
     "varRefreshCmd": "print(var_dic_list())"
    },
    "r": {
     "delete_cmd_postfix": ") ",
     "delete_cmd_prefix": "rm(",
     "library": "var_list.r",
     "varRefreshCmd": "cat(var_dic_list()) "
    }
   },
   "types_to_exclude": [
    "module",
    "function",
    "builtin_function_or_method",
    "instance",
    "_Feature"
   ],
   "window_display": false
  }
 },
 "nbformat": 4,
 "nbformat_minor": 5
}
