{
 "cells": [
  {
   "cell_type": "markdown",
   "id": "95bb07b9",
   "metadata": {},
   "source": [
    "# RSOME in Python\n",
    "\n",
    "<br>\n",
    "\n",
    "`````{grid}\n",
    ":gutter: 3\n",
    "\n",
    "````{grid-item}\n",
    "\n",
    "```{card} <font size=\"4\"><b>RSOME 1.2.1</b></font> \n",
    ":link: https://pypi.org/project/rsome/\n",
    "\n",
    "Released on Jun 27, 2023\n",
    "```\n",
    "````\n",
    "\n",
    "````{grid-item}\n",
    "\n",
    "```{card} <font size=\"4\"><b>GitHub Repo</b></font> \n",
    ":link: https://pypi.org/project/rsome/\n",
    "\n",
    "Last commit in Jun, 2023\n",
    "```\n",
    "````\n",
    "\n",
    "````{grid-item}\n",
    "````\n",
    "\n",
    "`````\n",
    "\n",
    "\n",
    "<br>\n",
    "<font size='6'>Introduction</font>\n",
    "\n",
    "RSOME (Robust Stochastic Optimization Made Easy) stands as an open-source algebraic Python library designed to facilitate the modeling of diverse optimization problems in the presence of uncertainty.\n",
    "\n",
    "````{grid}\n",
    "\n",
    "```{grid-item-card} MODELING POWER\n",
    "Tailored modeling frameworks for robust and distributionally robust optimization.\n",
    "```\n",
    "\n",
    "```{grid-item-card} READABILITY\n",
    "Consistent with N-dimensional arrays and vectorized operations of the NumPy package.\n",
    "```\n",
    "\n",
    "```{grid-item-card} ACCESSIBILITY\n",
    "Distributed under a free [GPL V3.0 license](https://www.gnu.org/licenses/gpl-3.0.en.html) with the support to a great variety of [solvers](label-solver-installation).\n",
    "```\n",
    "````\n",
    "\n",
    "<br>\n",
    "<font size='6'>Citing RSOME</font>\n",
    "\n",
    "If you use RSOME in your research work, we would encourage you to cite our papers below.\n",
    "\n",
    "````{dropdown} Zhi Chen and Peng Xiong. RSOME in Python: an open-source package for robust stochastic optimization made easy. INFORMS Journal of Computing, 35(4):717–724, 2023.\n",
    "Bibtex entry:\n",
    "```bash\n",
    "@article{chen2021rsome,\n",
    "  title={{RSOME} in {Python}: An open-source package for robust stochastic optimization made easy},\n",
    "  author={Chen, Zhi and Xiong, Peng},\n",
    "  journal={INFORMS Journal of Computing},\n",
    "  volume={35},\n",
    "  number={4},\n",
    "  pages={717--724},\n",
    "  year = {2023},\n",
    "  publisher={INFORMS}\n",
    "}\n",
    "```\n",
    "````\n",
    "\n",
    "````{dropdown} Zhi Chen, Melvyn Sim, and Peng Xiong. Robust stochastic optimization made easy with RSOME. Management Science, 66(8):3329–3339, 2020.\n",
    "Bibtex entry:\n",
    "```bash\n",
    "@article{chen2020robust,\n",
    "  title={Robust stochastic optimization made easy with RSOME},\n",
    "  author={Chen, Zhi and Sim, Melvyn and Xiong, Peng},\n",
    "  journal={Management Science},\n",
    "  volume={66},\n",
    "  number={8},\n",
    "  pages={3329--3339},\n",
    "  year={2020},\n",
    "  publisher={INFORMS}\n",
    "}\n",
    "```\n",
    "````"
   ]
  },
  {
   "cell_type": "code",
   "execution_count": null,
   "id": "8d392fd2",
   "metadata": {},
   "outputs": [],
   "source": []
  }
 ],
 "metadata": {
  "kernelspec": {
   "display_name": "Python 3 (ipykernel)",
   "language": "python",
   "name": "python3"
  },
  "language_info": {
   "codemirror_mode": {
    "name": "ipython",
    "version": 3
   },
   "file_extension": ".py",
   "mimetype": "text/x-python",
   "name": "python",
   "nbconvert_exporter": "python",
   "pygments_lexer": "ipython3",
   "version": "3.10.11"
  },
  "varInspector": {
   "cols": {
    "lenName": 16,
    "lenType": 16,
    "lenVar": 40
   },
   "kernels_config": {
    "python": {
     "delete_cmd_postfix": "",
     "delete_cmd_prefix": "del ",
     "library": "var_list.py",
     "varRefreshCmd": "print(var_dic_list())"
    },
    "r": {
     "delete_cmd_postfix": ") ",
     "delete_cmd_prefix": "rm(",
     "library": "var_list.r",
     "varRefreshCmd": "cat(var_dic_list()) "
    }
   },
   "types_to_exclude": [
    "module",
    "function",
    "builtin_function_or_method",
    "instance",
    "_Feature"
   ],
   "window_display": false
  }
 },
 "nbformat": 4,
 "nbformat_minor": 5
}
