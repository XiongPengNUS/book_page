{
 "cells": [
  {
   "cell_type": "markdown",
   "id": "30fc0b5a",
   "metadata": {},
   "source": [
    "# Basics of RSOME\n",
    "\n",
    "RSOME, an open-source algebraic library, specializes in modeling generic optimization problems within uncertain environments. Offering a highly readable and mathematically intuitive modeling environment, RSOME is rooted in the state-of-the-art robust stochastic optimization framework.\n",
    "\n",
    "This guide serves as an introduction to the principal components, fundamental data structures, and syntax rules inherent to the RSOME package. For installation details, please refer to the [](install.ipynb) page for comprehensive information.\n",
    "\n",
    "(rsome_basics:modeling_env)= \n",
    "## Modeling Environments\n",
    "The RSOME package encompasses two key modules designed for formulating optimization problems within uncertain contexts:\n",
    "\n",
    "- The `ro` module is a specialized modeling framework tailored for robust optimization problems. It equips users with modeling tools explicitly crafted for creating uncertainty sets and defining affine decision rules in multi-stage decision-making scenarios.\n",
    "\n",
    "- The `dro` module builds upon the distributionally robust optimization framework introduced by {cite:ps}`Chen_Sim_Xiong_2020robust`. This module offers modeling tools for constructing event-wise ambiguity sets and specifying event-wise adaptation policies.\n",
    "\n",
    "(rsome_basics:intro_ro_env)= \n",
    "## Introduction to the `rsome.ro` Environment\n",
    "\n",
    "### Models\n",
    "In RSOME, all optimization models are specified based on a `Model` type object. Such an object is created by the constructor `Model()` imported from the `rsome.ro` modeling environment."
   ]
  },
  {
   "cell_type": "code",
   "execution_count": 1,
   "id": "b108e91c",
   "metadata": {},
   "outputs": [],
   "source": [
    "from rsome import ro            # import the ro modeling tool\n",
    "\n",
    "model = ro.Model('My model')    # create a Model object named 'My model'"
   ]
  },
  {
   "cell_type": "markdown",
   "id": "dd7b3cdd",
   "metadata": {},
   "source": [
    "The code above defines a new `Model` object `model`, with the name specified to be the string `'My model'`. You could also leave the name unspecified and the default name is `None`.\n",
    "\n",
    "### Decision Variables and Linear Constraints\n",
    "\n",
    "To define decision variables as arrays for the previously established model, you can utilize the statement `model.dvar(shape, vtype)`. In this context, the `shape` parameter designates the array's dimensions, while `vtype` specifies whether the variables are continuous ('C'), binary ('B'), or general integers ('I'). If left unspecified, the variables default to continuous. For instance:\n",
    "\n",
    "- `x` as a one-dimensional array with three integer decision variables;\n",
    "- `y` as a $3\\times 5$ array of 15 binary decision variables;\n",
    "- `z` as a $2\\times 3 \\times 4 \\times 5$ array of 120 continuous decision variables;\n",
    "\n",
    "can be defined by the following code segment."
   ]
  },
  {
   "cell_type": "code",
   "execution_count": 2,
   "id": "20842762",
   "metadata": {},
   "outputs": [],
   "source": [
    "x = model.dvar(3, vtype='I')    # 3 integer variables as a 1D array\n",
    "y = model.dvar((3, 5), 'B')     # 3x5 binary variables as a 2D array\n",
    "z = model.dvar((2, 3, 4, 5))    # 2x3x4x5 continuous variables as a 4D array"
   ]
  },
  {
   "cell_type": "code",
   "execution_count": 3,
   "id": "39880140",
   "metadata": {
    "tags": [
     "remove-input"
    ]
   },
   "outputs": [],
   "source": [
    "import numpy as np\n",
    "\n",
    "I, J = 7, 13\n",
    "\n",
    "A = np.random.rand(J, I)\n",
    "b = np.random.rand(I)\n",
    "c = np.random.rand(J)"
   ]
  },
  {
   "cell_type": "markdown",
   "id": "6a5c764a",
   "metadata": {},
   "source": [
    "RSOME variables, defined as arrays, seamlessly integrate with standard NumPy array operations for expressing linear constraints. This includes capabilities for element-wise computation, matrix calculations, broadcasting, indexing, slicing, and more. This compatibility empowers users to define constraint blocks efficiently using the array system. For instance, the following constraint system:\n",
    "\n",
    "```{math}\n",
    "\\begin{align}\n",
    "&\\sum\\limits_{i\\in[I]}b_ix_i = 1 && \\\\\n",
    "&\\sum\\limits_{i\\in[I]}A_{ji}x_i \\leq c_j && j\\in[J] \\\\\n",
    "&\\sum\\limits_{j\\in[J]}\\sum\\limits_{i\\in I}y_{ji} \\geq 1 &&\\\\\n",
    "&\\sum\\limits_{i\\in[I]}y_{ji} \\geq 0 && j\\in [J] \\\\\n",
    "&A_{ji}x_i \\geq 1 &&\\forall j\\in[J], i\\in[I] \\\\\n",
    "&A_{ji}y_{ji} + x_i \\geq 0 && \\forall j\\in [J], i\\in[I]\n",
    "\\end{align}\n",
    "```\n",
    "\n",
    "with decision variable $\\pmb{x}\\in\\mathbb{R}^I$ and $\\pmb{y}\\in\\mathbb{R}^{J\\times I}$, along with parameters $\\pmb{A}\\in\\mathbb{R}^{J\\times I}$, $\\pmb{b}\\in\\mathbb{R}^I$, and $\\pmb{c}\\in\\mathbb{R}^J$, can be conveniently expressed using the code segment provided below."
   ]
  },
  {
   "cell_type": "code",
   "execution_count": 4,
   "id": "cfbabe4f",
   "metadata": {
    "tags": [
     "remove-output"
    ]
   },
   "outputs": [
    {
     "data": {
      "text/plain": [
       "91 linear constraints"
      ]
     },
     "execution_count": 4,
     "metadata": {},
     "output_type": "execute_result"
    }
   ],
   "source": [
    "x = model.dvar(I)               # define x as a 1D array of I variables\n",
    "y = model.dvar((J, I))          # define y as a 2D array of JxI variables\n",
    "\n",
    "b @ x == 1                      \n",
    "A @ x <= c\n",
    "y.sum() >= 1\n",
    "y.sum(axis=1) >= 0\n",
    "A * x >= 1\n",
    "A*y + x >= 0"
   ]
  },
  {
   "cell_type": "markdown",
   "id": "c07c1951",
   "metadata": {},
   "source": [
    "RSOME arrays can also be used in specifying the objective function of the optimization model. Note that the objective function must be one affine expression. In other words, the `size` attribute of the expression must be one, otherwise an error message would be generated.\n",
    "\n",
    "```python\n",
    "model.min(b @ x)        # minimize the objective function b @ x\n",
    "model.max(b @ x)        # maximize the objective function b @ x\n",
    "```\n",
    "\n",
    "Model constraints can be specified by the method st(), which means \"subject to\". This method allows users to define their constraints in different ways."
   ]
  },
  {
   "cell_type": "code",
   "execution_count": 5,
   "id": "cbf0448c",
   "metadata": {
    "tags": [
     "remove-output"
    ]
   },
   "outputs": [
    {
     "data": {
      "text/plain": [
       "<generator object <genexpr> at 0x136ee5700>"
      ]
     },
     "execution_count": 5,
     "metadata": {},
     "output_type": "execute_result"
    }
   ],
   "source": [
    "model.st(A @ x <= c)                    # define one constraint\n",
    "\n",
    "model.st(y.sum() >= 1,\n",
    "         y.sum(axis=1) >= 0,\n",
    "         A*y + x >= 0)                  # define multiple constraints\n",
    "\n",
    "model.st(x[i] <= i for i in range(3))   # define constraints by a loop"
   ]
  },
  {
   "cell_type": "markdown",
   "id": "f112e0fd",
   "metadata": {},
   "source": [
    "### Convex Expressions and Convex Constraints\n",
    "\n",
    "The RSOME package also support a range of functions for specifying convex expressions and constraints. The definition and syntax of these functions closely parallel the universal functions found in the NumPy package, as outlined in the tables below.\n",
    "\n",
    "|Function| Description|\n",
    "|:-------|:--------------|\n",
    "|`abs(x)`|The element-wise absolute values of `x`. |\n",
    "|`entropy(x)`|The entropic expression `-sum(x * log(x))`. |\n",
    "|`exp(x)`|The element-wise natural exponential of `x`. |\n",
    "|`expcone(x, y, z)`| The exponential cone constraint `z * exp(x/z) <= y`. |\n",
    "|`kldiv(p, q, r)`| The KL divergence constraint `sum(p*log(p/q)) <= r`. |\n",
    "|`log(x)`|The element-wise natural logarithm of `x`.|\n",
    "|`norm(x, degree)`| The $L^p$-norm of the `x`, where the value of $p$ is specified by `degree`.|\n",
    "|`pexp(x, y)`|The element-wise perspective natural exponential `y * exp(x/y)`. |\n",
    "|`plog(x, y)`|The element-wise perspective natural logarithm `y * log(x/y)`. |\n",
    "|`quad(x, Q)`|The quadratic term `x @ Q @ x`. |\n",
    "|`rsocone(x, y, z)`| The rotated conic constraint `sumsqr(x) <= y*z`. |\n",
    "|`square(x)`|The element-wise squared values of `x`. |\n",
    "|`sumsqr(x)`|The sum of squares of `x`. |\n",
    "\n",
    "\n",
    "### Matrix Operations\n",
    "When working with matrices (2-D arrays), RSOME facilitates fundamental operations such as calculating the trace, extracting diagonal elements, accessing upper/lower triangular elements, and concatenating arrays. Functions executing such operations are summarized in the following table. \n",
    "\n",
    "|Function&nbsp;&nbsp;&nbsp;&nbsp;&nbsp;&nbsp;&nbsp;&nbsp;&nbsp;&nbsp;&nbsp;&nbsp;&nbsp;&nbsp;&nbsp;&nbsp;&nbsp;&nbsp;&nbsp;&nbsp;&nbsp;&nbsp;&nbsp;&nbsp;&nbsp;&nbsp;&nbsp;&nbsp;&nbsp;&nbsp;&nbsp;&nbsp;&nbsp;&nbsp;&nbsp;&nbsp;| Description|\n",
    "|:-------|:--------------|\n",
    "|`concat(arrays, axis)`| Concatenated arrays along the axes specified by `axis`.|\n",
    "|`cstack(c1, ..., cn)`|An array formed by stacking the iven arrays along axis 1. |\n",
    "|`diag(x, k, fill)`| The diagonal elements of a two-dimensional array `x`. |\n",
    "|`rstack(r1, ..., rn)`|An array formed by stacking the given arrays along axis 0. |\n",
    "|`trace(x)`| The trace of a 2-D array `x`. |\n",
    "|`tril(x, k)`| The lower triangular elements of a two-dimensional array `x`. The integer `k` (`k=0` by default) specifies the shifts of the taken triangular elements.|\n",
    "|`triu(x, k)`| The upper triangular elements of a two-dimensional array `x`. The integer `k` (`k=0` by default) specifies the shifts of the taken triangular elements.|\n",
    "\n",
    "RSOME also supports defining semidefiniteness constraints or linear matrix inequalities that enforce an array `X` to be positive semidefinite (`X >> 0`) or negative semidefinite (`X << 0`). For instance, the constraint\n",
    "\n",
    "```{math}\n",
    "\\left(\n",
    "\\begin{array}{cc}\n",
    "A & Z \\\\\n",
    "Z^{\\top} & \\text{diag}(Z)\n",
    "\\end{array}\n",
    "\\right) \\succeq 0\n",
    "```\n",
    "\n",
    "with $A\\in\\mathbb{R}^{n\\times n}$ and $Z$ being a lower triangular matrix, can be written as the following Python code,"
   ]
  },
  {
   "cell_type": "code",
   "execution_count": 6,
   "id": "05b05661",
   "metadata": {
    "tags": [
     "remove-input"
    ]
   },
   "outputs": [],
   "source": [
    "n = 5"
   ]
  },
  {
   "cell_type": "code",
   "execution_count": 7,
   "id": "b16b4330",
   "metadata": {
    "tags": [
     "remove-output"
    ]
   },
   "outputs": [
    {
     "data": {
      "text/plain": [
       "10x10 linear matrix inequliaty constraint"
      ]
     },
     "execution_count": 7,
     "metadata": {},
     "output_type": "execute_result"
    }
   ],
   "source": [
    "import rsome as rso\n",
    "from rsome import ro\n",
    "\n",
    "model = ro.Model()\n",
    "\n",
    "A = model.dvar((n, n))\n",
    "Z = rso.tril(model.dvar((n, n)))\n",
    "\n",
    "model.st(rso.rstack([A, Z], \n",
    "                    [Z.T, rso.diag(Z, fill=True)]) >> 0)"
   ]
  },
  {
   "cell_type": "markdown",
   "id": "91bc4cfd",
   "metadata": {},
   "source": [
    "or equivalently,"
   ]
  },
  {
   "cell_type": "code",
   "execution_count": 8,
   "id": "f68b9276",
   "metadata": {
    "tags": [
     "remove-output"
    ]
   },
   "outputs": [
    {
     "data": {
      "text/plain": [
       "10x10 linear matrix inequliaty constraint"
      ]
     },
     "execution_count": 8,
     "metadata": {},
     "output_type": "execute_result"
    }
   ],
   "source": [
    "import rsome as rso\n",
    "from rsome import ro\n",
    "\n",
    "model = ro.Model()\n",
    "\n",
    "A = model.dvar((n, n))\n",
    "Z = rso.tril(model.dvar((n, n)))\n",
    "\n",
    "model.st(rso.cstack([A, Z.T], \n",
    "                    [Z, rso.diag(Z, fill=True)]) >> 0)"
   ]
  },
  {
   "cell_type": "markdown",
   "id": "a06d49ee",
   "metadata": {},
   "source": [
    "In this example, the `T` attribute of an RSOME array is consistent with the transpose operations of NumPy arrays, functions `rstack()` and `cstack()` are used to create new arrays by stacking rows or columns together, respectively. \n",
    "\n",
    "(rsome_basics:sform_sol)= \n",
    "## Standard Forms and Solutions \n",
    "\n",
    "Every RSOME model undergoes transformation into its standard form, subsequently solved through the solver interface. The standard form of either the primal (default case) or dual problem, can be accessed using the `do_math()` method of the model object. Refer to the sample code below for illustration."
   ]
  },
  {
   "cell_type": "code",
   "execution_count": 9,
   "id": "551b556f",
   "metadata": {},
   "outputs": [],
   "source": [
    "from rsome import ro\n",
    "import rsome as rso\n",
    "import numpy as np\n",
    "\n",
    "\n",
    "n = 3\n",
    "np.random.seed(1)\n",
    "c = np.random.normal(size=n)\n",
    "\n",
    "model = ro.Model()\n",
    "x = model.dvar(n)\n",
    "\n",
    "model.max(c @ x)\n",
    "model.st(rso.norm(x) <= 1)\n",
    "\n",
    "primal = model.do_math()            # standard form of the primal problem by defualt\n",
    "dual = model.do_math(primal=False)  # standard form of the dual problem"
   ]
  },
  {
   "cell_type": "code",
   "execution_count": 10,
   "id": "4df56fab",
   "metadata": {},
   "outputs": [
    {
     "data": {
      "text/plain": [
       "Conic program object:\n",
       "=============================================\n",
       "Number of variables:           8\n",
       "Continuous/binaries/integers:  8/0/0\n",
       "---------------------------------------------\n",
       "Number of linear constraints:  5\n",
       "Inequalities/equalities:       2/3\n",
       "Number of coefficients:        11\n",
       "---------------------------------------------\n",
       "Number of SOC constraints:     1\n",
       "---------------------------------------------\n",
       "Number of ExpCone constraints: 0\n",
       "---------------------------------------------\n",
       "Number of PSCone constraints:  0"
      ]
     },
     "execution_count": 10,
     "metadata": {},
     "output_type": "execute_result"
    }
   ],
   "source": [
    "primal"
   ]
  },
  {
   "cell_type": "code",
   "execution_count": 11,
   "id": "9033d699",
   "metadata": {
    "scrolled": true
   },
   "outputs": [
    {
     "data": {
      "text/plain": [
       "Conic program object:\n",
       "=============================================\n",
       "Number of variables:           5\n",
       "Continuous/binaries/integers:  5/0/0\n",
       "---------------------------------------------\n",
       "Number of linear constraints:  4\n",
       "Inequalities/equalities:       0/4\n",
       "Number of coefficients:        7\n",
       "---------------------------------------------\n",
       "Number of SOC constraints:     1\n",
       "---------------------------------------------\n",
       "Number of ExpCone constraints: 0\n",
       "---------------------------------------------\n",
       "Number of PSCone constraints:  0"
      ]
     },
     "execution_count": 11,
     "metadata": {},
     "output_type": "execute_result"
    }
   ],
   "source": [
    "dual"
   ]
  },
  {
   "cell_type": "markdown",
   "id": "e057390d",
   "metadata": {},
   "source": [
    "Further insights into the standard format are available through the `show()` method, presenting comprehensive information on variables, objectives, and constraints in a Pandas data frame. "
   ]
  },
  {
   "cell_type": "code",
   "execution_count": 12,
   "id": "1656f9b3",
   "metadata": {},
   "outputs": [
    {
     "data": {
      "text/html": [
       "<div>\n",
       "<style scoped>\n",
       "    .dataframe tbody tr th:only-of-type {\n",
       "        vertical-align: middle;\n",
       "    }\n",
       "\n",
       "    .dataframe tbody tr th {\n",
       "        vertical-align: top;\n",
       "    }\n",
       "\n",
       "    .dataframe thead th {\n",
       "        text-align: right;\n",
       "    }\n",
       "</style>\n",
       "<table border=\"1\" class=\"dataframe\">\n",
       "  <thead>\n",
       "    <tr style=\"text-align: right;\">\n",
       "      <th></th>\n",
       "      <th>x1</th>\n",
       "      <th>x2</th>\n",
       "      <th>x3</th>\n",
       "      <th>x4</th>\n",
       "      <th>x5</th>\n",
       "      <th>x6</th>\n",
       "      <th>x7</th>\n",
       "      <th>x8</th>\n",
       "      <th>sense</th>\n",
       "      <th>constant</th>\n",
       "    </tr>\n",
       "  </thead>\n",
       "  <tbody>\n",
       "    <tr>\n",
       "      <th>Obj</th>\n",
       "      <td>1.0</td>\n",
       "      <td>0.0</td>\n",
       "      <td>0.0</td>\n",
       "      <td>0.0</td>\n",
       "      <td>0.0</td>\n",
       "      <td>0.0</td>\n",
       "      <td>0.0</td>\n",
       "      <td>0.0</td>\n",
       "      <td>-</td>\n",
       "      <td>-</td>\n",
       "    </tr>\n",
       "    <tr>\n",
       "      <th>LC1</th>\n",
       "      <td>0.0</td>\n",
       "      <td>1.0</td>\n",
       "      <td>0.0</td>\n",
       "      <td>0.0</td>\n",
       "      <td>-1.0</td>\n",
       "      <td>0.0</td>\n",
       "      <td>0.0</td>\n",
       "      <td>0.0</td>\n",
       "      <td>==</td>\n",
       "      <td>-0.0</td>\n",
       "    </tr>\n",
       "    <tr>\n",
       "      <th>LC2</th>\n",
       "      <td>0.0</td>\n",
       "      <td>0.0</td>\n",
       "      <td>1.0</td>\n",
       "      <td>0.0</td>\n",
       "      <td>0.0</td>\n",
       "      <td>-1.0</td>\n",
       "      <td>0.0</td>\n",
       "      <td>0.0</td>\n",
       "      <td>==</td>\n",
       "      <td>-0.0</td>\n",
       "    </tr>\n",
       "    <tr>\n",
       "      <th>LC3</th>\n",
       "      <td>0.0</td>\n",
       "      <td>0.0</td>\n",
       "      <td>0.0</td>\n",
       "      <td>1.0</td>\n",
       "      <td>0.0</td>\n",
       "      <td>0.0</td>\n",
       "      <td>-1.0</td>\n",
       "      <td>0.0</td>\n",
       "      <td>==</td>\n",
       "      <td>-0.0</td>\n",
       "    </tr>\n",
       "    <tr>\n",
       "      <th>LC4</th>\n",
       "      <td>0.0</td>\n",
       "      <td>0.0</td>\n",
       "      <td>0.0</td>\n",
       "      <td>0.0</td>\n",
       "      <td>0.0</td>\n",
       "      <td>0.0</td>\n",
       "      <td>0.0</td>\n",
       "      <td>1.0</td>\n",
       "      <td>&lt;=</td>\n",
       "      <td>1.0</td>\n",
       "    </tr>\n",
       "    <tr>\n",
       "      <th>LC5</th>\n",
       "      <td>-1.0</td>\n",
       "      <td>-1.624345</td>\n",
       "      <td>0.611756</td>\n",
       "      <td>0.528172</td>\n",
       "      <td>0.0</td>\n",
       "      <td>0.0</td>\n",
       "      <td>0.0</td>\n",
       "      <td>0.0</td>\n",
       "      <td>&lt;=</td>\n",
       "      <td>-0.0</td>\n",
       "    </tr>\n",
       "    <tr>\n",
       "      <th>QC1</th>\n",
       "      <td>0.0</td>\n",
       "      <td>0.0</td>\n",
       "      <td>0.0</td>\n",
       "      <td>0.0</td>\n",
       "      <td>1.0</td>\n",
       "      <td>1.0</td>\n",
       "      <td>1.0</td>\n",
       "      <td>-1.0</td>\n",
       "      <td>&lt;=</td>\n",
       "      <td>0.0</td>\n",
       "    </tr>\n",
       "    <tr>\n",
       "      <th>UB</th>\n",
       "      <td>inf</td>\n",
       "      <td>inf</td>\n",
       "      <td>inf</td>\n",
       "      <td>inf</td>\n",
       "      <td>inf</td>\n",
       "      <td>inf</td>\n",
       "      <td>inf</td>\n",
       "      <td>inf</td>\n",
       "      <td>-</td>\n",
       "      <td>-</td>\n",
       "    </tr>\n",
       "    <tr>\n",
       "      <th>LB</th>\n",
       "      <td>-inf</td>\n",
       "      <td>-inf</td>\n",
       "      <td>-inf</td>\n",
       "      <td>-inf</td>\n",
       "      <td>-inf</td>\n",
       "      <td>-inf</td>\n",
       "      <td>-inf</td>\n",
       "      <td>0.0</td>\n",
       "      <td>-</td>\n",
       "      <td>-</td>\n",
       "    </tr>\n",
       "    <tr>\n",
       "      <th>Type</th>\n",
       "      <td>C</td>\n",
       "      <td>C</td>\n",
       "      <td>C</td>\n",
       "      <td>C</td>\n",
       "      <td>C</td>\n",
       "      <td>C</td>\n",
       "      <td>C</td>\n",
       "      <td>C</td>\n",
       "      <td>-</td>\n",
       "      <td>-</td>\n",
       "    </tr>\n",
       "  </tbody>\n",
       "</table>\n",
       "</div>"
      ],
      "text/plain": [
       "       x1        x2        x3        x4   x5   x6   x7   x8 sense constant\n",
       "Obj   1.0       0.0       0.0       0.0  0.0  0.0  0.0  0.0     -        -\n",
       "LC1   0.0       1.0       0.0       0.0 -1.0  0.0  0.0  0.0    ==     -0.0\n",
       "LC2   0.0       0.0       1.0       0.0  0.0 -1.0  0.0  0.0    ==     -0.0\n",
       "LC3   0.0       0.0       0.0       1.0  0.0  0.0 -1.0  0.0    ==     -0.0\n",
       "LC4   0.0       0.0       0.0       0.0  0.0  0.0  0.0  1.0    <=      1.0\n",
       "LC5  -1.0 -1.624345  0.611756  0.528172  0.0  0.0  0.0  0.0    <=     -0.0\n",
       "QC1   0.0       0.0       0.0       0.0  1.0  1.0  1.0 -1.0    <=      0.0\n",
       "UB    inf       inf       inf       inf  inf  inf  inf  inf     -        -\n",
       "LB   -inf      -inf      -inf      -inf -inf -inf -inf  0.0     -        -\n",
       "Type    C         C         C         C    C    C    C    C     -        -"
      ]
     },
     "execution_count": 12,
     "metadata": {},
     "output_type": "execute_result"
    }
   ],
   "source": [
    "primal.show()"
   ]
  },
  {
   "cell_type": "code",
   "execution_count": 13,
   "id": "886e81b6",
   "metadata": {
    "scrolled": true
   },
   "outputs": [
    {
     "data": {
      "text/html": [
       "<div>\n",
       "<style scoped>\n",
       "    .dataframe tbody tr th:only-of-type {\n",
       "        vertical-align: middle;\n",
       "    }\n",
       "\n",
       "    .dataframe tbody tr th {\n",
       "        vertical-align: top;\n",
       "    }\n",
       "\n",
       "    .dataframe thead th {\n",
       "        text-align: right;\n",
       "    }\n",
       "</style>\n",
       "<table border=\"1\" class=\"dataframe\">\n",
       "  <thead>\n",
       "    <tr style=\"text-align: right;\">\n",
       "      <th></th>\n",
       "      <th>x1</th>\n",
       "      <th>x2</th>\n",
       "      <th>x3</th>\n",
       "      <th>x4</th>\n",
       "      <th>x5</th>\n",
       "      <th>sense</th>\n",
       "      <th>constant</th>\n",
       "    </tr>\n",
       "  </thead>\n",
       "  <tbody>\n",
       "    <tr>\n",
       "      <th>Obj</th>\n",
       "      <td>0.0</td>\n",
       "      <td>0.0</td>\n",
       "      <td>0.0</td>\n",
       "      <td>1.0</td>\n",
       "      <td>0.0</td>\n",
       "      <td>-</td>\n",
       "      <td>-</td>\n",
       "    </tr>\n",
       "    <tr>\n",
       "      <th>LC1</th>\n",
       "      <td>0.0</td>\n",
       "      <td>0.0</td>\n",
       "      <td>0.0</td>\n",
       "      <td>0.0</td>\n",
       "      <td>-1.0</td>\n",
       "      <td>==</td>\n",
       "      <td>1.0</td>\n",
       "    </tr>\n",
       "    <tr>\n",
       "      <th>LC2</th>\n",
       "      <td>1.0</td>\n",
       "      <td>0.0</td>\n",
       "      <td>0.0</td>\n",
       "      <td>0.0</td>\n",
       "      <td>-1.624345</td>\n",
       "      <td>==</td>\n",
       "      <td>0.0</td>\n",
       "    </tr>\n",
       "    <tr>\n",
       "      <th>LC3</th>\n",
       "      <td>0.0</td>\n",
       "      <td>1.0</td>\n",
       "      <td>0.0</td>\n",
       "      <td>0.0</td>\n",
       "      <td>0.611756</td>\n",
       "      <td>==</td>\n",
       "      <td>0.0</td>\n",
       "    </tr>\n",
       "    <tr>\n",
       "      <th>LC4</th>\n",
       "      <td>0.0</td>\n",
       "      <td>0.0</td>\n",
       "      <td>1.0</td>\n",
       "      <td>0.0</td>\n",
       "      <td>0.528172</td>\n",
       "      <td>==</td>\n",
       "      <td>0.0</td>\n",
       "    </tr>\n",
       "    <tr>\n",
       "      <th>QC1</th>\n",
       "      <td>1.0</td>\n",
       "      <td>1.0</td>\n",
       "      <td>1.0</td>\n",
       "      <td>-1.0</td>\n",
       "      <td>0.0</td>\n",
       "      <td>&lt;=</td>\n",
       "      <td>0.0</td>\n",
       "    </tr>\n",
       "    <tr>\n",
       "      <th>UB</th>\n",
       "      <td>inf</td>\n",
       "      <td>inf</td>\n",
       "      <td>inf</td>\n",
       "      <td>inf</td>\n",
       "      <td>0.0</td>\n",
       "      <td>-</td>\n",
       "      <td>-</td>\n",
       "    </tr>\n",
       "    <tr>\n",
       "      <th>LB</th>\n",
       "      <td>-inf</td>\n",
       "      <td>-inf</td>\n",
       "      <td>-inf</td>\n",
       "      <td>0.0</td>\n",
       "      <td>-inf</td>\n",
       "      <td>-</td>\n",
       "      <td>-</td>\n",
       "    </tr>\n",
       "    <tr>\n",
       "      <th>Type</th>\n",
       "      <td>C</td>\n",
       "      <td>C</td>\n",
       "      <td>C</td>\n",
       "      <td>C</td>\n",
       "      <td>C</td>\n",
       "      <td>-</td>\n",
       "      <td>-</td>\n",
       "    </tr>\n",
       "  </tbody>\n",
       "</table>\n",
       "</div>"
      ],
      "text/plain": [
       "       x1   x2   x3   x4        x5 sense constant\n",
       "Obj   0.0  0.0  0.0  1.0       0.0     -        -\n",
       "LC1   0.0  0.0  0.0  0.0      -1.0    ==      1.0\n",
       "LC2   1.0  0.0  0.0  0.0 -1.624345    ==      0.0\n",
       "LC3   0.0  1.0  0.0  0.0  0.611756    ==      0.0\n",
       "LC4   0.0  0.0  1.0  0.0  0.528172    ==      0.0\n",
       "QC1   1.0  1.0  1.0 -1.0       0.0    <=      0.0\n",
       "UB    inf  inf  inf  inf       0.0     -        -\n",
       "LB   -inf -inf -inf  0.0      -inf     -        -\n",
       "Type    C    C    C    C         C     -        -"
      ]
     },
     "execution_count": 13,
     "metadata": {},
     "output_type": "execute_result"
    }
   ],
   "source": [
    "dual.show()"
   ]
  },
  {
   "cell_type": "markdown",
   "id": "7d98fc7a",
   "metadata": {},
   "source": [
    "The standard form of a model can be solved by calling the `solve()` method of the `Model` object. The first argument `solver` is used to specify the selected solver interface. If the solver is unspecified, the default linear optimization solver imported from the the `scipy.optimize` module is used for solving the model. RSOME is also compatible with a range of open-source and commercial solvers.  Comprehensive information about the supported solvers is outlined in the table below.\n",
    "\n",
    "| Solver | RSOME interface | SOCP| ECP | SDP\n",
    "|:-------|:--------------|:-----------------|:----------------|:------------------------|\n",
    "|`scipy.optimize`| `lpg_solver` | No | No | No |\n",
    "|CyLP | `clp_solver` | No | No | No |\n",
    "|OR-Tools | `ort_solver` | No | No | No |\n",
    "|ECOS | `eco_solver` | Yes | Yes | No |\n",
    "|Gurobi | `grb_solver` | Yes | No | No |\n",
    "|Mosek | `msk_solver` | Yes | Yes | Yes |\n",
    "|CPLEX| `cpx_solver` | Yes | No | No |\n",
    "|COPT| `cpt_solver` | Yes | No | No |\n",
    "\n",
    "The model above involves second-order cone constraints, so we could use ECOS, Gurobi, Mosek, CPLEX, or COPT to solve it. The interfaces for these solvers are imported by the following commands."
   ]
  },
  {
   "cell_type": "code",
   "execution_count": 14,
   "id": "cb8f6276",
   "metadata": {
    "scrolled": true
   },
   "outputs": [],
   "source": [
    "from rsome import eco_solver as eco\n",
    "from rsome import grb_solver as grb\n",
    "from rsome import msk_solver as msk\n",
    "from rsome import cpx_solver as cpx\n",
    "from rsome import cpt_solver as cpt"
   ]
  },
  {
   "cell_type": "markdown",
   "id": "c77962da",
   "metadata": {},
   "source": [
    "The interfaces can be then used to attain the solution."
   ]
  },
  {
   "cell_type": "code",
   "execution_count": 15,
   "id": "f1a2315a",
   "metadata": {
    "scrolled": true
   },
   "outputs": [
    {
     "name": "stdout",
     "output_type": "stream",
     "text": [
      "Being solved by ECOS...\n",
      "Solution status: Optimal solution found\n",
      "Running time: 0.0004s\n"
     ]
    }
   ],
   "source": [
    "model.solve(eco)"
   ]
  },
  {
   "cell_type": "code",
   "execution_count": 16,
   "id": "d0f7a100",
   "metadata": {
    "tags": [
     "remove-input",
     "remove-output"
    ]
   },
   "outputs": [
    {
     "name": "stdout",
     "output_type": "stream",
     "text": [
      "Set parameter Username\n",
      "Academic license - for non-commercial use only - expires 2024-11-28\n",
      "Being solved by Gurobi...\n",
      "Solution status: 2\n",
      "Running time: 0.0010s\n"
     ]
    }
   ],
   "source": [
    "model.solve(grb)"
   ]
  },
  {
   "cell_type": "code",
   "execution_count": 17,
   "id": "9198a9f9",
   "metadata": {},
   "outputs": [
    {
     "name": "stdout",
     "output_type": "stream",
     "text": [
      "Being solved by Gurobi...\n",
      "Solution status: 2\n",
      "Running time: 0.0006s\n"
     ]
    }
   ],
   "source": [
    "model.solve(grb)"
   ]
  },
  {
   "cell_type": "code",
   "execution_count": 18,
   "id": "0153417e",
   "metadata": {},
   "outputs": [
    {
     "name": "stdout",
     "output_type": "stream",
     "text": [
      "Being solved by Mosek...\n",
      "Solution status: Optimal\n",
      "Running time: 0.0116s\n"
     ]
    }
   ],
   "source": [
    "model.solve(msk)"
   ]
  },
  {
   "cell_type": "code",
   "execution_count": 19,
   "id": "67b46404",
   "metadata": {},
   "outputs": [
    {
     "name": "stdout",
     "output_type": "stream",
     "text": [
      "Being solved by CPLEX...\n",
      "Solution status: optimal\n",
      "Running time: 0.0062s\n"
     ]
    }
   ],
   "source": [
    "model.solve(cpx)"
   ]
  },
  {
   "cell_type": "code",
   "execution_count": 20,
   "id": "672ed519",
   "metadata": {
    "scrolled": false
   },
   "outputs": [
    {
     "name": "stdout",
     "output_type": "stream",
     "text": [
      "Cardinal Optimizer v6.5.3. Build date Apr 28 2023\n",
      "Copyright Cardinal Operations 2023. All Rights Reserved\n",
      "\n",
      "Being solved by COPT...\n",
      "Solution status: 1\n",
      "Running time: 0.0021s\n"
     ]
    }
   ],
   "source": [
    "model.solve(cpt)"
   ]
  },
  {
   "cell_type": "markdown",
   "id": "f4f1d2af",
   "metadata": {},
   "source": [
    "It can be seen that as the model is solved, a three-line message is displayed in terms of 1) the solver used for solving the model; 2) the solution status; and 3) the solution time. This three-line message can be disabled by specifying the second argument `display` to be `False`.\n",
    "\n",
    "The third argument `params` is used to tune solver parameters. The current RSOME package enables users to adjust parameters for Gurobi, MOSEK, and CPLEX. The `params` argument is a `dict` type object in the format of `{<param1>: <value1>, <param2>: <value2>, <param3>: <value3>, ..., <paramk>: <valuek>}`. Information on solver parameters and their valid values are provided below. Please make sure that you are specifying parameters with the correct data type, otherwise error messages might be raised.\n",
    "- Gurobi parameters: [https://www.gurobi.com/documentation/current/refman/parameters.html](https://www.gurobi.com/documentation/current/refman/parameters.html)\n",
    "- MOSEK parameters: [https://docs.mosek.com/latest/pythonapi/parameters.html](https://docs.mosek.com/latest/pythonapi/parameters.html)\n",
    "- CPLEX parameters: [https://www.ibm.com/docs/en/icos/20.1.0?topic=tutorial-using-cplex-parameters-in-cplex-python-api](https://www.ibm.com/docs/en/icos/20.1.0?topic=tutorial-using-cplex-parameters-in-cplex-python-api)\n",
    "\n",
    "\n",
    "For example, the following code solves the problem using Gurobi, MOSEK, and CPLEX, respectively, with the relative MIP gap tolerance to be `1e-3`."
   ]
  },
  {
   "cell_type": "code",
   "execution_count": 21,
   "id": "33c49bc0",
   "metadata": {
    "scrolled": true,
    "tags": [
     "remove-output"
    ]
   },
   "outputs": [
    {
     "name": "stdout",
     "output_type": "stream",
     "text": [
      "Being solved by Gurobi...\n",
      "Solution status: 2\n",
      "Running time: 0.0010s\n",
      "Being solved by Mosek...\n",
      "Solution status: Optimal\n",
      "Running time: 0.0029s\n",
      "Being solved by CPLEX...\n",
      "Solution status: optimal\n",
      "Running time: 0.0051s\n"
     ]
    }
   ],
   "source": [
    "model.solve(grb, params={'MIPGap': 1e-3})\n",
    "model.solve(msk, params={'mioTolRelGap': 1e-3})\n",
    "model.solve(cpx, params={'mip.tolerances.mipgap': 1e-3})"
   ]
  },
  {
   "cell_type": "markdown",
   "id": "3a2daba7",
   "metadata": {},
   "source": [
    "Once the optimization problem is solved, you may use the command `model.get()` to retrieve the optimal objective value. The optimal solution of the variable `x` can be attained as an array by calling `x.get()`. The `get()` method raises an error message if the optimization problem is unsolved, or the optimal solution cannot be found due to infeasibility, unboundedness, or numerical issues. \n",
    "\n",
    "(rsome_basics:examples)= \n",
    "## Application Examples\n",
    "- [Mean-Variance Portfolio](example_mean_variance_portfolio.ipynb)\n",
    "- [Integer Programming for Sudoku](example_sudoku.ipynb)\n",
    "- [Optimal DC Power Flow](example_dc_opf.ipynb)\n",
    "- [Conic Relaxation of Optimal AC Power Flows](example_ac_opf.ipynb)\n",
    "- [The Unit Commitment Problem](example_uc.ipynb)\n",
    "- [Box with the Maximum Volume](example_max_box.ipynb)\n",
    "- [Minimal Enclosing Ellipsoid](example_min_ellipsoid.ipynb)\n",
    "- [Logistic Regression](example_logit.ipynb)"
   ]
  },
  {
   "cell_type": "markdown",
   "id": "b50c990a",
   "metadata": {},
   "source": [
    "<br>\n",
    "<br>\n",
    "\n",
    "<font size=\"5\">Reference</font>\n",
    "\n",
    "```{bibliography}\n",
    ":filter: docname in docnames\n",
    "```"
   ]
  },
  {
   "cell_type": "code",
   "execution_count": null,
   "id": "f8c375db",
   "metadata": {},
   "outputs": [],
   "source": []
  }
 ],
 "metadata": {
  "celltoolbar": "Edit Metadata",
  "kernelspec": {
   "display_name": "Python 3 (ipykernel)",
   "language": "python",
   "name": "python3"
  },
  "language_info": {
   "codemirror_mode": {
    "name": "ipython",
    "version": 3
   },
   "file_extension": ".py",
   "mimetype": "text/x-python",
   "name": "python",
   "nbconvert_exporter": "python",
   "pygments_lexer": "ipython3",
   "version": "3.10.11"
  },
  "varInspector": {
   "cols": {
    "lenName": 16,
    "lenType": 16,
    "lenVar": 40
   },
   "kernels_config": {
    "python": {
     "delete_cmd_postfix": "",
     "delete_cmd_prefix": "del ",
     "library": "var_list.py",
     "varRefreshCmd": "print(var_dic_list())"
    },
    "r": {
     "delete_cmd_postfix": ") ",
     "delete_cmd_prefix": "rm(",
     "library": "var_list.r",
     "varRefreshCmd": "cat(var_dic_list()) "
    }
   },
   "types_to_exclude": [
    "module",
    "function",
    "builtin_function_or_method",
    "instance",
    "_Feature"
   ],
   "window_display": false
  }
 },
 "nbformat": 4,
 "nbformat_minor": 5
}
